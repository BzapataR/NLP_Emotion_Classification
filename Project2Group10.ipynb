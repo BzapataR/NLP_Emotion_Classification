{
 "nbformat": 4,
 "nbformat_minor": 0,
 "metadata": {
  "colab": {
   "provenance": []
  },
  "kernelspec": {
   "name": "python3",
   "display_name": "Python 3 (ipykernel)",
   "language": "python"
  },
  "language_info": {
   "name": "python"
  },
  "widgets": {
   "application/vnd.jupyter.widget-state+json": {
    "16eda9abf3474e22b8ac876bbf62263e": {
     "model_module": "@jupyter-widgets/controls",
     "model_name": "HBoxModel",
     "model_module_version": "1.5.0",
     "state": {
      "_dom_classes": [],
      "_model_module": "@jupyter-widgets/controls",
      "_model_module_version": "1.5.0",
      "_model_name": "HBoxModel",
      "_view_count": null,
      "_view_module": "@jupyter-widgets/controls",
      "_view_module_version": "1.5.0",
      "_view_name": "HBoxView",
      "box_style": "",
      "children": [
       "IPY_MODEL_1dd44b212c894154ae3a32591bd1d1f4",
       "IPY_MODEL_fccf715aa1984e9ba3fa8bef46a0359b",
       "IPY_MODEL_c9270977c2e8455091eb209ac72d1cc0"
      ],
      "layout": "IPY_MODEL_e51b345a43c7493ca64d562c5ff001eb"
     }
    },
    "1dd44b212c894154ae3a32591bd1d1f4": {
     "model_module": "@jupyter-widgets/controls",
     "model_name": "HTMLModel",
     "model_module_version": "1.5.0",
     "state": {
      "_dom_classes": [],
      "_model_module": "@jupyter-widgets/controls",
      "_model_module_version": "1.5.0",
      "_model_name": "HTMLModel",
      "_view_count": null,
      "_view_module": "@jupyter-widgets/controls",
      "_view_module_version": "1.5.0",
      "_view_name": "HTMLView",
      "description": "",
      "description_tooltip": null,
      "layout": "IPY_MODEL_dd9e7f968b754883b4041f97e010e54e",
      "placeholder": "​",
      "style": "IPY_MODEL_c202fed41cf848f480079b6d874a8618",
      "value": ""
     }
    },
    "fccf715aa1984e9ba3fa8bef46a0359b": {
     "model_module": "@jupyter-widgets/controls",
     "model_name": "FloatProgressModel",
     "model_module_version": "1.5.0",
     "state": {
      "_dom_classes": [],
      "_model_module": "@jupyter-widgets/controls",
      "_model_module_version": "1.5.0",
      "_model_name": "FloatProgressModel",
      "_view_count": null,
      "_view_module": "@jupyter-widgets/controls",
      "_view_module_version": "1.5.0",
      "_view_name": "ProgressView",
      "bar_style": "success",
      "description": "",
      "description_tooltip": null,
      "layout": "IPY_MODEL_d016aa0163d0401d9e77c2c41f32d328",
      "max": 1,
      "min": 0,
      "orientation": "horizontal",
      "style": "IPY_MODEL_9ff9f596bd0547049310f802b37f96ad",
      "value": 0
     }
    },
    "c9270977c2e8455091eb209ac72d1cc0": {
     "model_module": "@jupyter-widgets/controls",
     "model_name": "HTMLModel",
     "model_module_version": "1.5.0",
     "state": {
      "_dom_classes": [],
      "_model_module": "@jupyter-widgets/controls",
      "_model_module_version": "1.5.0",
      "_model_name": "HTMLModel",
      "_view_count": null,
      "_view_module": "@jupyter-widgets/controls",
      "_view_module_version": "1.5.0",
      "_view_name": "HTMLView",
      "description": "",
      "description_tooltip": null,
      "layout": "IPY_MODEL_de31544f36064c1ea1c383959e92bf44",
      "placeholder": "​",
      "style": "IPY_MODEL_61a7c80bc1414fdb9baefacb69d020c9",
      "value": " 0/0 [00:00&lt;?, ?it/s]"
     }
    },
    "e51b345a43c7493ca64d562c5ff001eb": {
     "model_module": "@jupyter-widgets/base",
     "model_name": "LayoutModel",
     "model_module_version": "1.2.0",
     "state": {
      "_model_module": "@jupyter-widgets/base",
      "_model_module_version": "1.2.0",
      "_model_name": "LayoutModel",
      "_view_count": null,
      "_view_module": "@jupyter-widgets/base",
      "_view_module_version": "1.2.0",
      "_view_name": "LayoutView",
      "align_content": null,
      "align_items": null,
      "align_self": null,
      "border": null,
      "bottom": null,
      "display": null,
      "flex": null,
      "flex_flow": null,
      "grid_area": null,
      "grid_auto_columns": null,
      "grid_auto_flow": null,
      "grid_auto_rows": null,
      "grid_column": null,
      "grid_gap": null,
      "grid_row": null,
      "grid_template_areas": null,
      "grid_template_columns": null,
      "grid_template_rows": null,
      "height": null,
      "justify_content": null,
      "justify_items": null,
      "left": null,
      "margin": null,
      "max_height": null,
      "max_width": null,
      "min_height": null,
      "min_width": null,
      "object_fit": null,
      "object_position": null,
      "order": null,
      "overflow": null,
      "overflow_x": null,
      "overflow_y": null,
      "padding": null,
      "right": null,
      "top": null,
      "visibility": null,
      "width": null
     }
    },
    "dd9e7f968b754883b4041f97e010e54e": {
     "model_module": "@jupyter-widgets/base",
     "model_name": "LayoutModel",
     "model_module_version": "1.2.0",
     "state": {
      "_model_module": "@jupyter-widgets/base",
      "_model_module_version": "1.2.0",
      "_model_name": "LayoutModel",
      "_view_count": null,
      "_view_module": "@jupyter-widgets/base",
      "_view_module_version": "1.2.0",
      "_view_name": "LayoutView",
      "align_content": null,
      "align_items": null,
      "align_self": null,
      "border": null,
      "bottom": null,
      "display": null,
      "flex": null,
      "flex_flow": null,
      "grid_area": null,
      "grid_auto_columns": null,
      "grid_auto_flow": null,
      "grid_auto_rows": null,
      "grid_column": null,
      "grid_gap": null,
      "grid_row": null,
      "grid_template_areas": null,
      "grid_template_columns": null,
      "grid_template_rows": null,
      "height": null,
      "justify_content": null,
      "justify_items": null,
      "left": null,
      "margin": null,
      "max_height": null,
      "max_width": null,
      "min_height": null,
      "min_width": null,
      "object_fit": null,
      "object_position": null,
      "order": null,
      "overflow": null,
      "overflow_x": null,
      "overflow_y": null,
      "padding": null,
      "right": null,
      "top": null,
      "visibility": null,
      "width": null
     }
    },
    "c202fed41cf848f480079b6d874a8618": {
     "model_module": "@jupyter-widgets/controls",
     "model_name": "DescriptionStyleModel",
     "model_module_version": "1.5.0",
     "state": {
      "_model_module": "@jupyter-widgets/controls",
      "_model_module_version": "1.5.0",
      "_model_name": "DescriptionStyleModel",
      "_view_count": null,
      "_view_module": "@jupyter-widgets/base",
      "_view_module_version": "1.2.0",
      "_view_name": "StyleView",
      "description_width": ""
     }
    },
    "d016aa0163d0401d9e77c2c41f32d328": {
     "model_module": "@jupyter-widgets/base",
     "model_name": "LayoutModel",
     "model_module_version": "1.2.0",
     "state": {
      "_model_module": "@jupyter-widgets/base",
      "_model_module_version": "1.2.0",
      "_model_name": "LayoutModel",
      "_view_count": null,
      "_view_module": "@jupyter-widgets/base",
      "_view_module_version": "1.2.0",
      "_view_name": "LayoutView",
      "align_content": null,
      "align_items": null,
      "align_self": null,
      "border": null,
      "bottom": null,
      "display": null,
      "flex": null,
      "flex_flow": null,
      "grid_area": null,
      "grid_auto_columns": null,
      "grid_auto_flow": null,
      "grid_auto_rows": null,
      "grid_column": null,
      "grid_gap": null,
      "grid_row": null,
      "grid_template_areas": null,
      "grid_template_columns": null,
      "grid_template_rows": null,
      "height": null,
      "justify_content": null,
      "justify_items": null,
      "left": null,
      "margin": null,
      "max_height": null,
      "max_width": null,
      "min_height": null,
      "min_width": null,
      "object_fit": null,
      "object_position": null,
      "order": null,
      "overflow": null,
      "overflow_x": null,
      "overflow_y": null,
      "padding": null,
      "right": null,
      "top": null,
      "visibility": null,
      "width": "20px"
     }
    },
    "9ff9f596bd0547049310f802b37f96ad": {
     "model_module": "@jupyter-widgets/controls",
     "model_name": "ProgressStyleModel",
     "model_module_version": "1.5.0",
     "state": {
      "_model_module": "@jupyter-widgets/controls",
      "_model_module_version": "1.5.0",
      "_model_name": "ProgressStyleModel",
      "_view_count": null,
      "_view_module": "@jupyter-widgets/base",
      "_view_module_version": "1.2.0",
      "_view_name": "StyleView",
      "bar_color": null,
      "description_width": ""
     }
    },
    "de31544f36064c1ea1c383959e92bf44": {
     "model_module": "@jupyter-widgets/base",
     "model_name": "LayoutModel",
     "model_module_version": "1.2.0",
     "state": {
      "_model_module": "@jupyter-widgets/base",
      "_model_module_version": "1.2.0",
      "_model_name": "LayoutModel",
      "_view_count": null,
      "_view_module": "@jupyter-widgets/base",
      "_view_module_version": "1.2.0",
      "_view_name": "LayoutView",
      "align_content": null,
      "align_items": null,
      "align_self": null,
      "border": null,
      "bottom": null,
      "display": null,
      "flex": null,
      "flex_flow": null,
      "grid_area": null,
      "grid_auto_columns": null,
      "grid_auto_flow": null,
      "grid_auto_rows": null,
      "grid_column": null,
      "grid_gap": null,
      "grid_row": null,
      "grid_template_areas": null,
      "grid_template_columns": null,
      "grid_template_rows": null,
      "height": null,
      "justify_content": null,
      "justify_items": null,
      "left": null,
      "margin": null,
      "max_height": null,
      "max_width": null,
      "min_height": null,
      "min_width": null,
      "object_fit": null,
      "object_position": null,
      "order": null,
      "overflow": null,
      "overflow_x": null,
      "overflow_y": null,
      "padding": null,
      "right": null,
      "top": null,
      "visibility": null,
      "width": null
     }
    },
    "61a7c80bc1414fdb9baefacb69d020c9": {
     "model_module": "@jupyter-widgets/controls",
     "model_name": "DescriptionStyleModel",
     "model_module_version": "1.5.0",
     "state": {
      "_model_module": "@jupyter-widgets/controls",
      "_model_module_version": "1.5.0",
      "_model_name": "DescriptionStyleModel",
      "_view_count": null,
      "_view_module": "@jupyter-widgets/base",
      "_view_module_version": "1.2.0",
      "_view_name": "StyleView",
      "description_width": ""
     }
    },
    "1ecdad4cccb64f45bafb0449aa7c61b0": {
     "model_module": "@jupyter-widgets/controls",
     "model_name": "HBoxModel",
     "model_module_version": "1.5.0",
     "state": {
      "_dom_classes": [],
      "_model_module": "@jupyter-widgets/controls",
      "_model_module_version": "1.5.0",
      "_model_name": "HBoxModel",
      "_view_count": null,
      "_view_module": "@jupyter-widgets/controls",
      "_view_module_version": "1.5.0",
      "_view_name": "HBoxView",
      "box_style": "",
      "children": [
       "IPY_MODEL_f22ff73a58dc417b9c1a936554fe0c2b",
       "IPY_MODEL_15da15363eaa41eeb3d7c8aa5c3c8a78",
       "IPY_MODEL_064fa8172bc74fddad70436dadae1eed"
      ],
      "layout": "IPY_MODEL_8a412b71668147ba9f029926e2051135"
     }
    },
    "f22ff73a58dc417b9c1a936554fe0c2b": {
     "model_module": "@jupyter-widgets/controls",
     "model_name": "HTMLModel",
     "model_module_version": "1.5.0",
     "state": {
      "_dom_classes": [],
      "_model_module": "@jupyter-widgets/controls",
      "_model_module_version": "1.5.0",
      "_model_name": "HTMLModel",
      "_view_count": null,
      "_view_module": "@jupyter-widgets/controls",
      "_view_module_version": "1.5.0",
      "_view_name": "HTMLView",
      "description": "",
      "description_tooltip": null,
      "layout": "IPY_MODEL_6556e2d2e47444c7b2eea67e1d876deb",
      "placeholder": "​",
      "style": "IPY_MODEL_2ade453a03c744cdb2fed5270aded005",
      "value": "config.json: 100%"
     }
    },
    "15da15363eaa41eeb3d7c8aa5c3c8a78": {
     "model_module": "@jupyter-widgets/controls",
     "model_name": "FloatProgressModel",
     "model_module_version": "1.5.0",
     "state": {
      "_dom_classes": [],
      "_model_module": "@jupyter-widgets/controls",
      "_model_module_version": "1.5.0",
      "_model_name": "FloatProgressModel",
      "_view_count": null,
      "_view_module": "@jupyter-widgets/controls",
      "_view_module_version": "1.5.0",
      "_view_name": "ProgressView",
      "bar_style": "success",
      "description": "",
      "description_tooltip": null,
      "layout": "IPY_MODEL_564872c7f0fc4a259c302efe5f4ce8f6",
      "max": 1005,
      "min": 0,
      "orientation": "horizontal",
      "style": "IPY_MODEL_6ee2600c17de49529402b28b6263893f",
      "value": 1005
     }
    },
    "064fa8172bc74fddad70436dadae1eed": {
     "model_module": "@jupyter-widgets/controls",
     "model_name": "HTMLModel",
     "model_module_version": "1.5.0",
     "state": {
      "_dom_classes": [],
      "_model_module": "@jupyter-widgets/controls",
      "_model_module_version": "1.5.0",
      "_model_name": "HTMLModel",
      "_view_count": null,
      "_view_module": "@jupyter-widgets/controls",
      "_view_module_version": "1.5.0",
      "_view_name": "HTMLView",
      "description": "",
      "description_tooltip": null,
      "layout": "IPY_MODEL_4f706ba6aa734b52a9d4f053869089f5",
      "placeholder": "​",
      "style": "IPY_MODEL_f9586a5df24745bd9557150aa282bdb2",
      "value": " 1.00k/1.00k [00:00&lt;00:00, 81.8kB/s]"
     }
    },
    "8a412b71668147ba9f029926e2051135": {
     "model_module": "@jupyter-widgets/base",
     "model_name": "LayoutModel",
     "model_module_version": "1.2.0",
     "state": {
      "_model_module": "@jupyter-widgets/base",
      "_model_module_version": "1.2.0",
      "_model_name": "LayoutModel",
      "_view_count": null,
      "_view_module": "@jupyter-widgets/base",
      "_view_module_version": "1.2.0",
      "_view_name": "LayoutView",
      "align_content": null,
      "align_items": null,
      "align_self": null,
      "border": null,
      "bottom": null,
      "display": null,
      "flex": null,
      "flex_flow": null,
      "grid_area": null,
      "grid_auto_columns": null,
      "grid_auto_flow": null,
      "grid_auto_rows": null,
      "grid_column": null,
      "grid_gap": null,
      "grid_row": null,
      "grid_template_areas": null,
      "grid_template_columns": null,
      "grid_template_rows": null,
      "height": null,
      "justify_content": null,
      "justify_items": null,
      "left": null,
      "margin": null,
      "max_height": null,
      "max_width": null,
      "min_height": null,
      "min_width": null,
      "object_fit": null,
      "object_position": null,
      "order": null,
      "overflow": null,
      "overflow_x": null,
      "overflow_y": null,
      "padding": null,
      "right": null,
      "top": null,
      "visibility": null,
      "width": null
     }
    },
    "6556e2d2e47444c7b2eea67e1d876deb": {
     "model_module": "@jupyter-widgets/base",
     "model_name": "LayoutModel",
     "model_module_version": "1.2.0",
     "state": {
      "_model_module": "@jupyter-widgets/base",
      "_model_module_version": "1.2.0",
      "_model_name": "LayoutModel",
      "_view_count": null,
      "_view_module": "@jupyter-widgets/base",
      "_view_module_version": "1.2.0",
      "_view_name": "LayoutView",
      "align_content": null,
      "align_items": null,
      "align_self": null,
      "border": null,
      "bottom": null,
      "display": null,
      "flex": null,
      "flex_flow": null,
      "grid_area": null,
      "grid_auto_columns": null,
      "grid_auto_flow": null,
      "grid_auto_rows": null,
      "grid_column": null,
      "grid_gap": null,
      "grid_row": null,
      "grid_template_areas": null,
      "grid_template_columns": null,
      "grid_template_rows": null,
      "height": null,
      "justify_content": null,
      "justify_items": null,
      "left": null,
      "margin": null,
      "max_height": null,
      "max_width": null,
      "min_height": null,
      "min_width": null,
      "object_fit": null,
      "object_position": null,
      "order": null,
      "overflow": null,
      "overflow_x": null,
      "overflow_y": null,
      "padding": null,
      "right": null,
      "top": null,
      "visibility": null,
      "width": null
     }
    },
    "2ade453a03c744cdb2fed5270aded005": {
     "model_module": "@jupyter-widgets/controls",
     "model_name": "DescriptionStyleModel",
     "model_module_version": "1.5.0",
     "state": {
      "_model_module": "@jupyter-widgets/controls",
      "_model_module_version": "1.5.0",
      "_model_name": "DescriptionStyleModel",
      "_view_count": null,
      "_view_module": "@jupyter-widgets/base",
      "_view_module_version": "1.2.0",
      "_view_name": "StyleView",
      "description_width": ""
     }
    },
    "564872c7f0fc4a259c302efe5f4ce8f6": {
     "model_module": "@jupyter-widgets/base",
     "model_name": "LayoutModel",
     "model_module_version": "1.2.0",
     "state": {
      "_model_module": "@jupyter-widgets/base",
      "_model_module_version": "1.2.0",
      "_model_name": "LayoutModel",
      "_view_count": null,
      "_view_module": "@jupyter-widgets/base",
      "_view_module_version": "1.2.0",
      "_view_name": "LayoutView",
      "align_content": null,
      "align_items": null,
      "align_self": null,
      "border": null,
      "bottom": null,
      "display": null,
      "flex": null,
      "flex_flow": null,
      "grid_area": null,
      "grid_auto_columns": null,
      "grid_auto_flow": null,
      "grid_auto_rows": null,
      "grid_column": null,
      "grid_gap": null,
      "grid_row": null,
      "grid_template_areas": null,
      "grid_template_columns": null,
      "grid_template_rows": null,
      "height": null,
      "justify_content": null,
      "justify_items": null,
      "left": null,
      "margin": null,
      "max_height": null,
      "max_width": null,
      "min_height": null,
      "min_width": null,
      "object_fit": null,
      "object_position": null,
      "order": null,
      "overflow": null,
      "overflow_x": null,
      "overflow_y": null,
      "padding": null,
      "right": null,
      "top": null,
      "visibility": null,
      "width": null
     }
    },
    "6ee2600c17de49529402b28b6263893f": {
     "model_module": "@jupyter-widgets/controls",
     "model_name": "ProgressStyleModel",
     "model_module_version": "1.5.0",
     "state": {
      "_model_module": "@jupyter-widgets/controls",
      "_model_module_version": "1.5.0",
      "_model_name": "ProgressStyleModel",
      "_view_count": null,
      "_view_module": "@jupyter-widgets/base",
      "_view_module_version": "1.2.0",
      "_view_name": "StyleView",
      "bar_color": null,
      "description_width": ""
     }
    },
    "4f706ba6aa734b52a9d4f053869089f5": {
     "model_module": "@jupyter-widgets/base",
     "model_name": "LayoutModel",
     "model_module_version": "1.2.0",
     "state": {
      "_model_module": "@jupyter-widgets/base",
      "_model_module_version": "1.2.0",
      "_model_name": "LayoutModel",
      "_view_count": null,
      "_view_module": "@jupyter-widgets/base",
      "_view_module_version": "1.2.0",
      "_view_name": "LayoutView",
      "align_content": null,
      "align_items": null,
      "align_self": null,
      "border": null,
      "bottom": null,
      "display": null,
      "flex": null,
      "flex_flow": null,
      "grid_area": null,
      "grid_auto_columns": null,
      "grid_auto_flow": null,
      "grid_auto_rows": null,
      "grid_column": null,
      "grid_gap": null,
      "grid_row": null,
      "grid_template_areas": null,
      "grid_template_columns": null,
      "grid_template_rows": null,
      "height": null,
      "justify_content": null,
      "justify_items": null,
      "left": null,
      "margin": null,
      "max_height": null,
      "max_width": null,
      "min_height": null,
      "min_width": null,
      "object_fit": null,
      "object_position": null,
      "order": null,
      "overflow": null,
      "overflow_x": null,
      "overflow_y": null,
      "padding": null,
      "right": null,
      "top": null,
      "visibility": null,
      "width": null
     }
    },
    "f9586a5df24745bd9557150aa282bdb2": {
     "model_module": "@jupyter-widgets/controls",
     "model_name": "DescriptionStyleModel",
     "model_module_version": "1.5.0",
     "state": {
      "_model_module": "@jupyter-widgets/controls",
      "_model_module_version": "1.5.0",
      "_model_name": "DescriptionStyleModel",
      "_view_count": null,
      "_view_module": "@jupyter-widgets/base",
      "_view_module_version": "1.2.0",
      "_view_name": "StyleView",
      "description_width": ""
     }
    },
    "246d5d75f8ea49b8b030a15777604440": {
     "model_module": "@jupyter-widgets/controls",
     "model_name": "HBoxModel",
     "model_module_version": "1.5.0",
     "state": {
      "_dom_classes": [],
      "_model_module": "@jupyter-widgets/controls",
      "_model_module_version": "1.5.0",
      "_model_name": "HBoxModel",
      "_view_count": null,
      "_view_module": "@jupyter-widgets/controls",
      "_view_module_version": "1.5.0",
      "_view_name": "HBoxView",
      "box_style": "",
      "children": [
       "IPY_MODEL_db0e8f5b28d54a3d9ab37c2f0c5867cc",
       "IPY_MODEL_579204210e744d7ebce8e9a67fff893a",
       "IPY_MODEL_213c42a16b6b432d9f8430c711a983ad"
      ],
      "layout": "IPY_MODEL_98eb28913cb24dc186137d105380ea7d"
     }
    },
    "db0e8f5b28d54a3d9ab37c2f0c5867cc": {
     "model_module": "@jupyter-widgets/controls",
     "model_name": "HTMLModel",
     "model_module_version": "1.5.0",
     "state": {
      "_dom_classes": [],
      "_model_module": "@jupyter-widgets/controls",
      "_model_module_version": "1.5.0",
      "_model_name": "HTMLModel",
      "_view_count": null,
      "_view_module": "@jupyter-widgets/controls",
      "_view_module_version": "1.5.0",
      "_view_name": "HTMLView",
      "description": "",
      "description_tooltip": null,
      "layout": "IPY_MODEL_39ce0137a8be49a99ac1d8dd70f7996e",
      "placeholder": "​",
      "style": "IPY_MODEL_804425d016b34b27a3e281b2e5aac492",
      "value": "pytorch_model.bin: 100%"
     }
    },
    "579204210e744d7ebce8e9a67fff893a": {
     "model_module": "@jupyter-widgets/controls",
     "model_name": "FloatProgressModel",
     "model_module_version": "1.5.0",
     "state": {
      "_dom_classes": [],
      "_model_module": "@jupyter-widgets/controls",
      "_model_module_version": "1.5.0",
      "_model_name": "FloatProgressModel",
      "_view_count": null,
      "_view_module": "@jupyter-widgets/controls",
      "_view_module_version": "1.5.0",
      "_view_name": "ProgressView",
      "bar_style": "success",
      "description": "",
      "description_tooltip": null,
      "layout": "IPY_MODEL_362fd2c74ec040648f1faae31f166c2d",
      "max": 328544361,
      "min": 0,
      "orientation": "horizontal",
      "style": "IPY_MODEL_c2e6cecd14cb4abdbf2940c72355f3ec",
      "value": 328544361
     }
    },
    "213c42a16b6b432d9f8430c711a983ad": {
     "model_module": "@jupyter-widgets/controls",
     "model_name": "HTMLModel",
     "model_module_version": "1.5.0",
     "state": {
      "_dom_classes": [],
      "_model_module": "@jupyter-widgets/controls",
      "_model_module_version": "1.5.0",
      "_model_name": "HTMLModel",
      "_view_count": null,
      "_view_module": "@jupyter-widgets/controls",
      "_view_module_version": "1.5.0",
      "_view_name": "HTMLView",
      "description": "",
      "description_tooltip": null,
      "layout": "IPY_MODEL_e7bf25df2c564ca88b464f661cf8f22a",
      "placeholder": "​",
      "style": "IPY_MODEL_40b9c0e5b7e149dea431a5cf7c14d463",
      "value": " 329M/329M [00:02&lt;00:00, 138MB/s]"
     }
    },
    "98eb28913cb24dc186137d105380ea7d": {
     "model_module": "@jupyter-widgets/base",
     "model_name": "LayoutModel",
     "model_module_version": "1.2.0",
     "state": {
      "_model_module": "@jupyter-widgets/base",
      "_model_module_version": "1.2.0",
      "_model_name": "LayoutModel",
      "_view_count": null,
      "_view_module": "@jupyter-widgets/base",
      "_view_module_version": "1.2.0",
      "_view_name": "LayoutView",
      "align_content": null,
      "align_items": null,
      "align_self": null,
      "border": null,
      "bottom": null,
      "display": null,
      "flex": null,
      "flex_flow": null,
      "grid_area": null,
      "grid_auto_columns": null,
      "grid_auto_flow": null,
      "grid_auto_rows": null,
      "grid_column": null,
      "grid_gap": null,
      "grid_row": null,
      "grid_template_areas": null,
      "grid_template_columns": null,
      "grid_template_rows": null,
      "height": null,
      "justify_content": null,
      "justify_items": null,
      "left": null,
      "margin": null,
      "max_height": null,
      "max_width": null,
      "min_height": null,
      "min_width": null,
      "object_fit": null,
      "object_position": null,
      "order": null,
      "overflow": null,
      "overflow_x": null,
      "overflow_y": null,
      "padding": null,
      "right": null,
      "top": null,
      "visibility": null,
      "width": null
     }
    },
    "39ce0137a8be49a99ac1d8dd70f7996e": {
     "model_module": "@jupyter-widgets/base",
     "model_name": "LayoutModel",
     "model_module_version": "1.2.0",
     "state": {
      "_model_module": "@jupyter-widgets/base",
      "_model_module_version": "1.2.0",
      "_model_name": "LayoutModel",
      "_view_count": null,
      "_view_module": "@jupyter-widgets/base",
      "_view_module_version": "1.2.0",
      "_view_name": "LayoutView",
      "align_content": null,
      "align_items": null,
      "align_self": null,
      "border": null,
      "bottom": null,
      "display": null,
      "flex": null,
      "flex_flow": null,
      "grid_area": null,
      "grid_auto_columns": null,
      "grid_auto_flow": null,
      "grid_auto_rows": null,
      "grid_column": null,
      "grid_gap": null,
      "grid_row": null,
      "grid_template_areas": null,
      "grid_template_columns": null,
      "grid_template_rows": null,
      "height": null,
      "justify_content": null,
      "justify_items": null,
      "left": null,
      "margin": null,
      "max_height": null,
      "max_width": null,
      "min_height": null,
      "min_width": null,
      "object_fit": null,
      "object_position": null,
      "order": null,
      "overflow": null,
      "overflow_x": null,
      "overflow_y": null,
      "padding": null,
      "right": null,
      "top": null,
      "visibility": null,
      "width": null
     }
    },
    "804425d016b34b27a3e281b2e5aac492": {
     "model_module": "@jupyter-widgets/controls",
     "model_name": "DescriptionStyleModel",
     "model_module_version": "1.5.0",
     "state": {
      "_model_module": "@jupyter-widgets/controls",
      "_model_module_version": "1.5.0",
      "_model_name": "DescriptionStyleModel",
      "_view_count": null,
      "_view_module": "@jupyter-widgets/base",
      "_view_module_version": "1.2.0",
      "_view_name": "StyleView",
      "description_width": ""
     }
    },
    "362fd2c74ec040648f1faae31f166c2d": {
     "model_module": "@jupyter-widgets/base",
     "model_name": "LayoutModel",
     "model_module_version": "1.2.0",
     "state": {
      "_model_module": "@jupyter-widgets/base",
      "_model_module_version": "1.2.0",
      "_model_name": "LayoutModel",
      "_view_count": null,
      "_view_module": "@jupyter-widgets/base",
      "_view_module_version": "1.2.0",
      "_view_name": "LayoutView",
      "align_content": null,
      "align_items": null,
      "align_self": null,
      "border": null,
      "bottom": null,
      "display": null,
      "flex": null,
      "flex_flow": null,
      "grid_area": null,
      "grid_auto_columns": null,
      "grid_auto_flow": null,
      "grid_auto_rows": null,
      "grid_column": null,
      "grid_gap": null,
      "grid_row": null,
      "grid_template_areas": null,
      "grid_template_columns": null,
      "grid_template_rows": null,
      "height": null,
      "justify_content": null,
      "justify_items": null,
      "left": null,
      "margin": null,
      "max_height": null,
      "max_width": null,
      "min_height": null,
      "min_width": null,
      "object_fit": null,
      "object_position": null,
      "order": null,
      "overflow": null,
      "overflow_x": null,
      "overflow_y": null,
      "padding": null,
      "right": null,
      "top": null,
      "visibility": null,
      "width": null
     }
    },
    "c2e6cecd14cb4abdbf2940c72355f3ec": {
     "model_module": "@jupyter-widgets/controls",
     "model_name": "ProgressStyleModel",
     "model_module_version": "1.5.0",
     "state": {
      "_model_module": "@jupyter-widgets/controls",
      "_model_module_version": "1.5.0",
      "_model_name": "ProgressStyleModel",
      "_view_count": null,
      "_view_module": "@jupyter-widgets/base",
      "_view_module_version": "1.2.0",
      "_view_name": "StyleView",
      "bar_color": null,
      "description_width": ""
     }
    },
    "e7bf25df2c564ca88b464f661cf8f22a": {
     "model_module": "@jupyter-widgets/base",
     "model_name": "LayoutModel",
     "model_module_version": "1.2.0",
     "state": {
      "_model_module": "@jupyter-widgets/base",
      "_model_module_version": "1.2.0",
      "_model_name": "LayoutModel",
      "_view_count": null,
      "_view_module": "@jupyter-widgets/base",
      "_view_module_version": "1.2.0",
      "_view_name": "LayoutView",
      "align_content": null,
      "align_items": null,
      "align_self": null,
      "border": null,
      "bottom": null,
      "display": null,
      "flex": null,
      "flex_flow": null,
      "grid_area": null,
      "grid_auto_columns": null,
      "grid_auto_flow": null,
      "grid_auto_rows": null,
      "grid_column": null,
      "grid_gap": null,
      "grid_row": null,
      "grid_template_areas": null,
      "grid_template_columns": null,
      "grid_template_rows": null,
      "height": null,
      "justify_content": null,
      "justify_items": null,
      "left": null,
      "margin": null,
      "max_height": null,
      "max_width": null,
      "min_height": null,
      "min_width": null,
      "object_fit": null,
      "object_position": null,
      "order": null,
      "overflow": null,
      "overflow_x": null,
      "overflow_y": null,
      "padding": null,
      "right": null,
      "top": null,
      "visibility": null,
      "width": null
     }
    },
    "40b9c0e5b7e149dea431a5cf7c14d463": {
     "model_module": "@jupyter-widgets/controls",
     "model_name": "DescriptionStyleModel",
     "model_module_version": "1.5.0",
     "state": {
      "_model_module": "@jupyter-widgets/controls",
      "_model_module_version": "1.5.0",
      "_model_name": "DescriptionStyleModel",
      "_view_count": null,
      "_view_module": "@jupyter-widgets/base",
      "_view_module_version": "1.2.0",
      "_view_name": "StyleView",
      "description_width": ""
     }
    },
    "a2ffae24f563420cbd34ff33e835cd4b": {
     "model_module": "@jupyter-widgets/controls",
     "model_name": "HBoxModel",
     "model_module_version": "1.5.0",
     "state": {
      "_dom_classes": [],
      "_model_module": "@jupyter-widgets/controls",
      "_model_module_version": "1.5.0",
      "_model_name": "HBoxModel",
      "_view_count": null,
      "_view_module": "@jupyter-widgets/controls",
      "_view_module_version": "1.5.0",
      "_view_name": "HBoxView",
      "box_style": "",
      "children": [
       "IPY_MODEL_0047d1a2ce7d4fea93e0f0afe34498bc",
       "IPY_MODEL_95c8206ac3654f2bba8565529aeab4c1",
       "IPY_MODEL_21c4811cd6ba454e92ca02e8af8f755c"
      ],
      "layout": "IPY_MODEL_b8eb732ee98a47bda7d7cd45f6d215f5"
     }
    },
    "0047d1a2ce7d4fea93e0f0afe34498bc": {
     "model_module": "@jupyter-widgets/controls",
     "model_name": "HTMLModel",
     "model_module_version": "1.5.0",
     "state": {
      "_dom_classes": [],
      "_model_module": "@jupyter-widgets/controls",
      "_model_module_version": "1.5.0",
      "_model_name": "HTMLModel",
      "_view_count": null,
      "_view_module": "@jupyter-widgets/controls",
      "_view_module_version": "1.5.0",
      "_view_name": "HTMLView",
      "description": "",
      "description_tooltip": null,
      "layout": "IPY_MODEL_af73394310c04337a77539870a362b89",
      "placeholder": "​",
      "style": "IPY_MODEL_3b979217df6c4343add45b3934fc559e",
      "value": "tokenizer_config.json: 100%"
     }
    },
    "95c8206ac3654f2bba8565529aeab4c1": {
     "model_module": "@jupyter-widgets/controls",
     "model_name": "FloatProgressModel",
     "model_module_version": "1.5.0",
     "state": {
      "_dom_classes": [],
      "_model_module": "@jupyter-widgets/controls",
      "_model_module_version": "1.5.0",
      "_model_name": "FloatProgressModel",
      "_view_count": null,
      "_view_module": "@jupyter-widgets/controls",
      "_view_module_version": "1.5.0",
      "_view_name": "ProgressView",
      "bar_style": "success",
      "description": "",
      "description_tooltip": null,
      "layout": "IPY_MODEL_08f310feeb8a473c97a64288d80a52de",
      "max": 294,
      "min": 0,
      "orientation": "horizontal",
      "style": "IPY_MODEL_013f91b9611647d3891b1adb9c7c6502",
      "value": 294
     }
    },
    "21c4811cd6ba454e92ca02e8af8f755c": {
     "model_module": "@jupyter-widgets/controls",
     "model_name": "HTMLModel",
     "model_module_version": "1.5.0",
     "state": {
      "_dom_classes": [],
      "_model_module": "@jupyter-widgets/controls",
      "_model_module_version": "1.5.0",
      "_model_name": "HTMLModel",
      "_view_count": null,
      "_view_module": "@jupyter-widgets/controls",
      "_view_module_version": "1.5.0",
      "_view_name": "HTMLView",
      "description": "",
      "description_tooltip": null,
      "layout": "IPY_MODEL_04328be409be42e59b2e95f85f6cd105",
      "placeholder": "​",
      "style": "IPY_MODEL_3e778b08fa1c44ba9b3806b6d78b664b",
      "value": " 294/294 [00:00&lt;00:00, 16.2kB/s]"
     }
    },
    "b8eb732ee98a47bda7d7cd45f6d215f5": {
     "model_module": "@jupyter-widgets/base",
     "model_name": "LayoutModel",
     "model_module_version": "1.2.0",
     "state": {
      "_model_module": "@jupyter-widgets/base",
      "_model_module_version": "1.2.0",
      "_model_name": "LayoutModel",
      "_view_count": null,
      "_view_module": "@jupyter-widgets/base",
      "_view_module_version": "1.2.0",
      "_view_name": "LayoutView",
      "align_content": null,
      "align_items": null,
      "align_self": null,
      "border": null,
      "bottom": null,
      "display": null,
      "flex": null,
      "flex_flow": null,
      "grid_area": null,
      "grid_auto_columns": null,
      "grid_auto_flow": null,
      "grid_auto_rows": null,
      "grid_column": null,
      "grid_gap": null,
      "grid_row": null,
      "grid_template_areas": null,
      "grid_template_columns": null,
      "grid_template_rows": null,
      "height": null,
      "justify_content": null,
      "justify_items": null,
      "left": null,
      "margin": null,
      "max_height": null,
      "max_width": null,
      "min_height": null,
      "min_width": null,
      "object_fit": null,
      "object_position": null,
      "order": null,
      "overflow": null,
      "overflow_x": null,
      "overflow_y": null,
      "padding": null,
      "right": null,
      "top": null,
      "visibility": null,
      "width": null
     }
    },
    "af73394310c04337a77539870a362b89": {
     "model_module": "@jupyter-widgets/base",
     "model_name": "LayoutModel",
     "model_module_version": "1.2.0",
     "state": {
      "_model_module": "@jupyter-widgets/base",
      "_model_module_version": "1.2.0",
      "_model_name": "LayoutModel",
      "_view_count": null,
      "_view_module": "@jupyter-widgets/base",
      "_view_module_version": "1.2.0",
      "_view_name": "LayoutView",
      "align_content": null,
      "align_items": null,
      "align_self": null,
      "border": null,
      "bottom": null,
      "display": null,
      "flex": null,
      "flex_flow": null,
      "grid_area": null,
      "grid_auto_columns": null,
      "grid_auto_flow": null,
      "grid_auto_rows": null,
      "grid_column": null,
      "grid_gap": null,
      "grid_row": null,
      "grid_template_areas": null,
      "grid_template_columns": null,
      "grid_template_rows": null,
      "height": null,
      "justify_content": null,
      "justify_items": null,
      "left": null,
      "margin": null,
      "max_height": null,
      "max_width": null,
      "min_height": null,
      "min_width": null,
      "object_fit": null,
      "object_position": null,
      "order": null,
      "overflow": null,
      "overflow_x": null,
      "overflow_y": null,
      "padding": null,
      "right": null,
      "top": null,
      "visibility": null,
      "width": null
     }
    },
    "3b979217df6c4343add45b3934fc559e": {
     "model_module": "@jupyter-widgets/controls",
     "model_name": "DescriptionStyleModel",
     "model_module_version": "1.5.0",
     "state": {
      "_model_module": "@jupyter-widgets/controls",
      "_model_module_version": "1.5.0",
      "_model_name": "DescriptionStyleModel",
      "_view_count": null,
      "_view_module": "@jupyter-widgets/base",
      "_view_module_version": "1.2.0",
      "_view_name": "StyleView",
      "description_width": ""
     }
    },
    "08f310feeb8a473c97a64288d80a52de": {
     "model_module": "@jupyter-widgets/base",
     "model_name": "LayoutModel",
     "model_module_version": "1.2.0",
     "state": {
      "_model_module": "@jupyter-widgets/base",
      "_model_module_version": "1.2.0",
      "_model_name": "LayoutModel",
      "_view_count": null,
      "_view_module": "@jupyter-widgets/base",
      "_view_module_version": "1.2.0",
      "_view_name": "LayoutView",
      "align_content": null,
      "align_items": null,
      "align_self": null,
      "border": null,
      "bottom": null,
      "display": null,
      "flex": null,
      "flex_flow": null,
      "grid_area": null,
      "grid_auto_columns": null,
      "grid_auto_flow": null,
      "grid_auto_rows": null,
      "grid_column": null,
      "grid_gap": null,
      "grid_row": null,
      "grid_template_areas": null,
      "grid_template_columns": null,
      "grid_template_rows": null,
      "height": null,
      "justify_content": null,
      "justify_items": null,
      "left": null,
      "margin": null,
      "max_height": null,
      "max_width": null,
      "min_height": null,
      "min_width": null,
      "object_fit": null,
      "object_position": null,
      "order": null,
      "overflow": null,
      "overflow_x": null,
      "overflow_y": null,
      "padding": null,
      "right": null,
      "top": null,
      "visibility": null,
      "width": null
     }
    },
    "013f91b9611647d3891b1adb9c7c6502": {
     "model_module": "@jupyter-widgets/controls",
     "model_name": "ProgressStyleModel",
     "model_module_version": "1.5.0",
     "state": {
      "_model_module": "@jupyter-widgets/controls",
      "_model_module_version": "1.5.0",
      "_model_name": "ProgressStyleModel",
      "_view_count": null,
      "_view_module": "@jupyter-widgets/base",
      "_view_module_version": "1.2.0",
      "_view_name": "StyleView",
      "bar_color": null,
      "description_width": ""
     }
    },
    "04328be409be42e59b2e95f85f6cd105": {
     "model_module": "@jupyter-widgets/base",
     "model_name": "LayoutModel",
     "model_module_version": "1.2.0",
     "state": {
      "_model_module": "@jupyter-widgets/base",
      "_model_module_version": "1.2.0",
      "_model_name": "LayoutModel",
      "_view_count": null,
      "_view_module": "@jupyter-widgets/base",
      "_view_module_version": "1.2.0",
      "_view_name": "LayoutView",
      "align_content": null,
      "align_items": null,
      "align_self": null,
      "border": null,
      "bottom": null,
      "display": null,
      "flex": null,
      "flex_flow": null,
      "grid_area": null,
      "grid_auto_columns": null,
      "grid_auto_flow": null,
      "grid_auto_rows": null,
      "grid_column": null,
      "grid_gap": null,
      "grid_row": null,
      "grid_template_areas": null,
      "grid_template_columns": null,
      "grid_template_rows": null,
      "height": null,
      "justify_content": null,
      "justify_items": null,
      "left": null,
      "margin": null,
      "max_height": null,
      "max_width": null,
      "min_height": null,
      "min_width": null,
      "object_fit": null,
      "object_position": null,
      "order": null,
      "overflow": null,
      "overflow_x": null,
      "overflow_y": null,
      "padding": null,
      "right": null,
      "top": null,
      "visibility": null,
      "width": null
     }
    },
    "3e778b08fa1c44ba9b3806b6d78b664b": {
     "model_module": "@jupyter-widgets/controls",
     "model_name": "DescriptionStyleModel",
     "model_module_version": "1.5.0",
     "state": {
      "_model_module": "@jupyter-widgets/controls",
      "_model_module_version": "1.5.0",
      "_model_name": "DescriptionStyleModel",
      "_view_count": null,
      "_view_module": "@jupyter-widgets/base",
      "_view_module_version": "1.2.0",
      "_view_name": "StyleView",
      "description_width": ""
     }
    },
    "cd8c8d3ed76d422a8dad998587e43ae3": {
     "model_module": "@jupyter-widgets/controls",
     "model_name": "HBoxModel",
     "model_module_version": "1.5.0",
     "state": {
      "_dom_classes": [],
      "_model_module": "@jupyter-widgets/controls",
      "_model_module_version": "1.5.0",
      "_model_name": "HBoxModel",
      "_view_count": null,
      "_view_module": "@jupyter-widgets/controls",
      "_view_module_version": "1.5.0",
      "_view_name": "HBoxView",
      "box_style": "",
      "children": [
       "IPY_MODEL_2df506ce92e747b5a043921751e30e61",
       "IPY_MODEL_b32b765368334bc99937b20a8d4529eb",
       "IPY_MODEL_220da81a439a48f98b2163d506bc8b35"
      ],
      "layout": "IPY_MODEL_ceaf4eb6d59648a2b97b4c53d2551fa2"
     }
    },
    "2df506ce92e747b5a043921751e30e61": {
     "model_module": "@jupyter-widgets/controls",
     "model_name": "HTMLModel",
     "model_module_version": "1.5.0",
     "state": {
      "_dom_classes": [],
      "_model_module": "@jupyter-widgets/controls",
      "_model_module_version": "1.5.0",
      "_model_name": "HTMLModel",
      "_view_count": null,
      "_view_module": "@jupyter-widgets/controls",
      "_view_module_version": "1.5.0",
      "_view_name": "HTMLView",
      "description": "",
      "description_tooltip": null,
      "layout": "IPY_MODEL_c5707fa32a9e472b9f9c6a494ef1f805",
      "placeholder": "​",
      "style": "IPY_MODEL_6869607b9f0743ccaf3e10e099da1468",
      "value": "vocab.json: 100%"
     }
    },
    "b32b765368334bc99937b20a8d4529eb": {
     "model_module": "@jupyter-widgets/controls",
     "model_name": "FloatProgressModel",
     "model_module_version": "1.5.0",
     "state": {
      "_dom_classes": [],
      "_model_module": "@jupyter-widgets/controls",
      "_model_module_version": "1.5.0",
      "_model_name": "FloatProgressModel",
      "_view_count": null,
      "_view_module": "@jupyter-widgets/controls",
      "_view_module_version": "1.5.0",
      "_view_name": "ProgressView",
      "bar_style": "success",
      "description": "",
      "description_tooltip": null,
      "layout": "IPY_MODEL_0d31354f870344499faa788ca765dde1",
      "max": 798293,
      "min": 0,
      "orientation": "horizontal",
      "style": "IPY_MODEL_17b551d4f9774fb4b25524dda509caaf",
      "value": 798293
     }
    },
    "220da81a439a48f98b2163d506bc8b35": {
     "model_module": "@jupyter-widgets/controls",
     "model_name": "HTMLModel",
     "model_module_version": "1.5.0",
     "state": {
      "_dom_classes": [],
      "_model_module": "@jupyter-widgets/controls",
      "_model_module_version": "1.5.0",
      "_model_name": "HTMLModel",
      "_view_count": null,
      "_view_module": "@jupyter-widgets/controls",
      "_view_module_version": "1.5.0",
      "_view_name": "HTMLView",
      "description": "",
      "description_tooltip": null,
      "layout": "IPY_MODEL_b55f93c67e304293908e4ee7dc7c9813",
      "placeholder": "​",
      "style": "IPY_MODEL_e4436983992d4a27a0dab2f742ed794c",
      "value": " 798k/798k [00:00&lt;00:00, 10.2MB/s]"
     }
    },
    "ceaf4eb6d59648a2b97b4c53d2551fa2": {
     "model_module": "@jupyter-widgets/base",
     "model_name": "LayoutModel",
     "model_module_version": "1.2.0",
     "state": {
      "_model_module": "@jupyter-widgets/base",
      "_model_module_version": "1.2.0",
      "_model_name": "LayoutModel",
      "_view_count": null,
      "_view_module": "@jupyter-widgets/base",
      "_view_module_version": "1.2.0",
      "_view_name": "LayoutView",
      "align_content": null,
      "align_items": null,
      "align_self": null,
      "border": null,
      "bottom": null,
      "display": null,
      "flex": null,
      "flex_flow": null,
      "grid_area": null,
      "grid_auto_columns": null,
      "grid_auto_flow": null,
      "grid_auto_rows": null,
      "grid_column": null,
      "grid_gap": null,
      "grid_row": null,
      "grid_template_areas": null,
      "grid_template_columns": null,
      "grid_template_rows": null,
      "height": null,
      "justify_content": null,
      "justify_items": null,
      "left": null,
      "margin": null,
      "max_height": null,
      "max_width": null,
      "min_height": null,
      "min_width": null,
      "object_fit": null,
      "object_position": null,
      "order": null,
      "overflow": null,
      "overflow_x": null,
      "overflow_y": null,
      "padding": null,
      "right": null,
      "top": null,
      "visibility": null,
      "width": null
     }
    },
    "c5707fa32a9e472b9f9c6a494ef1f805": {
     "model_module": "@jupyter-widgets/base",
     "model_name": "LayoutModel",
     "model_module_version": "1.2.0",
     "state": {
      "_model_module": "@jupyter-widgets/base",
      "_model_module_version": "1.2.0",
      "_model_name": "LayoutModel",
      "_view_count": null,
      "_view_module": "@jupyter-widgets/base",
      "_view_module_version": "1.2.0",
      "_view_name": "LayoutView",
      "align_content": null,
      "align_items": null,
      "align_self": null,
      "border": null,
      "bottom": null,
      "display": null,
      "flex": null,
      "flex_flow": null,
      "grid_area": null,
      "grid_auto_columns": null,
      "grid_auto_flow": null,
      "grid_auto_rows": null,
      "grid_column": null,
      "grid_gap": null,
      "grid_row": null,
      "grid_template_areas": null,
      "grid_template_columns": null,
      "grid_template_rows": null,
      "height": null,
      "justify_content": null,
      "justify_items": null,
      "left": null,
      "margin": null,
      "max_height": null,
      "max_width": null,
      "min_height": null,
      "min_width": null,
      "object_fit": null,
      "object_position": null,
      "order": null,
      "overflow": null,
      "overflow_x": null,
      "overflow_y": null,
      "padding": null,
      "right": null,
      "top": null,
      "visibility": null,
      "width": null
     }
    },
    "6869607b9f0743ccaf3e10e099da1468": {
     "model_module": "@jupyter-widgets/controls",
     "model_name": "DescriptionStyleModel",
     "model_module_version": "1.5.0",
     "state": {
      "_model_module": "@jupyter-widgets/controls",
      "_model_module_version": "1.5.0",
      "_model_name": "DescriptionStyleModel",
      "_view_count": null,
      "_view_module": "@jupyter-widgets/base",
      "_view_module_version": "1.2.0",
      "_view_name": "StyleView",
      "description_width": ""
     }
    },
    "0d31354f870344499faa788ca765dde1": {
     "model_module": "@jupyter-widgets/base",
     "model_name": "LayoutModel",
     "model_module_version": "1.2.0",
     "state": {
      "_model_module": "@jupyter-widgets/base",
      "_model_module_version": "1.2.0",
      "_model_name": "LayoutModel",
      "_view_count": null,
      "_view_module": "@jupyter-widgets/base",
      "_view_module_version": "1.2.0",
      "_view_name": "LayoutView",
      "align_content": null,
      "align_items": null,
      "align_self": null,
      "border": null,
      "bottom": null,
      "display": null,
      "flex": null,
      "flex_flow": null,
      "grid_area": null,
      "grid_auto_columns": null,
      "grid_auto_flow": null,
      "grid_auto_rows": null,
      "grid_column": null,
      "grid_gap": null,
      "grid_row": null,
      "grid_template_areas": null,
      "grid_template_columns": null,
      "grid_template_rows": null,
      "height": null,
      "justify_content": null,
      "justify_items": null,
      "left": null,
      "margin": null,
      "max_height": null,
      "max_width": null,
      "min_height": null,
      "min_width": null,
      "object_fit": null,
      "object_position": null,
      "order": null,
      "overflow": null,
      "overflow_x": null,
      "overflow_y": null,
      "padding": null,
      "right": null,
      "top": null,
      "visibility": null,
      "width": null
     }
    },
    "17b551d4f9774fb4b25524dda509caaf": {
     "model_module": "@jupyter-widgets/controls",
     "model_name": "ProgressStyleModel",
     "model_module_version": "1.5.0",
     "state": {
      "_model_module": "@jupyter-widgets/controls",
      "_model_module_version": "1.5.0",
      "_model_name": "ProgressStyleModel",
      "_view_count": null,
      "_view_module": "@jupyter-widgets/base",
      "_view_module_version": "1.2.0",
      "_view_name": "StyleView",
      "bar_color": null,
      "description_width": ""
     }
    },
    "b55f93c67e304293908e4ee7dc7c9813": {
     "model_module": "@jupyter-widgets/base",
     "model_name": "LayoutModel",
     "model_module_version": "1.2.0",
     "state": {
      "_model_module": "@jupyter-widgets/base",
      "_model_module_version": "1.2.0",
      "_model_name": "LayoutModel",
      "_view_count": null,
      "_view_module": "@jupyter-widgets/base",
      "_view_module_version": "1.2.0",
      "_view_name": "LayoutView",
      "align_content": null,
      "align_items": null,
      "align_self": null,
      "border": null,
      "bottom": null,
      "display": null,
      "flex": null,
      "flex_flow": null,
      "grid_area": null,
      "grid_auto_columns": null,
      "grid_auto_flow": null,
      "grid_auto_rows": null,
      "grid_column": null,
      "grid_gap": null,
      "grid_row": null,
      "grid_template_areas": null,
      "grid_template_columns": null,
      "grid_template_rows": null,
      "height": null,
      "justify_content": null,
      "justify_items": null,
      "left": null,
      "margin": null,
      "max_height": null,
      "max_width": null,
      "min_height": null,
      "min_width": null,
      "object_fit": null,
      "object_position": null,
      "order": null,
      "overflow": null,
      "overflow_x": null,
      "overflow_y": null,
      "padding": null,
      "right": null,
      "top": null,
      "visibility": null,
      "width": null
     }
    },
    "e4436983992d4a27a0dab2f742ed794c": {
     "model_module": "@jupyter-widgets/controls",
     "model_name": "DescriptionStyleModel",
     "model_module_version": "1.5.0",
     "state": {
      "_model_module": "@jupyter-widgets/controls",
      "_model_module_version": "1.5.0",
      "_model_name": "DescriptionStyleModel",
      "_view_count": null,
      "_view_module": "@jupyter-widgets/base",
      "_view_module_version": "1.2.0",
      "_view_name": "StyleView",
      "description_width": ""
     }
    },
    "5defce25cc0745cf9c672cc41d92cc76": {
     "model_module": "@jupyter-widgets/controls",
     "model_name": "HBoxModel",
     "model_module_version": "1.5.0",
     "state": {
      "_dom_classes": [],
      "_model_module": "@jupyter-widgets/controls",
      "_model_module_version": "1.5.0",
      "_model_name": "HBoxModel",
      "_view_count": null,
      "_view_module": "@jupyter-widgets/controls",
      "_view_module_version": "1.5.0",
      "_view_name": "HBoxView",
      "box_style": "",
      "children": [
       "IPY_MODEL_3b34213945fa4be1b9aba6917e66dc9f",
       "IPY_MODEL_44ee0273dd1e43a4aa8ff06a962c200c",
       "IPY_MODEL_b1ceec2fc15f4873a887f3d716f4f55c"
      ],
      "layout": "IPY_MODEL_51f0eb7a7367485ba4cd46a2152b4c74"
     }
    },
    "3b34213945fa4be1b9aba6917e66dc9f": {
     "model_module": "@jupyter-widgets/controls",
     "model_name": "HTMLModel",
     "model_module_version": "1.5.0",
     "state": {
      "_dom_classes": [],
      "_model_module": "@jupyter-widgets/controls",
      "_model_module_version": "1.5.0",
      "_model_name": "HTMLModel",
      "_view_count": null,
      "_view_module": "@jupyter-widgets/controls",
      "_view_module_version": "1.5.0",
      "_view_name": "HTMLView",
      "description": "",
      "description_tooltip": null,
      "layout": "IPY_MODEL_a60887dee21f4fea9de9378273a19d81",
      "placeholder": "​",
      "style": "IPY_MODEL_3306ab03183a43d68a77b78459f8bb59",
      "value": "merges.txt: 100%"
     }
    },
    "44ee0273dd1e43a4aa8ff06a962c200c": {
     "model_module": "@jupyter-widgets/controls",
     "model_name": "FloatProgressModel",
     "model_module_version": "1.5.0",
     "state": {
      "_dom_classes": [],
      "_model_module": "@jupyter-widgets/controls",
      "_model_module_version": "1.5.0",
      "_model_name": "FloatProgressModel",
      "_view_count": null,
      "_view_module": "@jupyter-widgets/controls",
      "_view_module_version": "1.5.0",
      "_view_name": "ProgressView",
      "bar_style": "success",
      "description": "",
      "description_tooltip": null,
      "layout": "IPY_MODEL_cf5405b1703a4f67b617539c0ed48a32",
      "max": 456356,
      "min": 0,
      "orientation": "horizontal",
      "style": "IPY_MODEL_6bc000e69e6a413eb815a30a8713f32e",
      "value": 456356
     }
    },
    "b1ceec2fc15f4873a887f3d716f4f55c": {
     "model_module": "@jupyter-widgets/controls",
     "model_name": "HTMLModel",
     "model_module_version": "1.5.0",
     "state": {
      "_dom_classes": [],
      "_model_module": "@jupyter-widgets/controls",
      "_model_module_version": "1.5.0",
      "_model_name": "HTMLModel",
      "_view_count": null,
      "_view_module": "@jupyter-widgets/controls",
      "_view_module_version": "1.5.0",
      "_view_name": "HTMLView",
      "description": "",
      "description_tooltip": null,
      "layout": "IPY_MODEL_5e565c7d2abf47fd8449fe669993e730",
      "placeholder": "​",
      "style": "IPY_MODEL_46d661aebfe340d8865d4a852d415468",
      "value": " 456k/456k [00:00&lt;00:00, 34.6MB/s]"
     }
    },
    "51f0eb7a7367485ba4cd46a2152b4c74": {
     "model_module": "@jupyter-widgets/base",
     "model_name": "LayoutModel",
     "model_module_version": "1.2.0",
     "state": {
      "_model_module": "@jupyter-widgets/base",
      "_model_module_version": "1.2.0",
      "_model_name": "LayoutModel",
      "_view_count": null,
      "_view_module": "@jupyter-widgets/base",
      "_view_module_version": "1.2.0",
      "_view_name": "LayoutView",
      "align_content": null,
      "align_items": null,
      "align_self": null,
      "border": null,
      "bottom": null,
      "display": null,
      "flex": null,
      "flex_flow": null,
      "grid_area": null,
      "grid_auto_columns": null,
      "grid_auto_flow": null,
      "grid_auto_rows": null,
      "grid_column": null,
      "grid_gap": null,
      "grid_row": null,
      "grid_template_areas": null,
      "grid_template_columns": null,
      "grid_template_rows": null,
      "height": null,
      "justify_content": null,
      "justify_items": null,
      "left": null,
      "margin": null,
      "max_height": null,
      "max_width": null,
      "min_height": null,
      "min_width": null,
      "object_fit": null,
      "object_position": null,
      "order": null,
      "overflow": null,
      "overflow_x": null,
      "overflow_y": null,
      "padding": null,
      "right": null,
      "top": null,
      "visibility": null,
      "width": null
     }
    },
    "a60887dee21f4fea9de9378273a19d81": {
     "model_module": "@jupyter-widgets/base",
     "model_name": "LayoutModel",
     "model_module_version": "1.2.0",
     "state": {
      "_model_module": "@jupyter-widgets/base",
      "_model_module_version": "1.2.0",
      "_model_name": "LayoutModel",
      "_view_count": null,
      "_view_module": "@jupyter-widgets/base",
      "_view_module_version": "1.2.0",
      "_view_name": "LayoutView",
      "align_content": null,
      "align_items": null,
      "align_self": null,
      "border": null,
      "bottom": null,
      "display": null,
      "flex": null,
      "flex_flow": null,
      "grid_area": null,
      "grid_auto_columns": null,
      "grid_auto_flow": null,
      "grid_auto_rows": null,
      "grid_column": null,
      "grid_gap": null,
      "grid_row": null,
      "grid_template_areas": null,
      "grid_template_columns": null,
      "grid_template_rows": null,
      "height": null,
      "justify_content": null,
      "justify_items": null,
      "left": null,
      "margin": null,
      "max_height": null,
      "max_width": null,
      "min_height": null,
      "min_width": null,
      "object_fit": null,
      "object_position": null,
      "order": null,
      "overflow": null,
      "overflow_x": null,
      "overflow_y": null,
      "padding": null,
      "right": null,
      "top": null,
      "visibility": null,
      "width": null
     }
    },
    "3306ab03183a43d68a77b78459f8bb59": {
     "model_module": "@jupyter-widgets/controls",
     "model_name": "DescriptionStyleModel",
     "model_module_version": "1.5.0",
     "state": {
      "_model_module": "@jupyter-widgets/controls",
      "_model_module_version": "1.5.0",
      "_model_name": "DescriptionStyleModel",
      "_view_count": null,
      "_view_module": "@jupyter-widgets/base",
      "_view_module_version": "1.2.0",
      "_view_name": "StyleView",
      "description_width": ""
     }
    },
    "cf5405b1703a4f67b617539c0ed48a32": {
     "model_module": "@jupyter-widgets/base",
     "model_name": "LayoutModel",
     "model_module_version": "1.2.0",
     "state": {
      "_model_module": "@jupyter-widgets/base",
      "_model_module_version": "1.2.0",
      "_model_name": "LayoutModel",
      "_view_count": null,
      "_view_module": "@jupyter-widgets/base",
      "_view_module_version": "1.2.0",
      "_view_name": "LayoutView",
      "align_content": null,
      "align_items": null,
      "align_self": null,
      "border": null,
      "bottom": null,
      "display": null,
      "flex": null,
      "flex_flow": null,
      "grid_area": null,
      "grid_auto_columns": null,
      "grid_auto_flow": null,
      "grid_auto_rows": null,
      "grid_column": null,
      "grid_gap": null,
      "grid_row": null,
      "grid_template_areas": null,
      "grid_template_columns": null,
      "grid_template_rows": null,
      "height": null,
      "justify_content": null,
      "justify_items": null,
      "left": null,
      "margin": null,
      "max_height": null,
      "max_width": null,
      "min_height": null,
      "min_width": null,
      "object_fit": null,
      "object_position": null,
      "order": null,
      "overflow": null,
      "overflow_x": null,
      "overflow_y": null,
      "padding": null,
      "right": null,
      "top": null,
      "visibility": null,
      "width": null
     }
    },
    "6bc000e69e6a413eb815a30a8713f32e": {
     "model_module": "@jupyter-widgets/controls",
     "model_name": "ProgressStyleModel",
     "model_module_version": "1.5.0",
     "state": {
      "_model_module": "@jupyter-widgets/controls",
      "_model_module_version": "1.5.0",
      "_model_name": "ProgressStyleModel",
      "_view_count": null,
      "_view_module": "@jupyter-widgets/base",
      "_view_module_version": "1.2.0",
      "_view_name": "StyleView",
      "bar_color": null,
      "description_width": ""
     }
    },
    "5e565c7d2abf47fd8449fe669993e730": {
     "model_module": "@jupyter-widgets/base",
     "model_name": "LayoutModel",
     "model_module_version": "1.2.0",
     "state": {
      "_model_module": "@jupyter-widgets/base",
      "_model_module_version": "1.2.0",
      "_model_name": "LayoutModel",
      "_view_count": null,
      "_view_module": "@jupyter-widgets/base",
      "_view_module_version": "1.2.0",
      "_view_name": "LayoutView",
      "align_content": null,
      "align_items": null,
      "align_self": null,
      "border": null,
      "bottom": null,
      "display": null,
      "flex": null,
      "flex_flow": null,
      "grid_area": null,
      "grid_auto_columns": null,
      "grid_auto_flow": null,
      "grid_auto_rows": null,
      "grid_column": null,
      "grid_gap": null,
      "grid_row": null,
      "grid_template_areas": null,
      "grid_template_columns": null,
      "grid_template_rows": null,
      "height": null,
      "justify_content": null,
      "justify_items": null,
      "left": null,
      "margin": null,
      "max_height": null,
      "max_width": null,
      "min_height": null,
      "min_width": null,
      "object_fit": null,
      "object_position": null,
      "order": null,
      "overflow": null,
      "overflow_x": null,
      "overflow_y": null,
      "padding": null,
      "right": null,
      "top": null,
      "visibility": null,
      "width": null
     }
    },
    "46d661aebfe340d8865d4a852d415468": {
     "model_module": "@jupyter-widgets/controls",
     "model_name": "DescriptionStyleModel",
     "model_module_version": "1.5.0",
     "state": {
      "_model_module": "@jupyter-widgets/controls",
      "_model_module_version": "1.5.0",
      "_model_name": "DescriptionStyleModel",
      "_view_count": null,
      "_view_module": "@jupyter-widgets/base",
      "_view_module_version": "1.2.0",
      "_view_name": "StyleView",
      "description_width": ""
     }
    },
    "b9f96f33e0da4779854bdaf1052419b2": {
     "model_module": "@jupyter-widgets/controls",
     "model_name": "HBoxModel",
     "model_module_version": "1.5.0",
     "state": {
      "_dom_classes": [],
      "_model_module": "@jupyter-widgets/controls",
      "_model_module_version": "1.5.0",
      "_model_name": "HBoxModel",
      "_view_count": null,
      "_view_module": "@jupyter-widgets/controls",
      "_view_module_version": "1.5.0",
      "_view_name": "HBoxView",
      "box_style": "",
      "children": [
       "IPY_MODEL_cb3038f7ff994e5097152e4ea69c8721",
       "IPY_MODEL_dd594ac4324d454c8e635ded3599a1d2",
       "IPY_MODEL_28fb10de13f74a30a778aea9db5d2d0c"
      ],
      "layout": "IPY_MODEL_e919eccb3f594a4e8813ff25387fe962"
     }
    },
    "cb3038f7ff994e5097152e4ea69c8721": {
     "model_module": "@jupyter-widgets/controls",
     "model_name": "HTMLModel",
     "model_module_version": "1.5.0",
     "state": {
      "_dom_classes": [],
      "_model_module": "@jupyter-widgets/controls",
      "_model_module_version": "1.5.0",
      "_model_name": "HTMLModel",
      "_view_count": null,
      "_view_module": "@jupyter-widgets/controls",
      "_view_module_version": "1.5.0",
      "_view_name": "HTMLView",
      "description": "",
      "description_tooltip": null,
      "layout": "IPY_MODEL_d267b2e2e6374f12bc756ae1ef21c2ab",
      "placeholder": "​",
      "style": "IPY_MODEL_0f28f561024e4774876c148ed3c0919e",
      "value": "tokenizer.json: 100%"
     }
    },
    "dd594ac4324d454c8e635ded3599a1d2": {
     "model_module": "@jupyter-widgets/controls",
     "model_name": "FloatProgressModel",
     "model_module_version": "1.5.0",
     "state": {
      "_dom_classes": [],
      "_model_module": "@jupyter-widgets/controls",
      "_model_module_version": "1.5.0",
      "_model_name": "FloatProgressModel",
      "_view_count": null,
      "_view_module": "@jupyter-widgets/controls",
      "_view_module_version": "1.5.0",
      "_view_name": "ProgressView",
      "bar_style": "success",
      "description": "",
      "description_tooltip": null,
      "layout": "IPY_MODEL_e3c38d5ccdd141a5b6225a0fd103dd4b",
      "max": 1356047,
      "min": 0,
      "orientation": "horizontal",
      "style": "IPY_MODEL_9e51e053325240cba40088da5962b335",
      "value": 1356047
     }
    },
    "28fb10de13f74a30a778aea9db5d2d0c": {
     "model_module": "@jupyter-widgets/controls",
     "model_name": "HTMLModel",
     "model_module_version": "1.5.0",
     "state": {
      "_dom_classes": [],
      "_model_module": "@jupyter-widgets/controls",
      "_model_module_version": "1.5.0",
      "_model_name": "HTMLModel",
      "_view_count": null,
      "_view_module": "@jupyter-widgets/controls",
      "_view_module_version": "1.5.0",
      "_view_name": "HTMLView",
      "description": "",
      "description_tooltip": null,
      "layout": "IPY_MODEL_381f53c7f79d4b0ba3e02aeaeeee2bd3",
      "placeholder": "​",
      "style": "IPY_MODEL_636a1de45c174978ac6095657ad81590",
      "value": " 1.36M/1.36M [00:00&lt;00:00, 16.0MB/s]"
     }
    },
    "e919eccb3f594a4e8813ff25387fe962": {
     "model_module": "@jupyter-widgets/base",
     "model_name": "LayoutModel",
     "model_module_version": "1.2.0",
     "state": {
      "_model_module": "@jupyter-widgets/base",
      "_model_module_version": "1.2.0",
      "_model_name": "LayoutModel",
      "_view_count": null,
      "_view_module": "@jupyter-widgets/base",
      "_view_module_version": "1.2.0",
      "_view_name": "LayoutView",
      "align_content": null,
      "align_items": null,
      "align_self": null,
      "border": null,
      "bottom": null,
      "display": null,
      "flex": null,
      "flex_flow": null,
      "grid_area": null,
      "grid_auto_columns": null,
      "grid_auto_flow": null,
      "grid_auto_rows": null,
      "grid_column": null,
      "grid_gap": null,
      "grid_row": null,
      "grid_template_areas": null,
      "grid_template_columns": null,
      "grid_template_rows": null,
      "height": null,
      "justify_content": null,
      "justify_items": null,
      "left": null,
      "margin": null,
      "max_height": null,
      "max_width": null,
      "min_height": null,
      "min_width": null,
      "object_fit": null,
      "object_position": null,
      "order": null,
      "overflow": null,
      "overflow_x": null,
      "overflow_y": null,
      "padding": null,
      "right": null,
      "top": null,
      "visibility": null,
      "width": null
     }
    },
    "d267b2e2e6374f12bc756ae1ef21c2ab": {
     "model_module": "@jupyter-widgets/base",
     "model_name": "LayoutModel",
     "model_module_version": "1.2.0",
     "state": {
      "_model_module": "@jupyter-widgets/base",
      "_model_module_version": "1.2.0",
      "_model_name": "LayoutModel",
      "_view_count": null,
      "_view_module": "@jupyter-widgets/base",
      "_view_module_version": "1.2.0",
      "_view_name": "LayoutView",
      "align_content": null,
      "align_items": null,
      "align_self": null,
      "border": null,
      "bottom": null,
      "display": null,
      "flex": null,
      "flex_flow": null,
      "grid_area": null,
      "grid_auto_columns": null,
      "grid_auto_flow": null,
      "grid_auto_rows": null,
      "grid_column": null,
      "grid_gap": null,
      "grid_row": null,
      "grid_template_areas": null,
      "grid_template_columns": null,
      "grid_template_rows": null,
      "height": null,
      "justify_content": null,
      "justify_items": null,
      "left": null,
      "margin": null,
      "max_height": null,
      "max_width": null,
      "min_height": null,
      "min_width": null,
      "object_fit": null,
      "object_position": null,
      "order": null,
      "overflow": null,
      "overflow_x": null,
      "overflow_y": null,
      "padding": null,
      "right": null,
      "top": null,
      "visibility": null,
      "width": null
     }
    },
    "0f28f561024e4774876c148ed3c0919e": {
     "model_module": "@jupyter-widgets/controls",
     "model_name": "DescriptionStyleModel",
     "model_module_version": "1.5.0",
     "state": {
      "_model_module": "@jupyter-widgets/controls",
      "_model_module_version": "1.5.0",
      "_model_name": "DescriptionStyleModel",
      "_view_count": null,
      "_view_module": "@jupyter-widgets/base",
      "_view_module_version": "1.2.0",
      "_view_name": "StyleView",
      "description_width": ""
     }
    },
    "e3c38d5ccdd141a5b6225a0fd103dd4b": {
     "model_module": "@jupyter-widgets/base",
     "model_name": "LayoutModel",
     "model_module_version": "1.2.0",
     "state": {
      "_model_module": "@jupyter-widgets/base",
      "_model_module_version": "1.2.0",
      "_model_name": "LayoutModel",
      "_view_count": null,
      "_view_module": "@jupyter-widgets/base",
      "_view_module_version": "1.2.0",
      "_view_name": "LayoutView",
      "align_content": null,
      "align_items": null,
      "align_self": null,
      "border": null,
      "bottom": null,
      "display": null,
      "flex": null,
      "flex_flow": null,
      "grid_area": null,
      "grid_auto_columns": null,
      "grid_auto_flow": null,
      "grid_auto_rows": null,
      "grid_column": null,
      "grid_gap": null,
      "grid_row": null,
      "grid_template_areas": null,
      "grid_template_columns": null,
      "grid_template_rows": null,
      "height": null,
      "justify_content": null,
      "justify_items": null,
      "left": null,
      "margin": null,
      "max_height": null,
      "max_width": null,
      "min_height": null,
      "min_width": null,
      "object_fit": null,
      "object_position": null,
      "order": null,
      "overflow": null,
      "overflow_x": null,
      "overflow_y": null,
      "padding": null,
      "right": null,
      "top": null,
      "visibility": null,
      "width": null
     }
    },
    "9e51e053325240cba40088da5962b335": {
     "model_module": "@jupyter-widgets/controls",
     "model_name": "ProgressStyleModel",
     "model_module_version": "1.5.0",
     "state": {
      "_model_module": "@jupyter-widgets/controls",
      "_model_module_version": "1.5.0",
      "_model_name": "ProgressStyleModel",
      "_view_count": null,
      "_view_module": "@jupyter-widgets/base",
      "_view_module_version": "1.2.0",
      "_view_name": "StyleView",
      "bar_color": null,
      "description_width": ""
     }
    },
    "381f53c7f79d4b0ba3e02aeaeeee2bd3": {
     "model_module": "@jupyter-widgets/base",
     "model_name": "LayoutModel",
     "model_module_version": "1.2.0",
     "state": {
      "_model_module": "@jupyter-widgets/base",
      "_model_module_version": "1.2.0",
      "_model_name": "LayoutModel",
      "_view_count": null,
      "_view_module": "@jupyter-widgets/base",
      "_view_module_version": "1.2.0",
      "_view_name": "LayoutView",
      "align_content": null,
      "align_items": null,
      "align_self": null,
      "border": null,
      "bottom": null,
      "display": null,
      "flex": null,
      "flex_flow": null,
      "grid_area": null,
      "grid_auto_columns": null,
      "grid_auto_flow": null,
      "grid_auto_rows": null,
      "grid_column": null,
      "grid_gap": null,
      "grid_row": null,
      "grid_template_areas": null,
      "grid_template_columns": null,
      "grid_template_rows": null,
      "height": null,
      "justify_content": null,
      "justify_items": null,
      "left": null,
      "margin": null,
      "max_height": null,
      "max_width": null,
      "min_height": null,
      "min_width": null,
      "object_fit": null,
      "object_position": null,
      "order": null,
      "overflow": null,
      "overflow_x": null,
      "overflow_y": null,
      "padding": null,
      "right": null,
      "top": null,
      "visibility": null,
      "width": null
     }
    },
    "636a1de45c174978ac6095657ad81590": {
     "model_module": "@jupyter-widgets/controls",
     "model_name": "DescriptionStyleModel",
     "model_module_version": "1.5.0",
     "state": {
      "_model_module": "@jupyter-widgets/controls",
      "_model_module_version": "1.5.0",
      "_model_name": "DescriptionStyleModel",
      "_view_count": null,
      "_view_module": "@jupyter-widgets/base",
      "_view_module_version": "1.2.0",
      "_view_name": "StyleView",
      "description_width": ""
     }
    },
    "633e68f0e5fa4c88a8af6fa19942bd29": {
     "model_module": "@jupyter-widgets/controls",
     "model_name": "HBoxModel",
     "model_module_version": "1.5.0",
     "state": {
      "_dom_classes": [],
      "_model_module": "@jupyter-widgets/controls",
      "_model_module_version": "1.5.0",
      "_model_name": "HBoxModel",
      "_view_count": null,
      "_view_module": "@jupyter-widgets/controls",
      "_view_module_version": "1.5.0",
      "_view_name": "HBoxView",
      "box_style": "",
      "children": [
       "IPY_MODEL_6a86fcde34464e21b46e0f5d18831ac8",
       "IPY_MODEL_6987d440d532443aa1edad1764589128",
       "IPY_MODEL_9f2e1258103e48c7abbc5e88268fb0b0"
      ],
      "layout": "IPY_MODEL_36735fbbf82142e58fa4bb38ff01a37d"
     }
    },
    "6a86fcde34464e21b46e0f5d18831ac8": {
     "model_module": "@jupyter-widgets/controls",
     "model_name": "HTMLModel",
     "model_module_version": "1.5.0",
     "state": {
      "_dom_classes": [],
      "_model_module": "@jupyter-widgets/controls",
      "_model_module_version": "1.5.0",
      "_model_name": "HTMLModel",
      "_view_count": null,
      "_view_module": "@jupyter-widgets/controls",
      "_view_module_version": "1.5.0",
      "_view_name": "HTMLView",
      "description": "",
      "description_tooltip": null,
      "layout": "IPY_MODEL_2527678cbc044059a2438931ff257f73",
      "placeholder": "​",
      "style": "IPY_MODEL_923330fd7caa41af9ac77581c514b5f9",
      "value": "special_tokens_map.json: 100%"
     }
    },
    "6987d440d532443aa1edad1764589128": {
     "model_module": "@jupyter-widgets/controls",
     "model_name": "FloatProgressModel",
     "model_module_version": "1.5.0",
     "state": {
      "_dom_classes": [],
      "_model_module": "@jupyter-widgets/controls",
      "_model_module_version": "1.5.0",
      "_model_name": "FloatProgressModel",
      "_view_count": null,
      "_view_module": "@jupyter-widgets/controls",
      "_view_module_version": "1.5.0",
      "_view_name": "ProgressView",
      "bar_style": "success",
      "description": "",
      "description_tooltip": null,
      "layout": "IPY_MODEL_fa7259770170431096057d2e3623be10",
      "max": 239,
      "min": 0,
      "orientation": "horizontal",
      "style": "IPY_MODEL_14b3c19c115e4eaa95e90f08e3d9c05d",
      "value": 239
     }
    },
    "9f2e1258103e48c7abbc5e88268fb0b0": {
     "model_module": "@jupyter-widgets/controls",
     "model_name": "HTMLModel",
     "model_module_version": "1.5.0",
     "state": {
      "_dom_classes": [],
      "_model_module": "@jupyter-widgets/controls",
      "_model_module_version": "1.5.0",
      "_model_name": "HTMLModel",
      "_view_count": null,
      "_view_module": "@jupyter-widgets/controls",
      "_view_module_version": "1.5.0",
      "_view_name": "HTMLView",
      "description": "",
      "description_tooltip": null,
      "layout": "IPY_MODEL_595f412b6f4b4a249e44a7f0da2684ee",
      "placeholder": "​",
      "style": "IPY_MODEL_799e634b5d0b4f408cf3ab83451a5e34",
      "value": " 239/239 [00:00&lt;00:00, 20.3kB/s]"
     }
    },
    "36735fbbf82142e58fa4bb38ff01a37d": {
     "model_module": "@jupyter-widgets/base",
     "model_name": "LayoutModel",
     "model_module_version": "1.2.0",
     "state": {
      "_model_module": "@jupyter-widgets/base",
      "_model_module_version": "1.2.0",
      "_model_name": "LayoutModel",
      "_view_count": null,
      "_view_module": "@jupyter-widgets/base",
      "_view_module_version": "1.2.0",
      "_view_name": "LayoutView",
      "align_content": null,
      "align_items": null,
      "align_self": null,
      "border": null,
      "bottom": null,
      "display": null,
      "flex": null,
      "flex_flow": null,
      "grid_area": null,
      "grid_auto_columns": null,
      "grid_auto_flow": null,
      "grid_auto_rows": null,
      "grid_column": null,
      "grid_gap": null,
      "grid_row": null,
      "grid_template_areas": null,
      "grid_template_columns": null,
      "grid_template_rows": null,
      "height": null,
      "justify_content": null,
      "justify_items": null,
      "left": null,
      "margin": null,
      "max_height": null,
      "max_width": null,
      "min_height": null,
      "min_width": null,
      "object_fit": null,
      "object_position": null,
      "order": null,
      "overflow": null,
      "overflow_x": null,
      "overflow_y": null,
      "padding": null,
      "right": null,
      "top": null,
      "visibility": null,
      "width": null
     }
    },
    "2527678cbc044059a2438931ff257f73": {
     "model_module": "@jupyter-widgets/base",
     "model_name": "LayoutModel",
     "model_module_version": "1.2.0",
     "state": {
      "_model_module": "@jupyter-widgets/base",
      "_model_module_version": "1.2.0",
      "_model_name": "LayoutModel",
      "_view_count": null,
      "_view_module": "@jupyter-widgets/base",
      "_view_module_version": "1.2.0",
      "_view_name": "LayoutView",
      "align_content": null,
      "align_items": null,
      "align_self": null,
      "border": null,
      "bottom": null,
      "display": null,
      "flex": null,
      "flex_flow": null,
      "grid_area": null,
      "grid_auto_columns": null,
      "grid_auto_flow": null,
      "grid_auto_rows": null,
      "grid_column": null,
      "grid_gap": null,
      "grid_row": null,
      "grid_template_areas": null,
      "grid_template_columns": null,
      "grid_template_rows": null,
      "height": null,
      "justify_content": null,
      "justify_items": null,
      "left": null,
      "margin": null,
      "max_height": null,
      "max_width": null,
      "min_height": null,
      "min_width": null,
      "object_fit": null,
      "object_position": null,
      "order": null,
      "overflow": null,
      "overflow_x": null,
      "overflow_y": null,
      "padding": null,
      "right": null,
      "top": null,
      "visibility": null,
      "width": null
     }
    },
    "923330fd7caa41af9ac77581c514b5f9": {
     "model_module": "@jupyter-widgets/controls",
     "model_name": "DescriptionStyleModel",
     "model_module_version": "1.5.0",
     "state": {
      "_model_module": "@jupyter-widgets/controls",
      "_model_module_version": "1.5.0",
      "_model_name": "DescriptionStyleModel",
      "_view_count": null,
      "_view_module": "@jupyter-widgets/base",
      "_view_module_version": "1.2.0",
      "_view_name": "StyleView",
      "description_width": ""
     }
    },
    "fa7259770170431096057d2e3623be10": {
     "model_module": "@jupyter-widgets/base",
     "model_name": "LayoutModel",
     "model_module_version": "1.2.0",
     "state": {
      "_model_module": "@jupyter-widgets/base",
      "_model_module_version": "1.2.0",
      "_model_name": "LayoutModel",
      "_view_count": null,
      "_view_module": "@jupyter-widgets/base",
      "_view_module_version": "1.2.0",
      "_view_name": "LayoutView",
      "align_content": null,
      "align_items": null,
      "align_self": null,
      "border": null,
      "bottom": null,
      "display": null,
      "flex": null,
      "flex_flow": null,
      "grid_area": null,
      "grid_auto_columns": null,
      "grid_auto_flow": null,
      "grid_auto_rows": null,
      "grid_column": null,
      "grid_gap": null,
      "grid_row": null,
      "grid_template_areas": null,
      "grid_template_columns": null,
      "grid_template_rows": null,
      "height": null,
      "justify_content": null,
      "justify_items": null,
      "left": null,
      "margin": null,
      "max_height": null,
      "max_width": null,
      "min_height": null,
      "min_width": null,
      "object_fit": null,
      "object_position": null,
      "order": null,
      "overflow": null,
      "overflow_x": null,
      "overflow_y": null,
      "padding": null,
      "right": null,
      "top": null,
      "visibility": null,
      "width": null
     }
    },
    "14b3c19c115e4eaa95e90f08e3d9c05d": {
     "model_module": "@jupyter-widgets/controls",
     "model_name": "ProgressStyleModel",
     "model_module_version": "1.5.0",
     "state": {
      "_model_module": "@jupyter-widgets/controls",
      "_model_module_version": "1.5.0",
      "_model_name": "ProgressStyleModel",
      "_view_count": null,
      "_view_module": "@jupyter-widgets/base",
      "_view_module_version": "1.2.0",
      "_view_name": "StyleView",
      "bar_color": null,
      "description_width": ""
     }
    },
    "595f412b6f4b4a249e44a7f0da2684ee": {
     "model_module": "@jupyter-widgets/base",
     "model_name": "LayoutModel",
     "model_module_version": "1.2.0",
     "state": {
      "_model_module": "@jupyter-widgets/base",
      "_model_module_version": "1.2.0",
      "_model_name": "LayoutModel",
      "_view_count": null,
      "_view_module": "@jupyter-widgets/base",
      "_view_module_version": "1.2.0",
      "_view_name": "LayoutView",
      "align_content": null,
      "align_items": null,
      "align_self": null,
      "border": null,
      "bottom": null,
      "display": null,
      "flex": null,
      "flex_flow": null,
      "grid_area": null,
      "grid_auto_columns": null,
      "grid_auto_flow": null,
      "grid_auto_rows": null,
      "grid_column": null,
      "grid_gap": null,
      "grid_row": null,
      "grid_template_areas": null,
      "grid_template_columns": null,
      "grid_template_rows": null,
      "height": null,
      "justify_content": null,
      "justify_items": null,
      "left": null,
      "margin": null,
      "max_height": null,
      "max_width": null,
      "min_height": null,
      "min_width": null,
      "object_fit": null,
      "object_position": null,
      "order": null,
      "overflow": null,
      "overflow_x": null,
      "overflow_y": null,
      "padding": null,
      "right": null,
      "top": null,
      "visibility": null,
      "width": null
     }
    },
    "799e634b5d0b4f408cf3ab83451a5e34": {
     "model_module": "@jupyter-widgets/controls",
     "model_name": "DescriptionStyleModel",
     "model_module_version": "1.5.0",
     "state": {
      "_model_module": "@jupyter-widgets/controls",
      "_model_module_version": "1.5.0",
      "_model_name": "DescriptionStyleModel",
      "_view_count": null,
      "_view_module": "@jupyter-widgets/base",
      "_view_module_version": "1.2.0",
      "_view_name": "StyleView",
      "description_width": ""
     }
    },
    "75981867ef7a4a049ae4027a4222f33b": {
     "model_module": "@jupyter-widgets/controls",
     "model_name": "HBoxModel",
     "model_module_version": "1.5.0",
     "state": {
      "_dom_classes": [],
      "_model_module": "@jupyter-widgets/controls",
      "_model_module_version": "1.5.0",
      "_model_name": "HBoxModel",
      "_view_count": null,
      "_view_module": "@jupyter-widgets/controls",
      "_view_module_version": "1.5.0",
      "_view_name": "HBoxView",
      "box_style": "",
      "children": [
       "IPY_MODEL_19ddc55f8f9a47b89fecbc7105b5820d",
       "IPY_MODEL_488dba0dc2434c039ef1722cc62db838",
       "IPY_MODEL_fb0b71641d8140dc8d7865713c45afc5"
      ],
      "layout": "IPY_MODEL_147d7c6f07b4489aacadf81ad4fb7b57"
     }
    },
    "19ddc55f8f9a47b89fecbc7105b5820d": {
     "model_module": "@jupyter-widgets/controls",
     "model_name": "HTMLModel",
     "model_module_version": "1.5.0",
     "state": {
      "_dom_classes": [],
      "_model_module": "@jupyter-widgets/controls",
      "_model_module_version": "1.5.0",
      "_model_name": "HTMLModel",
      "_view_count": null,
      "_view_module": "@jupyter-widgets/controls",
      "_view_module_version": "1.5.0",
      "_view_name": "HTMLView",
      "description": "",
      "description_tooltip": null,
      "layout": "IPY_MODEL_1f2ea8e1303e464284e341e010f45cc8",
      "placeholder": "​",
      "style": "IPY_MODEL_4f7f7f4ba24d4ea493ddaab4411f2f98",
      "value": "model.safetensors: 100%"
     }
    },
    "488dba0dc2434c039ef1722cc62db838": {
     "model_module": "@jupyter-widgets/controls",
     "model_name": "FloatProgressModel",
     "model_module_version": "1.5.0",
     "state": {
      "_dom_classes": [],
      "_model_module": "@jupyter-widgets/controls",
      "_model_module_version": "1.5.0",
      "_model_name": "FloatProgressModel",
      "_view_count": null,
      "_view_module": "@jupyter-widgets/controls",
      "_view_module_version": "1.5.0",
      "_view_name": "ProgressView",
      "bar_style": "success",
      "description": "",
      "description_tooltip": null,
      "layout": "IPY_MODEL_443902bc609540ca9dc2824decc95bc4",
      "max": 328511860,
      "min": 0,
      "orientation": "horizontal",
      "style": "IPY_MODEL_751cd20cba9149b789b6cf8caaba289a",
      "value": 328511860
     }
    },
    "fb0b71641d8140dc8d7865713c45afc5": {
     "model_module": "@jupyter-widgets/controls",
     "model_name": "HTMLModel",
     "model_module_version": "1.5.0",
     "state": {
      "_dom_classes": [],
      "_model_module": "@jupyter-widgets/controls",
      "_model_module_version": "1.5.0",
      "_model_name": "HTMLModel",
      "_view_count": null,
      "_view_module": "@jupyter-widgets/controls",
      "_view_module_version": "1.5.0",
      "_view_name": "HTMLView",
      "description": "",
      "description_tooltip": null,
      "layout": "IPY_MODEL_0fc2768dda514bf597d630b379ecccfd",
      "placeholder": "​",
      "style": "IPY_MODEL_65222b353de24c79a46f2a6c88f9fb75",
      "value": " 329M/329M [00:03&lt;00:00, 171MB/s]"
     }
    },
    "147d7c6f07b4489aacadf81ad4fb7b57": {
     "model_module": "@jupyter-widgets/base",
     "model_name": "LayoutModel",
     "model_module_version": "1.2.0",
     "state": {
      "_model_module": "@jupyter-widgets/base",
      "_model_module_version": "1.2.0",
      "_model_name": "LayoutModel",
      "_view_count": null,
      "_view_module": "@jupyter-widgets/base",
      "_view_module_version": "1.2.0",
      "_view_name": "LayoutView",
      "align_content": null,
      "align_items": null,
      "align_self": null,
      "border": null,
      "bottom": null,
      "display": null,
      "flex": null,
      "flex_flow": null,
      "grid_area": null,
      "grid_auto_columns": null,
      "grid_auto_flow": null,
      "grid_auto_rows": null,
      "grid_column": null,
      "grid_gap": null,
      "grid_row": null,
      "grid_template_areas": null,
      "grid_template_columns": null,
      "grid_template_rows": null,
      "height": null,
      "justify_content": null,
      "justify_items": null,
      "left": null,
      "margin": null,
      "max_height": null,
      "max_width": null,
      "min_height": null,
      "min_width": null,
      "object_fit": null,
      "object_position": null,
      "order": null,
      "overflow": null,
      "overflow_x": null,
      "overflow_y": null,
      "padding": null,
      "right": null,
      "top": null,
      "visibility": null,
      "width": null
     }
    },
    "1f2ea8e1303e464284e341e010f45cc8": {
     "model_module": "@jupyter-widgets/base",
     "model_name": "LayoutModel",
     "model_module_version": "1.2.0",
     "state": {
      "_model_module": "@jupyter-widgets/base",
      "_model_module_version": "1.2.0",
      "_model_name": "LayoutModel",
      "_view_count": null,
      "_view_module": "@jupyter-widgets/base",
      "_view_module_version": "1.2.0",
      "_view_name": "LayoutView",
      "align_content": null,
      "align_items": null,
      "align_self": null,
      "border": null,
      "bottom": null,
      "display": null,
      "flex": null,
      "flex_flow": null,
      "grid_area": null,
      "grid_auto_columns": null,
      "grid_auto_flow": null,
      "grid_auto_rows": null,
      "grid_column": null,
      "grid_gap": null,
      "grid_row": null,
      "grid_template_areas": null,
      "grid_template_columns": null,
      "grid_template_rows": null,
      "height": null,
      "justify_content": null,
      "justify_items": null,
      "left": null,
      "margin": null,
      "max_height": null,
      "max_width": null,
      "min_height": null,
      "min_width": null,
      "object_fit": null,
      "object_position": null,
      "order": null,
      "overflow": null,
      "overflow_x": null,
      "overflow_y": null,
      "padding": null,
      "right": null,
      "top": null,
      "visibility": null,
      "width": null
     }
    },
    "4f7f7f4ba24d4ea493ddaab4411f2f98": {
     "model_module": "@jupyter-widgets/controls",
     "model_name": "DescriptionStyleModel",
     "model_module_version": "1.5.0",
     "state": {
      "_model_module": "@jupyter-widgets/controls",
      "_model_module_version": "1.5.0",
      "_model_name": "DescriptionStyleModel",
      "_view_count": null,
      "_view_module": "@jupyter-widgets/base",
      "_view_module_version": "1.2.0",
      "_view_name": "StyleView",
      "description_width": ""
     }
    },
    "443902bc609540ca9dc2824decc95bc4": {
     "model_module": "@jupyter-widgets/base",
     "model_name": "LayoutModel",
     "model_module_version": "1.2.0",
     "state": {
      "_model_module": "@jupyter-widgets/base",
      "_model_module_version": "1.2.0",
      "_model_name": "LayoutModel",
      "_view_count": null,
      "_view_module": "@jupyter-widgets/base",
      "_view_module_version": "1.2.0",
      "_view_name": "LayoutView",
      "align_content": null,
      "align_items": null,
      "align_self": null,
      "border": null,
      "bottom": null,
      "display": null,
      "flex": null,
      "flex_flow": null,
      "grid_area": null,
      "grid_auto_columns": null,
      "grid_auto_flow": null,
      "grid_auto_rows": null,
      "grid_column": null,
      "grid_gap": null,
      "grid_row": null,
      "grid_template_areas": null,
      "grid_template_columns": null,
      "grid_template_rows": null,
      "height": null,
      "justify_content": null,
      "justify_items": null,
      "left": null,
      "margin": null,
      "max_height": null,
      "max_width": null,
      "min_height": null,
      "min_width": null,
      "object_fit": null,
      "object_position": null,
      "order": null,
      "overflow": null,
      "overflow_x": null,
      "overflow_y": null,
      "padding": null,
      "right": null,
      "top": null,
      "visibility": null,
      "width": null
     }
    },
    "751cd20cba9149b789b6cf8caaba289a": {
     "model_module": "@jupyter-widgets/controls",
     "model_name": "ProgressStyleModel",
     "model_module_version": "1.5.0",
     "state": {
      "_model_module": "@jupyter-widgets/controls",
      "_model_module_version": "1.5.0",
      "_model_name": "ProgressStyleModel",
      "_view_count": null,
      "_view_module": "@jupyter-widgets/base",
      "_view_module_version": "1.2.0",
      "_view_name": "StyleView",
      "bar_color": null,
      "description_width": ""
     }
    },
    "0fc2768dda514bf597d630b379ecccfd": {
     "model_module": "@jupyter-widgets/base",
     "model_name": "LayoutModel",
     "model_module_version": "1.2.0",
     "state": {
      "_model_module": "@jupyter-widgets/base",
      "_model_module_version": "1.2.0",
      "_model_name": "LayoutModel",
      "_view_count": null,
      "_view_module": "@jupyter-widgets/base",
      "_view_module_version": "1.2.0",
      "_view_name": "LayoutView",
      "align_content": null,
      "align_items": null,
      "align_self": null,
      "border": null,
      "bottom": null,
      "display": null,
      "flex": null,
      "flex_flow": null,
      "grid_area": null,
      "grid_auto_columns": null,
      "grid_auto_flow": null,
      "grid_auto_rows": null,
      "grid_column": null,
      "grid_gap": null,
      "grid_row": null,
      "grid_template_areas": null,
      "grid_template_columns": null,
      "grid_template_rows": null,
      "height": null,
      "justify_content": null,
      "justify_items": null,
      "left": null,
      "margin": null,
      "max_height": null,
      "max_width": null,
      "min_height": null,
      "min_width": null,
      "object_fit": null,
      "object_position": null,
      "order": null,
      "overflow": null,
      "overflow_x": null,
      "overflow_y": null,
      "padding": null,
      "right": null,
      "top": null,
      "visibility": null,
      "width": null
     }
    },
    "65222b353de24c79a46f2a6c88f9fb75": {
     "model_module": "@jupyter-widgets/controls",
     "model_name": "DescriptionStyleModel",
     "model_module_version": "1.5.0",
     "state": {
      "_model_module": "@jupyter-widgets/controls",
      "_model_module_version": "1.5.0",
      "_model_name": "DescriptionStyleModel",
      "_view_count": null,
      "_view_module": "@jupyter-widgets/base",
      "_view_module_version": "1.2.0",
      "_view_name": "StyleView",
      "description_width": ""
     }
    }
   }
  }
 },
 "cells": [
  {
   "cell_type": "markdown",
   "source": [
    "# Set up"
   ],
   "metadata": {
    "id": "BqypA9e8Z3gd"
   }
  },
  {
   "cell_type": "code",
   "source": [
    "# !pip install --upgrade huggingface_hub\n",
    "# !huggingface-cli login\n",
    "# !pip install datasets\n"
   ],
   "metadata": {
    "colab": {
     "base_uri": "https://localhost:8080/"
    },
    "collapsed": true,
    "id": "K_sXwx4EdQ3V",
    "outputId": "43f75ddd-9898-49dd-e739-86fece451f0e",
    "ExecuteTime": {
     "end_time": "2025-04-09T03:00:15.739494Z",
     "start_time": "2025-04-09T03:00:15.736866Z"
    }
   },
   "outputs": [],
   "execution_count": 1
  },
  {
   "metadata": {},
   "cell_type": "markdown",
   "source": "If running with an Nvidia GPU make sure you type nvidia-smi into the terminal and look at the cuda version and grab the correct version of pytorch for said cuda version @ https://pytorch.org/"
  },
  {
   "cell_type": "code",
   "source": "# !pip install transformers datasets #torch",
   "metadata": {
    "colab": {
     "base_uri": "https://localhost:8080/"
    },
    "id": "iDPB7Lg7gzFi",
    "outputId": "43a92b92-1676-4a42-a882-3a19687b16c5",
    "ExecuteTime": {
     "end_time": "2025-04-09T03:00:16.031695Z",
     "start_time": "2025-04-09T03:00:16.029058Z"
    }
   },
   "outputs": [],
   "execution_count": 2
  },
  {
   "cell_type": "code",
   "source": [
    "from datasets import load_dataset\n",
    "import pandas as pd\n",
    "from sympy import false"
   ],
   "metadata": {
    "id": "cRSHviaQgJxD",
    "ExecuteTime": {
     "end_time": "2025-04-09T03:00:16.875473Z",
     "start_time": "2025-04-09T03:00:16.036912Z"
    }
   },
   "outputs": [],
   "execution_count": 3
  },
  {
   "metadata": {},
   "cell_type": "markdown",
   "source": "Cuda check"
  },
  {
   "metadata": {
    "id": "Hiu8N_-xj53U",
    "ExecuteTime": {
     "end_time": "2025-04-09T03:00:18.446603Z",
     "start_time": "2025-04-09T03:00:16.904416Z"
    }
   },
   "cell_type": "code",
   "source": [
    "import torch\n",
    "import torch.nn.functional as F\n",
    "\n",
    "print(torch.__version__)  # Should be 2.6.0+cu128\n",
    "print(torch.version.cuda)  # Should show 12.8\n",
    "print(torch.cuda.is_available())  # Should return True\n",
    "print(torch.cuda.device_count())  # Should be >0\n",
    "print(torch.cuda.get_device_name(0))\n"
   ],
   "outputs": [
    {
     "name": "stdout",
     "output_type": "stream",
     "text": [
      "2.8.0.dev20250318+cu128\n",
      "12.8\n",
      "True\n",
      "1\n",
      "NVIDIA GeForce RTX 4080 SUPER\n"
     ]
    }
   ],
   "execution_count": 4
  },
  {
   "metadata": {},
   "cell_type": "markdown",
   "source": [
    "Ai tweets Generated by Gpt 4o model\n",
    "Prompt 1: \"Create 100 [10 times] tweets from X formerly know as twitter about random topics\"\n",
    "Prompt 2 \"Tweet about current events like politics and entertainment\""
   ]
  },
  {
   "metadata": {
    "ExecuteTime": {
     "end_time": "2025-04-09T03:00:18.469756Z",
     "start_time": "2025-04-09T03:00:18.455018Z"
    }
   },
   "cell_type": "code",
   "source": [
    "import pandas as pd\n",
    "\n",
    "prompt1 = pd.read_csv('data/ai_tweets_1.txt', delimiter=\"\\r\", header=None, names=[\"tweet\"])\n",
    "prompt2 = pd.read_csv('data/ai_tweets_2.txt', delimiter='\\r', header=None, names=['tweet'])\n",
    "prompt1.head(10)\n",
    "prompt2.head(10)"
   ],
   "outputs": [
    {
     "data": {
      "text/plain": [
       "                                               tweet\n",
       "0  Is anyone else still trying to figure out what...\n",
       "1  Can’t believe the Oscar nominations are alread...\n",
       "2  It's interesting to see how political campaign...\n",
       "3  The rise of AI is both exciting and terrifying...\n",
       "4  Heard some big things are coming from Netflix ...\n",
       "5  If you’re not following the latest development...\n",
       "6  The world’s carbon emissions are still rising ...\n",
       "7  Did anyone watch the latest episode of The Man...\n",
       "8  I’m really hoping the upcoming election debate...\n",
       "9  The recent TikTok bans in various states feel ..."
      ],
      "text/html": [
       "<div>\n",
       "<style scoped>\n",
       "    .dataframe tbody tr th:only-of-type {\n",
       "        vertical-align: middle;\n",
       "    }\n",
       "\n",
       "    .dataframe tbody tr th {\n",
       "        vertical-align: top;\n",
       "    }\n",
       "\n",
       "    .dataframe thead th {\n",
       "        text-align: right;\n",
       "    }\n",
       "</style>\n",
       "<table border=\"1\" class=\"dataframe\">\n",
       "  <thead>\n",
       "    <tr style=\"text-align: right;\">\n",
       "      <th></th>\n",
       "      <th>tweet</th>\n",
       "    </tr>\n",
       "  </thead>\n",
       "  <tbody>\n",
       "    <tr>\n",
       "      <th>0</th>\n",
       "      <td>Is anyone else still trying to figure out what...</td>\n",
       "    </tr>\n",
       "    <tr>\n",
       "      <th>1</th>\n",
       "      <td>Can’t believe the Oscar nominations are alread...</td>\n",
       "    </tr>\n",
       "    <tr>\n",
       "      <th>2</th>\n",
       "      <td>It's interesting to see how political campaign...</td>\n",
       "    </tr>\n",
       "    <tr>\n",
       "      <th>3</th>\n",
       "      <td>The rise of AI is both exciting and terrifying...</td>\n",
       "    </tr>\n",
       "    <tr>\n",
       "      <th>4</th>\n",
       "      <td>Heard some big things are coming from Netflix ...</td>\n",
       "    </tr>\n",
       "    <tr>\n",
       "      <th>5</th>\n",
       "      <td>If you’re not following the latest development...</td>\n",
       "    </tr>\n",
       "    <tr>\n",
       "      <th>6</th>\n",
       "      <td>The world’s carbon emissions are still rising ...</td>\n",
       "    </tr>\n",
       "    <tr>\n",
       "      <th>7</th>\n",
       "      <td>Did anyone watch the latest episode of The Man...</td>\n",
       "    </tr>\n",
       "    <tr>\n",
       "      <th>8</th>\n",
       "      <td>I’m really hoping the upcoming election debate...</td>\n",
       "    </tr>\n",
       "    <tr>\n",
       "      <th>9</th>\n",
       "      <td>The recent TikTok bans in various states feel ...</td>\n",
       "    </tr>\n",
       "  </tbody>\n",
       "</table>\n",
       "</div>"
      ]
     },
     "execution_count": 5,
     "metadata": {},
     "output_type": "execute_result"
    }
   ],
   "execution_count": 5
  },
  {
   "metadata": {
    "ExecuteTime": {
     "end_time": "2025-04-09T03:00:18.501895Z",
     "start_time": "2025-04-09T03:00:18.497121Z"
    }
   },
   "cell_type": "code",
   "source": "prompt1.head()",
   "outputs": [
    {
     "data": {
      "text/plain": [
       "                                               tweet\n",
       "0  Just realized that the best part of coffee is ...\n",
       "1  Is it weird that I feel like my shoes are judg...\n",
       "2  Sometimes the smallest things take up the most...\n",
       "3  Did anyone else learn more from watching cooki...\n",
       "4  Can't decide if I need a vacation or a nap. Ma..."
      ],
      "text/html": [
       "<div>\n",
       "<style scoped>\n",
       "    .dataframe tbody tr th:only-of-type {\n",
       "        vertical-align: middle;\n",
       "    }\n",
       "\n",
       "    .dataframe tbody tr th {\n",
       "        vertical-align: top;\n",
       "    }\n",
       "\n",
       "    .dataframe thead th {\n",
       "        text-align: right;\n",
       "    }\n",
       "</style>\n",
       "<table border=\"1\" class=\"dataframe\">\n",
       "  <thead>\n",
       "    <tr style=\"text-align: right;\">\n",
       "      <th></th>\n",
       "      <th>tweet</th>\n",
       "    </tr>\n",
       "  </thead>\n",
       "  <tbody>\n",
       "    <tr>\n",
       "      <th>0</th>\n",
       "      <td>Just realized that the best part of coffee is ...</td>\n",
       "    </tr>\n",
       "    <tr>\n",
       "      <th>1</th>\n",
       "      <td>Is it weird that I feel like my shoes are judg...</td>\n",
       "    </tr>\n",
       "    <tr>\n",
       "      <th>2</th>\n",
       "      <td>Sometimes the smallest things take up the most...</td>\n",
       "    </tr>\n",
       "    <tr>\n",
       "      <th>3</th>\n",
       "      <td>Did anyone else learn more from watching cooki...</td>\n",
       "    </tr>\n",
       "    <tr>\n",
       "      <th>4</th>\n",
       "      <td>Can't decide if I need a vacation or a nap. Ma...</td>\n",
       "    </tr>\n",
       "  </tbody>\n",
       "</table>\n",
       "</div>"
      ]
     },
     "execution_count": 6,
     "metadata": {},
     "output_type": "execute_result"
    }
   ],
   "execution_count": 6
  },
  {
   "metadata": {
    "ExecuteTime": {
     "end_time": "2025-04-09T03:00:18.536646Z",
     "start_time": "2025-04-09T03:00:18.531942Z"
    }
   },
   "cell_type": "code",
   "source": "prompt2.head()",
   "outputs": [
    {
     "data": {
      "text/plain": [
       "                                               tweet\n",
       "0  Is anyone else still trying to figure out what...\n",
       "1  Can’t believe the Oscar nominations are alread...\n",
       "2  It's interesting to see how political campaign...\n",
       "3  The rise of AI is both exciting and terrifying...\n",
       "4  Heard some big things are coming from Netflix ..."
      ],
      "text/html": [
       "<div>\n",
       "<style scoped>\n",
       "    .dataframe tbody tr th:only-of-type {\n",
       "        vertical-align: middle;\n",
       "    }\n",
       "\n",
       "    .dataframe tbody tr th {\n",
       "        vertical-align: top;\n",
       "    }\n",
       "\n",
       "    .dataframe thead th {\n",
       "        text-align: right;\n",
       "    }\n",
       "</style>\n",
       "<table border=\"1\" class=\"dataframe\">\n",
       "  <thead>\n",
       "    <tr style=\"text-align: right;\">\n",
       "      <th></th>\n",
       "      <th>tweet</th>\n",
       "    </tr>\n",
       "  </thead>\n",
       "  <tbody>\n",
       "    <tr>\n",
       "      <th>0</th>\n",
       "      <td>Is anyone else still trying to figure out what...</td>\n",
       "    </tr>\n",
       "    <tr>\n",
       "      <th>1</th>\n",
       "      <td>Can’t believe the Oscar nominations are alread...</td>\n",
       "    </tr>\n",
       "    <tr>\n",
       "      <th>2</th>\n",
       "      <td>It's interesting to see how political campaign...</td>\n",
       "    </tr>\n",
       "    <tr>\n",
       "      <th>3</th>\n",
       "      <td>The rise of AI is both exciting and terrifying...</td>\n",
       "    </tr>\n",
       "    <tr>\n",
       "      <th>4</th>\n",
       "      <td>Heard some big things are coming from Netflix ...</td>\n",
       "    </tr>\n",
       "  </tbody>\n",
       "</table>\n",
       "</div>"
      ]
     },
     "execution_count": 7,
     "metadata": {},
     "output_type": "execute_result"
    }
   ],
   "execution_count": 7
  },
  {
   "metadata": {},
   "cell_type": "markdown",
   "source": "# setting up dair-ai emotions database"
  },
  {
   "metadata": {
    "id": "pZ48ECEkZ2fs",
    "ExecuteTime": {
     "end_time": "2025-04-09T03:00:20.473857Z",
     "start_time": "2025-04-09T03:00:18.654070Z"
    }
   },
   "cell_type": "code",
   "source": "ds = load_dataset(\"dair-ai/emotion\", \"unsplit\")",
   "outputs": [],
   "execution_count": 8
  },
  {
   "metadata": {
    "id": "Iq4ZhEeudLHi",
    "ExecuteTime": {
     "end_time": "2025-04-09T03:00:24.545573Z",
     "start_time": "2025-04-09T03:00:20.509702Z"
    }
   },
   "cell_type": "code",
   "source": [
    "dair_df = pd.DataFrame(ds['train'])\n",
    "dair_df = dair_df.drop(dair_df[dair_df['label'] == 2].index)\n",
    "dair_df=dair_df.head(20000)\n",
    "dair_df\n",
    "#df = df.drop(columns=['id'])"
   ],
   "outputs": [
    {
     "data": {
      "text/plain": [
       "                                                    text  label\n",
       "0      i feel awful about it too because it s my job ...      0\n",
       "1                                  im alone i feel awful      0\n",
       "2      ive probably mentioned this before but i reall...      1\n",
       "3               i was feeling a little low few days back      0\n",
       "6      i am one of those people who feels like going ...      1\n",
       "...                                                  ...    ...\n",
       "21818  i struggle with feeling terrible about turning...      0\n",
       "21819  i just wanted them both to just have character...      1\n",
       "21820  i feel a little funny just typing all about my...      5\n",
       "21821                 i feel just target blank title del      0\n",
       "21822                         i feel violent towards her      3\n",
       "\n",
       "[20000 rows x 2 columns]"
      ],
      "text/html": [
       "<div>\n",
       "<style scoped>\n",
       "    .dataframe tbody tr th:only-of-type {\n",
       "        vertical-align: middle;\n",
       "    }\n",
       "\n",
       "    .dataframe tbody tr th {\n",
       "        vertical-align: top;\n",
       "    }\n",
       "\n",
       "    .dataframe thead th {\n",
       "        text-align: right;\n",
       "    }\n",
       "</style>\n",
       "<table border=\"1\" class=\"dataframe\">\n",
       "  <thead>\n",
       "    <tr style=\"text-align: right;\">\n",
       "      <th></th>\n",
       "      <th>text</th>\n",
       "      <th>label</th>\n",
       "    </tr>\n",
       "  </thead>\n",
       "  <tbody>\n",
       "    <tr>\n",
       "      <th>0</th>\n",
       "      <td>i feel awful about it too because it s my job ...</td>\n",
       "      <td>0</td>\n",
       "    </tr>\n",
       "    <tr>\n",
       "      <th>1</th>\n",
       "      <td>im alone i feel awful</td>\n",
       "      <td>0</td>\n",
       "    </tr>\n",
       "    <tr>\n",
       "      <th>2</th>\n",
       "      <td>ive probably mentioned this before but i reall...</td>\n",
       "      <td>1</td>\n",
       "    </tr>\n",
       "    <tr>\n",
       "      <th>3</th>\n",
       "      <td>i was feeling a little low few days back</td>\n",
       "      <td>0</td>\n",
       "    </tr>\n",
       "    <tr>\n",
       "      <th>6</th>\n",
       "      <td>i am one of those people who feels like going ...</td>\n",
       "      <td>1</td>\n",
       "    </tr>\n",
       "    <tr>\n",
       "      <th>...</th>\n",
       "      <td>...</td>\n",
       "      <td>...</td>\n",
       "    </tr>\n",
       "    <tr>\n",
       "      <th>21818</th>\n",
       "      <td>i struggle with feeling terrible about turning...</td>\n",
       "      <td>0</td>\n",
       "    </tr>\n",
       "    <tr>\n",
       "      <th>21819</th>\n",
       "      <td>i just wanted them both to just have character...</td>\n",
       "      <td>1</td>\n",
       "    </tr>\n",
       "    <tr>\n",
       "      <th>21820</th>\n",
       "      <td>i feel a little funny just typing all about my...</td>\n",
       "      <td>5</td>\n",
       "    </tr>\n",
       "    <tr>\n",
       "      <th>21821</th>\n",
       "      <td>i feel just target blank title del</td>\n",
       "      <td>0</td>\n",
       "    </tr>\n",
       "    <tr>\n",
       "      <th>21822</th>\n",
       "      <td>i feel violent towards her</td>\n",
       "      <td>3</td>\n",
       "    </tr>\n",
       "  </tbody>\n",
       "</table>\n",
       "<p>20000 rows × 2 columns</p>\n",
       "</div>"
      ]
     },
     "execution_count": 9,
     "metadata": {},
     "output_type": "execute_result"
    }
   ],
   "execution_count": 9
  },
  {
   "metadata": {
    "ExecuteTime": {
     "end_time": "2025-04-09T03:00:24.654644Z",
     "start_time": "2025-04-09T03:00:24.568726Z"
    }
   },
   "cell_type": "code",
   "source": [
    "import matplotlib.pyplot as plt\n",
    "\n",
    "emotion_counts = dair_df['label'].value_counts().sort_index()\n",
    "\n",
    "# Map of label ids to emotion names (from the dataset's documentation)\n",
    "label_map = {\n",
    "    0: 'sadness',\n",
    "    1: 'joy',\n",
    "    3: 'fear',\n",
    "    4: 'anger',\n",
    "    5: 'surprise',\n",
    "    6: 'love'\n",
    "}\n",
    "\n",
    "# Create a bar plot\n",
    "plt.figure(figsize=(10, 6))\n",
    "plt.bar([label_map[i] for i in emotion_counts.index], emotion_counts.values)\n",
    "plt.xlabel('Emotion')\n",
    "plt.ylabel('Count')\n",
    "plt.title('Emotion Distribution in dair-ai/emotion Dataset (love label removed)')\n",
    "plt.xticks(rotation=45)\n",
    "plt.tight_layout()\n",
    "plt.show()"
   ],
   "outputs": [
    {
     "data": {
      "text/plain": [
       "<Figure size 1000x600 with 1 Axes>"
      ],
      "image/png": "[encoded data removed]"
     },
     "metadata": {},
     "output_type": "display_data"
    }
   ],
   "execution_count": 10
  },
  {
   "metadata": {},
   "cell_type": "markdown",
   "source": "Setting up pretrained model to assess how does this model perform against upcoming self made model"
  },
  {
   "metadata": {},
   "cell_type": "markdown",
   "source": [
    "j. hartmann dataclass has 5 classess since the model does not detect love and the dataset is already big we will drop all instances of love\n",
    "\n",
    "0.  sadness\n",
    "1.   joy\n",
    "2.   love\n",
    "3.   anger\n",
    "4.   fear\n",
    "5.   suprise"
   ]
  },
  {
   "metadata": {},
   "cell_type": "markdown",
   "source": "Maps labels to conform to go_emotions that will appear later on"
  },
  {
   "metadata": {
    "ExecuteTime": {
     "end_time": "2025-04-09T03:00:24.676237Z",
     "start_time": "2025-04-09T03:00:24.672554Z"
    }
   },
   "cell_type": "code",
   "source": [
    "# to conform to go_emotion data labels\n",
    "dair_ai_new_label_mapping = {\n",
    "    0 : 4,\n",
    "    1 : 3,\n",
    " #   2 : 100,# love not used\n",
    "    3 : 0,\n",
    "    4 : 2,\n",
    "    5 : 5\n",
    "}\n",
    "print(dair_ai_new_label_mapping)"
   ],
   "outputs": [
    {
     "name": "stdout",
     "output_type": "stream",
     "text": [
      "{0: 4, 1: 3, 3: 0, 4: 2, 5: 5}\n"
     ]
    }
   ],
   "execution_count": 11
  },
  {
   "metadata": {
    "colab": {
     "base_uri": "https://localhost:8080/",
     "height": 423
    },
    "id": "SDn-Z_Dmi_w4",
    "outputId": "f9232e1e-b971-4175-ba22-326b708b05b5",
    "ExecuteTime": {
     "end_time": "2025-04-09T03:00:24.717232Z",
     "start_time": "2025-04-09T03:00:24.711953Z"
    }
   },
   "cell_type": "code",
   "source": [
    "dair_df=dair_df.head(20000)\n",
    "dair_df['label'] = dair_df['label'].map(dair_ai_new_label_mapping)\n",
    "#smalldf['label'] = smalldf['label'].astype(int)\n",
    "\n",
    "dair_df"
   ],
   "outputs": [
    {
     "data": {
      "text/plain": [
       "                                                    text  label\n",
       "0      i feel awful about it too because it s my job ...      4\n",
       "1                                  im alone i feel awful      4\n",
       "2      ive probably mentioned this before but i reall...      3\n",
       "3               i was feeling a little low few days back      4\n",
       "6      i am one of those people who feels like going ...      3\n",
       "...                                                  ...    ...\n",
       "21818  i struggle with feeling terrible about turning...      4\n",
       "21819  i just wanted them both to just have character...      3\n",
       "21820  i feel a little funny just typing all about my...      5\n",
       "21821                 i feel just target blank title del      4\n",
       "21822                         i feel violent towards her      0\n",
       "\n",
       "[20000 rows x 2 columns]"
      ],
      "text/html": [
       "<div>\n",
       "<style scoped>\n",
       "    .dataframe tbody tr th:only-of-type {\n",
       "        vertical-align: middle;\n",
       "    }\n",
       "\n",
       "    .dataframe tbody tr th {\n",
       "        vertical-align: top;\n",
       "    }\n",
       "\n",
       "    .dataframe thead th {\n",
       "        text-align: right;\n",
       "    }\n",
       "</style>\n",
       "<table border=\"1\" class=\"dataframe\">\n",
       "  <thead>\n",
       "    <tr style=\"text-align: right;\">\n",
       "      <th></th>\n",
       "      <th>text</th>\n",
       "      <th>label</th>\n",
       "    </tr>\n",
       "  </thead>\n",
       "  <tbody>\n",
       "    <tr>\n",
       "      <th>0</th>\n",
       "      <td>i feel awful about it too because it s my job ...</td>\n",
       "      <td>4</td>\n",
       "    </tr>\n",
       "    <tr>\n",
       "      <th>1</th>\n",
       "      <td>im alone i feel awful</td>\n",
       "      <td>4</td>\n",
       "    </tr>\n",
       "    <tr>\n",
       "      <th>2</th>\n",
       "      <td>ive probably mentioned this before but i reall...</td>\n",
       "      <td>3</td>\n",
       "    </tr>\n",
       "    <tr>\n",
       "      <th>3</th>\n",
       "      <td>i was feeling a little low few days back</td>\n",
       "      <td>4</td>\n",
       "    </tr>\n",
       "    <tr>\n",
       "      <th>6</th>\n",
       "      <td>i am one of those people who feels like going ...</td>\n",
       "      <td>3</td>\n",
       "    </tr>\n",
       "    <tr>\n",
       "      <th>...</th>\n",
       "      <td>...</td>\n",
       "      <td>...</td>\n",
       "    </tr>\n",
       "    <tr>\n",
       "      <th>21818</th>\n",
       "      <td>i struggle with feeling terrible about turning...</td>\n",
       "      <td>4</td>\n",
       "    </tr>\n",
       "    <tr>\n",
       "      <th>21819</th>\n",
       "      <td>i just wanted them both to just have character...</td>\n",
       "      <td>3</td>\n",
       "    </tr>\n",
       "    <tr>\n",
       "      <th>21820</th>\n",
       "      <td>i feel a little funny just typing all about my...</td>\n",
       "      <td>5</td>\n",
       "    </tr>\n",
       "    <tr>\n",
       "      <th>21821</th>\n",
       "      <td>i feel just target blank title del</td>\n",
       "      <td>4</td>\n",
       "    </tr>\n",
       "    <tr>\n",
       "      <th>21822</th>\n",
       "      <td>i feel violent towards her</td>\n",
       "      <td>0</td>\n",
       "    </tr>\n",
       "  </tbody>\n",
       "</table>\n",
       "<p>20000 rows × 2 columns</p>\n",
       "</div>"
      ]
     },
     "execution_count": 12,
     "metadata": {},
     "output_type": "execute_result"
    }
   ],
   "execution_count": 12
  },
  {
   "metadata": {},
   "cell_type": "markdown",
   "source": "# Training Dair-ai data with j-heartman model"
  },
  {
   "metadata": {
    "colab": {
     "base_uri": "https://localhost:8080/",
     "height": 360,
     "referenced_widgets": [
      "16eda9abf3474e22b8ac876bbf62263e",
      "1dd44b212c894154ae3a32591bd1d1f4",
      "fccf715aa1984e9ba3fa8bef46a0359b",
      "c9270977c2e8455091eb209ac72d1cc0",
      "e51b345a43c7493ca64d562c5ff001eb",
      "dd9e7f968b754883b4041f97e010e54e",
      "c202fed41cf848f480079b6d874a8618",
      "d016aa0163d0401d9e77c2c41f32d328",
      "9ff9f596bd0547049310f802b37f96ad",
      "de31544f36064c1ea1c383959e92bf44",
      "61a7c80bc1414fdb9baefacb69d020c9",
      "1ecdad4cccb64f45bafb0449aa7c61b0",
      "f22ff73a58dc417b9c1a936554fe0c2b",
      "15da15363eaa41eeb3d7c8aa5c3c8a78",
      "064fa8172bc74fddad70436dadae1eed",
      "8a412b71668147ba9f029926e2051135",
      "6556e2d2e47444c7b2eea67e1d876deb",
      "2ade453a03c744cdb2fed5270aded005",
      "564872c7f0fc4a259c302efe5f4ce8f6",
      "6ee2600c17de49529402b28b6263893f",
      "4f706ba6aa734b52a9d4f053869089f5",
      "f9586a5df24745bd9557150aa282bdb2",
      "246d5d75f8ea49b8b030a15777604440",
      "db0e8f5b28d54a3d9ab37c2f0c5867cc",
      "579204210e744d7ebce8e9a67fff893a",
      "213c42a16b6b432d9f8430c711a983ad",
      "98eb28913cb24dc186137d105380ea7d",
      "39ce0137a8be49a99ac1d8dd70f7996e",
      "804425d016b34b27a3e281b2e5aac492",
      "362fd2c74ec040648f1faae31f166c2d",
      "c2e6cecd14cb4abdbf2940c72355f3ec",
      "e7bf25df2c564ca88b464f661cf8f22a",
      "40b9c0e5b7e149dea431a5cf7c14d463",
      "a2ffae24f563420cbd34ff33e835cd4b",
      "0047d1a2ce7d4fea93e0f0afe34498bc",
      "95c8206ac3654f2bba8565529aeab4c1",
      "21c4811cd6ba454e92ca02e8af8f755c",
      "b8eb732ee98a47bda7d7cd45f6d215f5",
      "af73394310c04337a77539870a362b89",
      "3b979217df6c4343add45b3934fc559e",
      "08f310feeb8a473c97a64288d80a52de",
      "013f91b9611647d3891b1adb9c7c6502",
      "04328be409be42e59b2e95f85f6cd105",
      "3e778b08fa1c44ba9b3806b6d78b664b",
      "cd8c8d3ed76d422a8dad998587e43ae3",
      "2df506ce92e747b5a043921751e30e61",
      "b32b765368334bc99937b20a8d4529eb",
      "220da81a439a48f98b2163d506bc8b35",
      "ceaf4eb6d59648a2b97b4c53d2551fa2",
      "c5707fa32a9e472b9f9c6a494ef1f805",
      "6869607b9f0743ccaf3e10e099da1468",
      "0d31354f870344499faa788ca765dde1",
      "17b551d4f9774fb4b25524dda509caaf",
      "b55f93c67e304293908e4ee7dc7c9813",
      "e4436983992d4a27a0dab2f742ed794c",
      "5defce25cc0745cf9c672cc41d92cc76",
      "3b34213945fa4be1b9aba6917e66dc9f",
      "44ee0273dd1e43a4aa8ff06a962c200c",
      "b1ceec2fc15f4873a887f3d716f4f55c",
      "51f0eb7a7367485ba4cd46a2152b4c74",
      "a60887dee21f4fea9de9378273a19d81",
      "3306ab03183a43d68a77b78459f8bb59",
      "cf5405b1703a4f67b617539c0ed48a32",
      "6bc000e69e6a413eb815a30a8713f32e",
      "5e565c7d2abf47fd8449fe669993e730",
      "46d661aebfe340d8865d4a852d415468",
      "b9f96f33e0da4779854bdaf1052419b2",
      "cb3038f7ff994e5097152e4ea69c8721",
      "dd594ac4324d454c8e635ded3599a1d2",
      "28fb10de13f74a30a778aea9db5d2d0c",
      "e919eccb3f594a4e8813ff25387fe962",
      "d267b2e2e6374f12bc756ae1ef21c2ab",
      "0f28f561024e4774876c148ed3c0919e",
      "e3c38d5ccdd141a5b6225a0fd103dd4b",
      "9e51e053325240cba40088da5962b335",
      "381f53c7f79d4b0ba3e02aeaeeee2bd3",
      "636a1de45c174978ac6095657ad81590",
      "633e68f0e5fa4c88a8af6fa19942bd29",
      "6a86fcde34464e21b46e0f5d18831ac8",
      "6987d440d532443aa1edad1764589128",
      "9f2e1258103e48c7abbc5e88268fb0b0",
      "36735fbbf82142e58fa4bb38ff01a37d",
      "2527678cbc044059a2438931ff257f73",
      "923330fd7caa41af9ac77581c514b5f9",
      "fa7259770170431096057d2e3623be10",
      "14b3c19c115e4eaa95e90f08e3d9c05d",
      "595f412b6f4b4a249e44a7f0da2684ee",
      "799e634b5d0b4f408cf3ab83451a5e34",
      "75981867ef7a4a049ae4027a4222f33b",
      "19ddc55f8f9a47b89fecbc7105b5820d",
      "488dba0dc2434c039ef1722cc62db838",
      "fb0b71641d8140dc8d7865713c45afc5",
      "147d7c6f07b4489aacadf81ad4fb7b57",
      "1f2ea8e1303e464284e341e010f45cc8",
      "4f7f7f4ba24d4ea493ddaab4411f2f98",
      "443902bc609540ca9dc2824decc95bc4",
      "751cd20cba9149b789b6cf8caaba289a",
      "0fc2768dda514bf597d630b379ecccfd",
      "65222b353de24c79a46f2a6c88f9fb75"
     ]
    },
    "id": "sFk1DAmnf54R",
    "outputId": "6995d83f-89d9-4c5b-afdf-62011f43f771",
    "ExecuteTime": {
     "end_time": "2025-04-09T03:00:26.606175Z",
     "start_time": "2025-04-09T03:00:24.762384Z"
    }
   },
   "cell_type": "code",
   "source": [
    "# Use a pipeline as a high-level helper\n",
    "from transformers import pipeline\n",
    "j_hartmann = pipeline(\"text-classification\", model=\"j-hartmann/emotion-english-distilroberta-base\")"
   ],
   "outputs": [
    {
     "name": "stderr",
     "output_type": "stream",
     "text": [
      "Device set to use cuda:0\n"
     ]
    }
   ],
   "execution_count": 13
  },
  {
   "metadata": {
    "colab": {
     "base_uri": "https://localhost:8080/"
    },
    "id": "kAeNQ8H-j00j",
    "outputId": "01fca412-4969-4192-c30f-c26c60db10c7",
    "ExecuteTime": {
     "end_time": "2025-04-09T03:01:31.956268Z",
     "start_time": "2025-04-09T03:00:26.763432Z"
    }
   },
   "cell_type": "code",
   "source": "j_hartmann_pred = j_hartmann(dair_df['text'].tolist())",
   "outputs": [],
   "execution_count": 14
  },
  {
   "metadata": {
    "ExecuteTime": {
     "end_time": "2025-04-09T03:01:31.986198Z",
     "start_time": "2025-04-09T03:01:31.975241Z"
    }
   },
   "cell_type": "code",
   "source": [
    "j_pred_df = pd.DataFrame(j_hartmann_pred)\n",
    "avg_confidence_per_emotion = j_pred_df.groupby('label')['score'].mean().sort_values(ascending=False)\n",
    "print(avg_confidence_per_emotion)"
   ],
   "outputs": [
    {
     "name": "stdout",
     "output_type": "stream",
     "text": [
      "label\n",
      "joy         0.977351\n",
      "sadness     0.960715\n",
      "anger       0.940450\n",
      "fear        0.935774\n",
      "surprise    0.847160\n",
      "disgust     0.767666\n",
      "neutral     0.645637\n",
      "Name: score, dtype: float64\n"
     ]
    }
   ],
   "execution_count": 15
  },
  {
   "metadata": {
    "ExecuteTime": {
     "end_time": "2025-04-09T03:01:32.008715Z",
     "start_time": "2025-04-09T03:01:32.003528Z"
    }
   },
   "cell_type": "code",
   "source": [
    "dair_count =j_pred_df.groupby('label')['label'].count().sort_values(ascending=False)\n",
    "print(\"Emotion count\", dair_count)"
   ],
   "outputs": [
    {
     "name": "stdout",
     "output_type": "stream",
     "text": [
      "Emotion count label\n",
      "joy         7040\n",
      "sadness     6253\n",
      "anger       3081\n",
      "fear        2632\n",
      "surprise     949\n",
      "disgust       31\n",
      "neutral       14\n",
      "Name: label, dtype: int64\n"
     ]
    }
   ],
   "execution_count": 16
  },
  {
   "metadata": {},
   "cell_type": "markdown",
   "source": "J-heartmann model does pretty well on the dair-ai dataset except with neutral and disgust emotions."
  },
  {
   "metadata": {},
   "cell_type": "markdown",
   "source": "# Applying j-heartmann model on AI tweets"
  },
  {
   "metadata": {
    "ExecuteTime": {
     "end_time": "2025-04-09T03:01:38.443879Z",
     "start_time": "2025-04-09T03:01:32.031113Z"
    }
   },
   "cell_type": "code",
   "source": [
    "ai_prompt1_j_heartmann = j_hartmann(prompt1['tweet'].tolist())\n",
    "ai_prompt2_j_heartmann = j_hartmann(prompt2['tweet'].tolist())\n"
   ],
   "outputs": [],
   "execution_count": 17
  },
  {
   "metadata": {
    "ExecuteTime": {
     "end_time": "2025-04-09T03:01:38.453275Z",
     "start_time": "2025-04-09T03:01:38.451193Z"
    }
   },
   "cell_type": "code",
   "source": "",
   "outputs": [],
   "execution_count": null
  },
  {
   "metadata": {
    "ExecuteTime": {
     "end_time": "2025-04-09T03:01:38.466438Z",
     "start_time": "2025-04-09T03:01:38.460680Z"
    }
   },
   "cell_type": "code",
   "source": [
    "prompt1_pred = pd.DataFrame(ai_prompt1_j_heartmann)\n",
    "prompt2_pred = pd.DataFrame(ai_prompt2_j_heartmann)\n",
    "\n",
    "prompt1_avg_per_emotion = prompt1_pred.groupby('label')['score'].mean().sort_values(ascending=False)\n",
    "prompt2_avg_per_emotion = prompt2_pred.groupby('label')['score'].mean().sort_values(ascending=False)\n",
    "\n",
    "print(\"Average emotion confidence score\\n\")\n",
    "print(\"prompt 1:\\n\" ,prompt1_avg_per_emotion, '\\n')\n",
    "print(\"prompt 2: \\n\" ,prompt2_avg_per_emotion)"
   ],
   "outputs": [
    {
     "name": "stdout",
     "output_type": "stream",
     "text": [
      "Average emotion confidence score\n",
      "\n",
      "prompt 1:\n",
      " label\n",
      "surprise    0.820293\n",
      "joy         0.736488\n",
      "neutral     0.712083\n",
      "sadness     0.645157\n",
      "fear        0.546071\n",
      "disgust     0.517336\n",
      "anger       0.455519\n",
      "Name: score, dtype: float64 \n",
      "\n",
      "prompt 2: \n",
      " label\n",
      "anger       0.739789\n",
      "joy         0.728373\n",
      "fear        0.711088\n",
      "sadness     0.707678\n",
      "surprise    0.648897\n",
      "disgust     0.544976\n",
      "neutral     0.353835\n",
      "Name: score, dtype: float64\n"
     ]
    }
   ],
   "execution_count": 18
  },
  {
   "metadata": {
    "ExecuteTime": {
     "end_time": "2025-04-09T03:01:38.516572Z",
     "start_time": "2025-04-09T03:01:38.512429Z"
    }
   },
   "cell_type": "code",
   "source": [
    "prompt1_counts = prompt1_pred['label'].value_counts()\n",
    "prompt2_counts = prompt2_pred['label'].value_counts()\n",
    "\n",
    "print(\"Prompt 1 - Emotion Counts:\\n\", prompt1_counts, '\\n')\n",
    "print(\"Prompt 2 - Emotion Counts:\\n\", prompt2_counts)\n"
   ],
   "outputs": [
    {
     "name": "stdout",
     "output_type": "stream",
     "text": [
      "Prompt 1 - Emotion Counts:\n",
      " label\n",
      "neutral     573\n",
      "surprise    165\n",
      "joy         144\n",
      "sadness      70\n",
      "fear         24\n",
      "disgust      20\n",
      "anger         4\n",
      "Name: count, dtype: int64 \n",
      "\n",
      "Prompt 2 - Emotion Counts:\n",
      " label\n",
      "fear        551\n",
      "joy         227\n",
      "sadness      63\n",
      "surprise     62\n",
      "anger        46\n",
      "neutral      10\n",
      "disgust       1\n",
      "Name: count, dtype: int64\n"
     ]
    }
   ],
   "execution_count": 19
  },
  {
   "metadata": {
    "ExecuteTime": {
     "end_time": "2025-04-09T04:16:05.064493Z",
     "start_time": "2025-04-09T04:16:04.997943Z"
    }
   },
   "cell_type": "code",
   "source": [
    "plt.figure(figsize=(10, 6))\n",
    "plt.bar(prompt1_counts.index, prompt1_counts.values, color='skyblue')\n",
    "plt.title('Emotion Counts for Prompt 1')\n",
    "plt.xlabel('Emotion Label')\n",
    "plt.ylabel('Count')\n",
    "plt.xticks(prompt1_counts.index)\n",
    "plt.tight_layout()\n",
    "plt.show()"
   ],
   "outputs": [
    {
     "data": {
      "text/plain": [
       "<Figure size 1000x600 with 1 Axes>"
      ],
      "image/png": "[encoded data removed]"
     },
     "metadata": {},
     "output_type": "display_data"
    }
   ],
   "execution_count": 80
  },
  {
   "metadata": {
    "ExecuteTime": {
     "end_time": "2025-04-09T04:16:24.107871Z",
     "start_time": "2025-04-09T04:16:24.042924Z"
    }
   },
   "cell_type": "code",
   "source": [
    "plt.figure(figsize=(10, 6))\n",
    "plt.bar(prompt2_counts.index, prompt2_counts.values, color='salmon')\n",
    "plt.title('Emotion Counts for Prompt 2')\n",
    "plt.xlabel('Emotion Label')\n",
    "plt.ylabel('Count')\n",
    "plt.xticks(prompt2_counts.index)\n",
    "plt.tight_layout()\n",
    "plt.show()"
   ],
   "outputs": [
    {
     "data": {
      "text/plain": [
       "<Figure size 1000x600 with 1 Axes>"
      ],
      "image/png": "[encoded data removed]"
     },
     "metadata": {},
     "output_type": "display_data"
    }
   ],
   "execution_count": 81
  },
  {
   "metadata": {},
   "cell_type": "markdown",
   "source": "Most tweets in prompt 1 are basic and thought they would fall into neutral or joy, while prompt 2 with the inclusion of politics did bring anger and fear up. A good majority of prompt 2 are also about movies that came out which explains the concentration of joy. Prompt 2 seemed more emotionally charged which does make sense. Surprised that neutral got a low score"
  },
  {
   "metadata": {},
   "cell_type": "markdown",
   "source": "Overall im surprised at the fact that the j-heartmann model strays away from classifying text as neutral. Perhaps its do the precise nature of the model."
  },
  {
   "metadata": {},
   "cell_type": "markdown",
   "source": "# Custom model with go_emotions"
  },
  {
   "metadata": {
    "ExecuteTime": {
     "end_time": "2025-04-09T03:01:42.985240Z",
     "start_time": "2025-04-09T03:01:38.543458Z"
    }
   },
   "cell_type": "code",
   "source": [
    "ds = load_dataset(\"go_emotions\", )\n",
    "ds = ds.remove_columns(['id'])\n",
    "print(ds)"
   ],
   "outputs": [
    {
     "name": "stdout",
     "output_type": "stream",
     "text": [
      "DatasetDict({\n",
      "    train: Dataset({\n",
      "        features: ['text', 'labels'],\n",
      "        num_rows: 43410\n",
      "    })\n",
      "    validation: Dataset({\n",
      "        features: ['text', 'labels'],\n",
      "        num_rows: 5426\n",
      "    })\n",
      "    test: Dataset({\n",
      "        features: ['text', 'labels'],\n",
      "        num_rows: 5427\n",
      "    })\n",
      "})\n"
     ]
    }
   ],
   "execution_count": 20
  },
  {
   "metadata": {},
   "cell_type": "markdown",
   "source": "train test split"
  },
  {
   "metadata": {
    "ExecuteTime": {
     "end_time": "2025-04-09T03:01:43.543820Z",
     "start_time": "2025-04-09T03:01:42.988888Z"
    }
   },
   "cell_type": "code",
   "source": [
    "df1 = pd.DataFrame(ds['train'])\n",
    "df2 = pd.DataFrame(ds['test'])"
   ],
   "outputs": [],
   "execution_count": 21
  },
  {
   "metadata": {
    "ExecuteTime": {
     "end_time": "2025-04-09T03:01:43.558451Z",
     "start_time": "2025-04-09T03:01:43.553233Z"
    }
   },
   "cell_type": "code",
   "source": [
    "#df1 = df1.head(2000)\n",
    "df2.head()"
   ],
   "outputs": [
    {
     "data": {
      "text/plain": [
       "                                                text labels\n",
       "0  I’m really sorry about your situation :( Altho...   [25]\n",
       "1    It's wonderful because it's awful. At not with.    [0]\n",
       "2  Kings fan here, good luck to you guys! Will be...   [13]\n",
       "3  I didn't know that, thank you for teaching me ...   [15]\n",
       "4  They got bored from haunting earth for thousan...   [27]"
      ],
      "text/html": [
       "<div>\n",
       "<style scoped>\n",
       "    .dataframe tbody tr th:only-of-type {\n",
       "        vertical-align: middle;\n",
       "    }\n",
       "\n",
       "    .dataframe tbody tr th {\n",
       "        vertical-align: top;\n",
       "    }\n",
       "\n",
       "    .dataframe thead th {\n",
       "        text-align: right;\n",
       "    }\n",
       "</style>\n",
       "<table border=\"1\" class=\"dataframe\">\n",
       "  <thead>\n",
       "    <tr style=\"text-align: right;\">\n",
       "      <th></th>\n",
       "      <th>text</th>\n",
       "      <th>labels</th>\n",
       "    </tr>\n",
       "  </thead>\n",
       "  <tbody>\n",
       "    <tr>\n",
       "      <th>0</th>\n",
       "      <td>I’m really sorry about your situation :( Altho...</td>\n",
       "      <td>[25]</td>\n",
       "    </tr>\n",
       "    <tr>\n",
       "      <th>1</th>\n",
       "      <td>It's wonderful because it's awful. At not with.</td>\n",
       "      <td>[0]</td>\n",
       "    </tr>\n",
       "    <tr>\n",
       "      <th>2</th>\n",
       "      <td>Kings fan here, good luck to you guys! Will be...</td>\n",
       "      <td>[13]</td>\n",
       "    </tr>\n",
       "    <tr>\n",
       "      <th>3</th>\n",
       "      <td>I didn't know that, thank you for teaching me ...</td>\n",
       "      <td>[15]</td>\n",
       "    </tr>\n",
       "    <tr>\n",
       "      <th>4</th>\n",
       "      <td>They got bored from haunting earth for thousan...</td>\n",
       "      <td>[27]</td>\n",
       "    </tr>\n",
       "  </tbody>\n",
       "</table>\n",
       "</div>"
      ]
     },
     "execution_count": 22,
     "metadata": {},
     "output_type": "execute_result"
    }
   ],
   "execution_count": 22
  },
  {
   "metadata": {
    "ExecuteTime": {
     "end_time": "2025-04-09T03:01:43.590486Z",
     "start_time": "2025-04-09T03:01:43.587260Z"
    }
   },
   "cell_type": "code",
   "source": "df1.shape",
   "outputs": [
    {
     "data": {
      "text/plain": [
       "(43410, 2)"
      ]
     },
     "execution_count": 23,
     "metadata": {},
     "output_type": "execute_result"
    }
   ],
   "execution_count": 23
  },
  {
   "metadata": {
    "ExecuteTime": {
     "end_time": "2025-04-09T03:01:43.648165Z",
     "start_time": "2025-04-09T03:01:43.643447Z"
    }
   },
   "cell_type": "code",
   "source": "df1.head()",
   "outputs": [
    {
     "data": {
      "text/plain": [
       "                                                text labels\n",
       "0  My favourite food is anything I didn't have to...   [27]\n",
       "1  Now if he does off himself, everyone will thin...   [27]\n",
       "2                     WHY THE FUCK IS BAYLESS ISOING    [2]\n",
       "3                        To make her feel threatened   [14]\n",
       "4                             Dirty Southern Wankers    [3]"
      ],
      "text/html": [
       "<div>\n",
       "<style scoped>\n",
       "    .dataframe tbody tr th:only-of-type {\n",
       "        vertical-align: middle;\n",
       "    }\n",
       "\n",
       "    .dataframe tbody tr th {\n",
       "        vertical-align: top;\n",
       "    }\n",
       "\n",
       "    .dataframe thead th {\n",
       "        text-align: right;\n",
       "    }\n",
       "</style>\n",
       "<table border=\"1\" class=\"dataframe\">\n",
       "  <thead>\n",
       "    <tr style=\"text-align: right;\">\n",
       "      <th></th>\n",
       "      <th>text</th>\n",
       "      <th>labels</th>\n",
       "    </tr>\n",
       "  </thead>\n",
       "  <tbody>\n",
       "    <tr>\n",
       "      <th>0</th>\n",
       "      <td>My favourite food is anything I didn't have to...</td>\n",
       "      <td>[27]</td>\n",
       "    </tr>\n",
       "    <tr>\n",
       "      <th>1</th>\n",
       "      <td>Now if he does off himself, everyone will thin...</td>\n",
       "      <td>[27]</td>\n",
       "    </tr>\n",
       "    <tr>\n",
       "      <th>2</th>\n",
       "      <td>WHY THE FUCK IS BAYLESS ISOING</td>\n",
       "      <td>[2]</td>\n",
       "    </tr>\n",
       "    <tr>\n",
       "      <th>3</th>\n",
       "      <td>To make her feel threatened</td>\n",
       "      <td>[14]</td>\n",
       "    </tr>\n",
       "    <tr>\n",
       "      <th>4</th>\n",
       "      <td>Dirty Southern Wankers</td>\n",
       "      <td>[3]</td>\n",
       "    </tr>\n",
       "  </tbody>\n",
       "</table>\n",
       "</div>"
      ]
     },
     "execution_count": 24,
     "metadata": {},
     "output_type": "execute_result"
    }
   ],
   "execution_count": 24
  },
  {
   "metadata": {
    "ExecuteTime": {
     "end_time": "2025-04-09T03:01:43.730330Z",
     "start_time": "2025-04-09T03:01:43.713490Z"
    }
   },
   "cell_type": "code",
   "source": [
    "df1['label_count'] = df1['labels'].apply(lambda x: len(x))  # Adjust based on your delimiter\n",
    "df2['label_count'] = df2['labels'].apply(lambda x: len(x))  # Adjust based on your delimiter\n",
    "\n",
    "# Filter out records with multiple labels\n",
    "single_label_df = df1[df1['label_count'] == 1]\n",
    "single_label_df2 = df2[df2['label_count'] == 1]\n",
    "\n",
    "single_label_df = single_label_df.drop(columns=[\"label_count\"])\n",
    "single_label_df2 = single_label_df2.drop(columns=[\"label_count\"])\n",
    "\n",
    "# View the filtered dataset\n",
    "print(single_label_df.head())"
   ],
   "outputs": [
    {
     "name": "stdout",
     "output_type": "stream",
     "text": [
      "                                                text labels\n",
      "0  My favourite food is anything I didn't have to...   [27]\n",
      "1  Now if he does off himself, everyone will thin...   [27]\n",
      "2                     WHY THE FUCK IS BAYLESS ISOING    [2]\n",
      "3                        To make her feel threatened   [14]\n",
      "4                             Dirty Southern Wankers    [3]\n"
     ]
    }
   ],
   "execution_count": 25
  },
  {
   "metadata": {
    "ExecuteTime": {
     "end_time": "2025-04-09T03:01:43.799569Z",
     "start_time": "2025-04-09T03:01:43.793751Z"
    }
   },
   "cell_type": "code",
   "source": "single_label_df.head(100)",
   "outputs": [
    {
     "data": {
      "text/plain": [
       "                                                  text labels\n",
       "0    My favourite food is anything I didn't have to...   [27]\n",
       "1    Now if he does off himself, everyone will thin...   [27]\n",
       "2                       WHY THE FUCK IS BAYLESS ISOING    [2]\n",
       "3                          To make her feel threatened   [14]\n",
       "4                               Dirty Southern Wankers    [3]\n",
       "..                                                 ...    ...\n",
       "114  It's because you play against 1000 ms ping EU ...   [17]\n",
       "115              Updooted like the filthy animal I am.   [27]\n",
       "116                                The fuck is “mog?!”    [2]\n",
       "117  Especially that “Australia ain’t gonna cop it”...    [2]\n",
       "118                              And you believe this?   [27]\n",
       "\n",
       "[100 rows x 2 columns]"
      ],
      "text/html": [
       "<div>\n",
       "<style scoped>\n",
       "    .dataframe tbody tr th:only-of-type {\n",
       "        vertical-align: middle;\n",
       "    }\n",
       "\n",
       "    .dataframe tbody tr th {\n",
       "        vertical-align: top;\n",
       "    }\n",
       "\n",
       "    .dataframe thead th {\n",
       "        text-align: right;\n",
       "    }\n",
       "</style>\n",
       "<table border=\"1\" class=\"dataframe\">\n",
       "  <thead>\n",
       "    <tr style=\"text-align: right;\">\n",
       "      <th></th>\n",
       "      <th>text</th>\n",
       "      <th>labels</th>\n",
       "    </tr>\n",
       "  </thead>\n",
       "  <tbody>\n",
       "    <tr>\n",
       "      <th>0</th>\n",
       "      <td>My favourite food is anything I didn't have to...</td>\n",
       "      <td>[27]</td>\n",
       "    </tr>\n",
       "    <tr>\n",
       "      <th>1</th>\n",
       "      <td>Now if he does off himself, everyone will thin...</td>\n",
       "      <td>[27]</td>\n",
       "    </tr>\n",
       "    <tr>\n",
       "      <th>2</th>\n",
       "      <td>WHY THE FUCK IS BAYLESS ISOING</td>\n",
       "      <td>[2]</td>\n",
       "    </tr>\n",
       "    <tr>\n",
       "      <th>3</th>\n",
       "      <td>To make her feel threatened</td>\n",
       "      <td>[14]</td>\n",
       "    </tr>\n",
       "    <tr>\n",
       "      <th>4</th>\n",
       "      <td>Dirty Southern Wankers</td>\n",
       "      <td>[3]</td>\n",
       "    </tr>\n",
       "    <tr>\n",
       "      <th>...</th>\n",
       "      <td>...</td>\n",
       "      <td>...</td>\n",
       "    </tr>\n",
       "    <tr>\n",
       "      <th>114</th>\n",
       "      <td>It's because you play against 1000 ms ping EU ...</td>\n",
       "      <td>[17]</td>\n",
       "    </tr>\n",
       "    <tr>\n",
       "      <th>115</th>\n",
       "      <td>Updooted like the filthy animal I am.</td>\n",
       "      <td>[27]</td>\n",
       "    </tr>\n",
       "    <tr>\n",
       "      <th>116</th>\n",
       "      <td>The fuck is “mog?!”</td>\n",
       "      <td>[2]</td>\n",
       "    </tr>\n",
       "    <tr>\n",
       "      <th>117</th>\n",
       "      <td>Especially that “Australia ain’t gonna cop it”...</td>\n",
       "      <td>[2]</td>\n",
       "    </tr>\n",
       "    <tr>\n",
       "      <th>118</th>\n",
       "      <td>And you believe this?</td>\n",
       "      <td>[27]</td>\n",
       "    </tr>\n",
       "  </tbody>\n",
       "</table>\n",
       "<p>100 rows × 2 columns</p>\n",
       "</div>"
      ]
     },
     "execution_count": 26,
     "metadata": {},
     "output_type": "execute_result"
    }
   ],
   "execution_count": 26
  },
  {
   "metadata": {
    "ExecuteTime": {
     "end_time": "2025-04-09T03:01:43.851799Z",
     "start_time": "2025-04-09T03:01:43.846483Z"
    }
   },
   "cell_type": "code",
   "source": "single_label_df2.head()",
   "outputs": [
    {
     "data": {
      "text/plain": [
       "                                                text labels\n",
       "0  I’m really sorry about your situation :( Altho...   [25]\n",
       "1    It's wonderful because it's awful. At not with.    [0]\n",
       "2  Kings fan here, good luck to you guys! Will be...   [13]\n",
       "3  I didn't know that, thank you for teaching me ...   [15]\n",
       "4  They got bored from haunting earth for thousan...   [27]"
      ],
      "text/html": [
       "<div>\n",
       "<style scoped>\n",
       "    .dataframe tbody tr th:only-of-type {\n",
       "        vertical-align: middle;\n",
       "    }\n",
       "\n",
       "    .dataframe tbody tr th {\n",
       "        vertical-align: top;\n",
       "    }\n",
       "\n",
       "    .dataframe thead th {\n",
       "        text-align: right;\n",
       "    }\n",
       "</style>\n",
       "<table border=\"1\" class=\"dataframe\">\n",
       "  <thead>\n",
       "    <tr style=\"text-align: right;\">\n",
       "      <th></th>\n",
       "      <th>text</th>\n",
       "      <th>labels</th>\n",
       "    </tr>\n",
       "  </thead>\n",
       "  <tbody>\n",
       "    <tr>\n",
       "      <th>0</th>\n",
       "      <td>I’m really sorry about your situation :( Altho...</td>\n",
       "      <td>[25]</td>\n",
       "    </tr>\n",
       "    <tr>\n",
       "      <th>1</th>\n",
       "      <td>It's wonderful because it's awful. At not with.</td>\n",
       "      <td>[0]</td>\n",
       "    </tr>\n",
       "    <tr>\n",
       "      <th>2</th>\n",
       "      <td>Kings fan here, good luck to you guys! Will be...</td>\n",
       "      <td>[13]</td>\n",
       "    </tr>\n",
       "    <tr>\n",
       "      <th>3</th>\n",
       "      <td>I didn't know that, thank you for teaching me ...</td>\n",
       "      <td>[15]</td>\n",
       "    </tr>\n",
       "    <tr>\n",
       "      <th>4</th>\n",
       "      <td>They got bored from haunting earth for thousan...</td>\n",
       "      <td>[27]</td>\n",
       "    </tr>\n",
       "  </tbody>\n",
       "</table>\n",
       "</div>"
      ]
     },
     "execution_count": 27,
     "metadata": {},
     "output_type": "execute_result"
    }
   ],
   "execution_count": 27
  },
  {
   "metadata": {
    "ExecuteTime": {
     "end_time": "2025-04-09T03:01:43.925640Z",
     "start_time": "2025-04-09T03:01:43.896866Z"
    }
   },
   "cell_type": "code",
   "source": [
    "target_emtions = [25, 11, 17, 2, 14, 26, 27]\n",
    "\n",
    "## Filter DF and keep only the labels we want\n",
    "final_train = single_label_df[single_label_df['labels'].apply(lambda x: any(item in target_emtions for item in x))]\n",
    "final_train['labels'] = final_train['labels'].apply(lambda x: x[0])\n",
    "\n",
    "final_test = single_label_df2[single_label_df2['labels'].apply(lambda x: any(item in target_emtions for item in x))]\n",
    "final_test['labels'] = final_test['labels'].apply(lambda x: x[0])\n",
    "\n",
    "final_train.count()\n",
    "final_train.head(100)"
   ],
   "outputs": [
    {
     "name": "stderr",
     "output_type": "stream",
     "text": [
      "C:\\Users\\Brian\\AppData\\Local\\Temp\\ipykernel_46672\\548075363.py:5: SettingWithCopyWarning: \n",
      "A value is trying to be set on a copy of a slice from a DataFrame.\n",
      "Try using .loc[row_indexer,col_indexer] = value instead\n",
      "\n",
      "See the caveats in the documentation: https://pandas.pydata.org/pandas-docs/stable/user_guide/indexing.html#returning-a-view-versus-a-copy\n",
      "  final_train['labels'] = final_train['labels'].apply(lambda x: x[0])\n",
      "C:\\Users\\Brian\\AppData\\Local\\Temp\\ipykernel_46672\\548075363.py:8: SettingWithCopyWarning: \n",
      "A value is trying to be set on a copy of a slice from a DataFrame.\n",
      "Try using .loc[row_indexer,col_indexer] = value instead\n",
      "\n",
      "See the caveats in the documentation: https://pandas.pydata.org/pandas-docs/stable/user_guide/indexing.html#returning-a-view-versus-a-copy\n",
      "  final_test['labels'] = final_test['labels'].apply(lambda x: x[0])\n"
     ]
    },
    {
     "data": {
      "text/plain": [
       "                                                  text  labels\n",
       "0    My favourite food is anything I didn't have to...      27\n",
       "1    Now if he does off himself, everyone will thin...      27\n",
       "2                       WHY THE FUCK IS BAYLESS ISOING       2\n",
       "3                          To make her feel threatened      14\n",
       "5    OmG pEyToN iSn'T gOoD eNoUgH tO hElP uS iN tHe...      26\n",
       "..                                                 ...     ...\n",
       "198                         Dv cus it’s playful doggos      27\n",
       "200                      Needs a real big bag of rice!      27\n",
       "204  i think its cool because its a hybrid that com...      17\n",
       "206                            Ask over at r/NewTubers      27\n",
       "209  And yet you had to walk back your support of t...      27\n",
       "\n",
       "[100 rows x 2 columns]"
      ],
      "text/html": [
       "<div>\n",
       "<style scoped>\n",
       "    .dataframe tbody tr th:only-of-type {\n",
       "        vertical-align: middle;\n",
       "    }\n",
       "\n",
       "    .dataframe tbody tr th {\n",
       "        vertical-align: top;\n",
       "    }\n",
       "\n",
       "    .dataframe thead th {\n",
       "        text-align: right;\n",
       "    }\n",
       "</style>\n",
       "<table border=\"1\" class=\"dataframe\">\n",
       "  <thead>\n",
       "    <tr style=\"text-align: right;\">\n",
       "      <th></th>\n",
       "      <th>text</th>\n",
       "      <th>labels</th>\n",
       "    </tr>\n",
       "  </thead>\n",
       "  <tbody>\n",
       "    <tr>\n",
       "      <th>0</th>\n",
       "      <td>My favourite food is anything I didn't have to...</td>\n",
       "      <td>27</td>\n",
       "    </tr>\n",
       "    <tr>\n",
       "      <th>1</th>\n",
       "      <td>Now if he does off himself, everyone will thin...</td>\n",
       "      <td>27</td>\n",
       "    </tr>\n",
       "    <tr>\n",
       "      <th>2</th>\n",
       "      <td>WHY THE FUCK IS BAYLESS ISOING</td>\n",
       "      <td>2</td>\n",
       "    </tr>\n",
       "    <tr>\n",
       "      <th>3</th>\n",
       "      <td>To make her feel threatened</td>\n",
       "      <td>14</td>\n",
       "    </tr>\n",
       "    <tr>\n",
       "      <th>5</th>\n",
       "      <td>OmG pEyToN iSn'T gOoD eNoUgH tO hElP uS iN tHe...</td>\n",
       "      <td>26</td>\n",
       "    </tr>\n",
       "    <tr>\n",
       "      <th>...</th>\n",
       "      <td>...</td>\n",
       "      <td>...</td>\n",
       "    </tr>\n",
       "    <tr>\n",
       "      <th>198</th>\n",
       "      <td>Dv cus it’s playful doggos</td>\n",
       "      <td>27</td>\n",
       "    </tr>\n",
       "    <tr>\n",
       "      <th>200</th>\n",
       "      <td>Needs a real big bag of rice!</td>\n",
       "      <td>27</td>\n",
       "    </tr>\n",
       "    <tr>\n",
       "      <th>204</th>\n",
       "      <td>i think its cool because its a hybrid that com...</td>\n",
       "      <td>17</td>\n",
       "    </tr>\n",
       "    <tr>\n",
       "      <th>206</th>\n",
       "      <td>Ask over at r/NewTubers</td>\n",
       "      <td>27</td>\n",
       "    </tr>\n",
       "    <tr>\n",
       "      <th>209</th>\n",
       "      <td>And yet you had to walk back your support of t...</td>\n",
       "      <td>27</td>\n",
       "    </tr>\n",
       "  </tbody>\n",
       "</table>\n",
       "<p>100 rows × 2 columns</p>\n",
       "</div>"
      ]
     },
     "execution_count": 28,
     "metadata": {},
     "output_type": "execute_result"
    }
   ],
   "execution_count": 28
  },
  {
   "metadata": {},
   "cell_type": "markdown",
   "source": "Sadness = 25, Disgust = 11, Joy = 17, Anger = 2, Fear = 14, 26 = Supirse, Neutral = 27"
  },
  {
   "metadata": {
    "ExecuteTime": {
     "end_time": "2025-04-09T03:01:44.018168Z",
     "start_time": "2025-04-09T03:01:44.013487Z"
    }
   },
   "cell_type": "code",
   "source": [
    "print(final_train['labels'].unique())\n",
    "label_counts = final_train.value_counts('labels').sort_index()\n",
    "label_counts\n",
    "# labels = [25, 11, 17, 2, 14, 26, 27]"
   ],
   "outputs": [
    {
     "name": "stdout",
     "output_type": "stream",
     "text": [
      "[27  2 14 26 17 25 11]\n"
     ]
    },
    {
     "data": {
      "text/plain": [
       "labels\n",
       "2      1025\n",
       "11      498\n",
       "14      430\n",
       "17      853\n",
       "25      817\n",
       "26      720\n",
       "27    12823\n",
       "Name: count, dtype: int64"
      ]
     },
     "execution_count": 29,
     "metadata": {},
     "output_type": "execute_result"
    }
   ],
   "execution_count": 29
  },
  {
   "metadata": {
    "ExecuteTime": {
     "end_time": "2025-04-09T03:01:44.106977Z",
     "start_time": "2025-04-09T03:01:44.103859Z"
    }
   },
   "cell_type": "code",
   "source": [
    "label_map = {\n",
    "    25: \"Sadness\",\n",
    "    11: \"Disgust\",\n",
    "    17: \"Joy\",\n",
    "    2: \"Anger\",\n",
    "    14: \"Fear\",\n",
    "    26: \"Surprise\",\n",
    "    27: \"Neutral\"\n",
    "}\n"
   ],
   "outputs": [],
   "execution_count": 30
  },
  {
   "metadata": {
    "ExecuteTime": {
     "end_time": "2025-04-09T03:01:44.304661Z",
     "start_time": "2025-04-09T03:01:44.232830Z"
    }
   },
   "cell_type": "code",
   "source": [
    "plt.figure(figsize=(10, 6))\n",
    "plt.bar([label_map[i] for i in label_counts.index], label_counts.values)\n",
    "plt.xlabel('Emotion')\n",
    "plt.ylabel('Count')\n",
    "plt.title('Emotion Distribution in Filtered GoEmotions')\n",
    "plt.xticks(rotation=45)\n",
    "plt.tight_layout()\n",
    "plt.show()"
   ],
   "outputs": [
    {
     "data": {
      "text/plain": [
       "<Figure size 1000x600 with 1 Axes>"
      ],
      "image/png": "[encoded data removed]"
     },
     "metadata": {},
     "output_type": "display_data"
    }
   ],
   "execution_count": 31
  },
  {
   "metadata": {
    "ExecuteTime": {
     "end_time": "2025-04-09T03:01:44.380935Z",
     "start_time": "2025-04-09T03:01:44.373534Z"
    }
   },
   "cell_type": "code",
   "source": [
    "original_labels = [25, 11, 17, 2, 14, 26, 27]\n",
    "label_mapping = {label: idx for idx, label in enumerate(sorted(original_labels))}\n",
    "print(label_mapping)\n",
    "\n",
    "final_train['labels'] = final_train['labels'].apply(lambda x: label_mapping[x])\n",
    "final_test['labels'] = final_test['labels'].apply(lambda x: label_mapping[x])\n"
   ],
   "outputs": [
    {
     "name": "stdout",
     "output_type": "stream",
     "text": [
      "{2: 0, 11: 1, 14: 2, 17: 3, 25: 4, 26: 5, 27: 6}\n"
     ]
    },
    {
     "name": "stderr",
     "output_type": "stream",
     "text": [
      "C:\\Users\\Brian\\AppData\\Local\\Temp\\ipykernel_46672\\1765621536.py:5: SettingWithCopyWarning: \n",
      "A value is trying to be set on a copy of a slice from a DataFrame.\n",
      "Try using .loc[row_indexer,col_indexer] = value instead\n",
      "\n",
      "See the caveats in the documentation: https://pandas.pydata.org/pandas-docs/stable/user_guide/indexing.html#returning-a-view-versus-a-copy\n",
      "  final_train['labels'] = final_train['labels'].apply(lambda x: label_mapping[x])\n",
      "C:\\Users\\Brian\\AppData\\Local\\Temp\\ipykernel_46672\\1765621536.py:6: SettingWithCopyWarning: \n",
      "A value is trying to be set on a copy of a slice from a DataFrame.\n",
      "Try using .loc[row_indexer,col_indexer] = value instead\n",
      "\n",
      "See the caveats in the documentation: https://pandas.pydata.org/pandas-docs/stable/user_guide/indexing.html#returning-a-view-versus-a-copy\n",
      "  final_test['labels'] = final_test['labels'].apply(lambda x: label_mapping[x])\n"
     ]
    }
   ],
   "execution_count": 32
  },
  {
   "metadata": {},
   "cell_type": "markdown",
   "source": [
    "New Labels (also used in dair-ai dataset)\n",
    "\n",
    "0 = Anger,\n",
    "1 = Disgust,\n",
    "2 = Fear,\n",
    "3 = Joy,\n",
    "4 = Sadness,\n",
    "5 = Surprise,\n",
    "6 = Neutral"
   ]
  },
  {
   "metadata": {
    "ExecuteTime": {
     "end_time": "2025-04-09T03:01:44.452586Z",
     "start_time": "2025-04-09T03:01:44.449465Z"
    }
   },
   "cell_type": "code",
   "source": "print(label_mapping)",
   "outputs": [
    {
     "name": "stdout",
     "output_type": "stream",
     "text": [
      "{2: 0, 11: 1, 14: 2, 17: 3, 25: 4, 26: 5, 27: 6}\n"
     ]
    }
   ],
   "execution_count": 33
  },
  {
   "metadata": {},
   "cell_type": "markdown",
   "source": "due to the large amount of instances with the neutral label\n"
  },
  {
   "metadata": {
    "ExecuteTime": {
     "end_time": "2025-04-09T03:01:44.512191Z",
     "start_time": "2025-04-09T03:01:44.506918Z"
    }
   },
   "cell_type": "code",
   "source": [
    "from sklearn.utils.class_weight import compute_class_weight\n",
    "import numpy as np\n",
    "\n",
    "# Compute class weights for the labels\n",
    "class_weights = compute_class_weight(\n",
    "    class_weight='balanced',\n",
    "    classes=np.unique(final_train['labels']),\n",
    "    y=final_train['labels']\n",
    ")\n",
    "\n"
   ],
   "outputs": [],
   "execution_count": 34
  },
  {
   "metadata": {
    "ExecuteTime": {
     "end_time": "2025-04-09T03:07:40.785177Z",
     "start_time": "2025-04-09T03:01:44.529007Z"
    }
   },
   "cell_type": "code",
   "source": [
    "from simpletransformers.config.model_args import ClassificationArgs\n",
    "from simpletransformers.classification import ClassificationModel\n",
    "import logging\n",
    "\n",
    "logging.basicConfig(level=logging.INFO)\n",
    "transformers_logger = logging.getLogger(\"transformers\")\n",
    "transformers_logger.setLevel(logging.WARNING)\n",
    "\n",
    "from simpletransformers.classification import ClassificationModel, ClassificationArgs\n",
    "\n",
    "model_args = ClassificationArgs()\n",
    "model_args.num_train_epochs = 3\n",
    "model_args.output_dir = \"outputs/\"\n",
    "model_args.overwrite_output_dir = True\n",
    "model_args.class_weight = class_weights\n",
    "\n",
    "model = ClassificationModel(\n",
    "    #no specific reason for this choice\n",
    "    model_type=\"roberta\",\n",
    "    model_name=\"roberta-base\",\n",
    "    num_labels=7,\n",
    "    args=model_args,\n",
    "    use_cuda=True\n",
    ")\n",
    "\n",
    "model.train_model(final_train)\n",
    "result, model_outputs, wrong_preds = model.eval_model(final_test)\n"
   ],
   "outputs": [
    {
     "name": "stderr",
     "output_type": "stream",
     "text": [
      "Some weights of RobertaForSequenceClassification were not initialized from the model checkpoint at roberta-base and are newly initialized: ['classifier.dense.bias', 'classifier.dense.weight', 'classifier.out_proj.bias', 'classifier.out_proj.weight']\n",
      "You should probably TRAIN this model on a down-stream task to be able to use it for predictions and inference.\n",
      "INFO:simpletransformers.classification.classification_utils: Converting to features started. Cache is not used.\n"
     ]
    },
    {
     "data": {
      "text/plain": [
       "  0%|          | 0/34 [00:00<?, ?it/s]"
      ],
      "application/vnd.jupyter.widget-view+json": {
       "version_major": 2,
       "version_minor": 0,
       "model_id": "db4ce447f9c3451f81cdfd1a7b33db6a"
      }
     },
     "metadata": {},
     "output_type": "display_data"
    },
    {
     "name": "stderr",
     "output_type": "stream",
     "text": [
      "INFO:simpletransformers.classification.classification_utils: Saving features into cached file cache_dir/cached_train_roberta_128_7_2\n"
     ]
    },
    {
     "data": {
      "text/plain": [
       "Epoch:   0%|          | 0/3 [00:00<?, ?it/s]"
      ],
      "application/vnd.jupyter.widget-view+json": {
       "version_major": 2,
       "version_minor": 0,
       "model_id": "1183327c67064901abce8c933b373afb"
      }
     },
     "metadata": {},
     "output_type": "display_data"
    },
    {
     "name": "stderr",
     "output_type": "stream",
     "text": [
      "C:\\Users\\Brian\\PyCharmMiscProject\\.venv\\Lib\\site-packages\\simpletransformers\\classification\\classification_model.py:882: FutureWarning: `torch.cuda.amp.GradScaler(args...)` is deprecated. Please use `torch.amp.GradScaler('cuda', args...)` instead.\n",
      "  scaler = amp.GradScaler()\n"
     ]
    },
    {
     "data": {
      "text/plain": [
       "Running Epoch 1 of 3:   0%|          | 0/2146 [00:00<?, ?it/s]"
      ],
      "application/vnd.jupyter.widget-view+json": {
       "version_major": 2,
       "version_minor": 0,
       "model_id": "c207aa6865174c06b74f1db59f65817f"
      }
     },
     "metadata": {},
     "output_type": "display_data"
    },
    {
     "name": "stderr",
     "output_type": "stream",
     "text": [
      "C:\\Users\\Brian\\PyCharmMiscProject\\.venv\\Lib\\site-packages\\simpletransformers\\classification\\classification_model.py:905: FutureWarning: `torch.cuda.amp.autocast(args...)` is deprecated. Please use `torch.amp.autocast('cuda', args...)` instead.\n",
      "  with amp.autocast():\n"
     ]
    },
    {
     "data": {
      "text/plain": [
       "Running Epoch 2 of 3:   0%|          | 0/2146 [00:00<?, ?it/s]"
      ],
      "application/vnd.jupyter.widget-view+json": {
       "version_major": 2,
       "version_minor": 0,
       "model_id": "b04455f737a6443099afd7e5cc0148ef"
      }
     },
     "metadata": {},
     "output_type": "display_data"
    },
    {
     "data": {
      "text/plain": [
       "Running Epoch 3 of 3:   0%|          | 0/2146 [00:00<?, ?it/s]"
      ],
      "application/vnd.jupyter.widget-view+json": {
       "version_major": 2,
       "version_minor": 0,
       "model_id": "0b571d897e9840e8a9d7dc58dd4994a7"
      }
     },
     "metadata": {},
     "output_type": "display_data"
    },
    {
     "name": "stderr",
     "output_type": "stream",
     "text": [
      "INFO:simpletransformers.classification.classification_model: Training of roberta model complete. Saved to outputs/.\n",
      "INFO:simpletransformers.classification.classification_utils: Converting to features started. Cache is not used.\n"
     ]
    },
    {
     "data": {
      "text/plain": [
       "  0%|          | 0/4 [00:00<?, ?it/s]"
      ],
      "application/vnd.jupyter.widget-view+json": {
       "version_major": 2,
       "version_minor": 0,
       "model_id": "4df1417001864173b40a8010a7ccdb05"
      }
     },
     "metadata": {},
     "output_type": "display_data"
    },
    {
     "name": "stderr",
     "output_type": "stream",
     "text": [
      "INFO:simpletransformers.classification.classification_utils: Saving features into cached file cache_dir/cached_dev_roberta_128_7_2\n"
     ]
    },
    {
     "data": {
      "text/plain": [
       "Running Evaluation:   0%|          | 0/22 [00:00<?, ?it/s]"
      ],
      "application/vnd.jupyter.widget-view+json": {
       "version_major": 2,
       "version_minor": 0,
       "model_id": "7f86001fcf2f41c0a8911fdc402d5bad"
      }
     },
     "metadata": {},
     "output_type": "display_data"
    },
    {
     "name": "stderr",
     "output_type": "stream",
     "text": [
      "C:\\Users\\Brian\\PyCharmMiscProject\\.venv\\Lib\\site-packages\\simpletransformers\\classification\\classification_model.py:1505: FutureWarning: `torch.cuda.amp.autocast(args...)` is deprecated. Please use `torch.amp.autocast('cuda', args...)` instead.\n",
      "  with amp.autocast():\n",
      "INFO:simpletransformers.classification.classification_model:{'mcc': np.float64(0.6913007106778426), 'eval_loss': 0.6107225248759444}\n"
     ]
    }
   ],
   "execution_count": 35
  },
  {
   "metadata": {},
   "cell_type": "markdown",
   "source": "Visualization"
  },
  {
   "metadata": {
    "ExecuteTime": {
     "end_time": "2025-04-09T03:07:49.121848Z",
     "start_time": "2025-04-09T03:07:40.819054Z"
    }
   },
   "cell_type": "code",
   "source": [
    "from sklearn.metrics import confusion_matrix, ConfusionMatrixDisplay\n",
    "\n",
    "# Predict on evaluation data\n",
    "preds, _ = model.predict(final_test['text'].tolist())\n",
    "# Create inverse label mapping\n",
    "reverse_label_mapping = {v: k for k, v in label_mapping.items()}\n",
    "label_names = [label_map[reverse_label_mapping[i]] for i in range(len(label_mapping))]\n",
    "\n",
    "# Plot confusion matrix\n",
    "cm = confusion_matrix(final_test['labels'], preds)\n",
    "disp = ConfusionMatrixDisplay(confusion_matrix=cm, display_labels=label_names)\n",
    "disp.plot(xticks_rotation=45, cmap='Reds')\n"
   ],
   "outputs": [
    {
     "name": "stderr",
     "output_type": "stream",
     "text": [
      "INFO:simpletransformers.classification.classification_utils: Converting to features started. Cache is not used.\n"
     ]
    },
    {
     "data": {
      "text/plain": [
       "  0%|          | 0/4 [00:00<?, ?it/s]"
      ],
      "application/vnd.jupyter.widget-view+json": {
       "version_major": 2,
       "version_minor": 0,
       "model_id": "05921663ca93496dae6b157199d7baad"
      }
     },
     "metadata": {},
     "output_type": "display_data"
    },
    {
     "data": {
      "text/plain": [
       "  0%|          | 0/22 [00:00<?, ?it/s]"
      ],
      "application/vnd.jupyter.widget-view+json": {
       "version_major": 2,
       "version_minor": 0,
       "model_id": "4a8a73f1eaed48858769bbb909c5fd2a"
      }
     },
     "metadata": {},
     "output_type": "display_data"
    },
    {
     "name": "stderr",
     "output_type": "stream",
     "text": [
      "C:\\Users\\Brian\\PyCharmMiscProject\\.venv\\Lib\\site-packages\\simpletransformers\\classification\\classification_model.py:2188: FutureWarning: `torch.cuda.amp.autocast(args...)` is deprecated. Please use `torch.amp.autocast('cuda', args...)` instead.\n",
      "  with amp.autocast():\n"
     ]
    },
    {
     "data": {
      "text/plain": [
       "<sklearn.metrics._plot.confusion_matrix.ConfusionMatrixDisplay at 0x1d8a9328ef0>"
      ]
     },
     "execution_count": 36,
     "metadata": {},
     "output_type": "execute_result"
    },
    {
     "data": {
      "text/plain": [
       "<Figure size 640x480 with 2 Axes>"
      ],
      "image/png": "[encoded data removed]"
     },
     "metadata": {},
     "output_type": "display_data"
    }
   ],
   "execution_count": 36
  },
  {
   "metadata": {
    "ExecuteTime": {
     "end_time": "2025-04-09T03:07:49.137070Z",
     "start_time": "2025-04-09T03:07:49.128653Z"
    }
   },
   "cell_type": "code",
   "source": [
    "from sklearn.metrics import classification_report\n",
    "\n",
    "print(classification_report(final_test['labels'], preds, target_names=label_names))\n"
   ],
   "outputs": [
    {
     "name": "stdout",
     "output_type": "stream",
     "text": [
      "              precision    recall  f1-score   support\n",
      "\n",
      "       Anger       0.60      0.65      0.62       131\n",
      "     Disgust       0.61      0.64      0.63        76\n",
      "        Fear       0.86      0.83      0.84        65\n",
      "         Joy       0.80      0.78      0.79        93\n",
      "     Sadness       0.69      0.72      0.70       102\n",
      "    Surprise       0.66      0.68      0.67        87\n",
      "     Neutral       0.93      0.92      0.92      1606\n",
      "\n",
      "    accuracy                           0.86      2160\n",
      "   macro avg       0.74      0.75      0.74      2160\n",
      "weighted avg       0.87      0.86      0.87      2160\n",
      "\n"
     ]
    }
   ],
   "execution_count": 37
  },
  {
   "metadata": {
    "ExecuteTime": {
     "end_time": "2025-04-09T03:07:49.255372Z",
     "start_time": "2025-04-09T03:07:49.169136Z"
    }
   },
   "cell_type": "code",
   "source": [
    "import seaborn as sns\n",
    "\n",
    "plt.figure(figsize=(10, 4))\n",
    "sns.countplot(x=final_test['labels'].map(reverse_label_mapping).map(label_map))\n",
    "plt.title(\"Label Distribution in Go-emotion Set\")\n",
    "plt.xticks(rotation=45)\n",
    "plt.grid(False)\n",
    "plt.show()\n"
   ],
   "outputs": [
    {
     "data": {
      "text/plain": [
       "<Figure size 1000x400 with 1 Axes>"
      ],
      "image/png": "[encoded data removed]"
     },
     "metadata": {},
     "output_type": "display_data"
    }
   ],
   "execution_count": 38
  },
  {
   "metadata": {},
   "cell_type": "markdown",
   "source": "although the weights were added the model still shows a big bias toward the neutral class."
  },
  {
   "metadata": {},
   "cell_type": "markdown",
   "source": "# AI prompts with custom model"
  },
  {
   "metadata": {
    "ExecuteTime": {
     "end_time": "2025-04-09T03:07:56.291682Z",
     "start_time": "2025-04-09T03:07:49.271637Z"
    }
   },
   "cell_type": "code",
   "source": "ai_prompt1_pred,ai_1_raw = model.predict(prompt1['tweet'].tolist())",
   "outputs": [
    {
     "name": "stderr",
     "output_type": "stream",
     "text": [
      "INFO:simpletransformers.classification.classification_utils: Converting to features started. Cache is not used.\n"
     ]
    },
    {
     "data": {
      "text/plain": [
       "  0%|          | 0/2 [00:00<?, ?it/s]"
      ],
      "application/vnd.jupyter.widget-view+json": {
       "version_major": 2,
       "version_minor": 0,
       "model_id": "e8d7a7ea0e6646eba6aa35ad35a7e911"
      }
     },
     "metadata": {},
     "output_type": "display_data"
    },
    {
     "data": {
      "text/plain": [
       "  0%|          | 0/10 [00:00<?, ?it/s]"
      ],
      "application/vnd.jupyter.widget-view+json": {
       "version_major": 2,
       "version_minor": 0,
       "model_id": "863310c47d964fbcae7b72bafa86f81b"
      }
     },
     "metadata": {},
     "output_type": "display_data"
    },
    {
     "name": "stderr",
     "output_type": "stream",
     "text": [
      "C:\\Users\\Brian\\PyCharmMiscProject\\.venv\\Lib\\site-packages\\simpletransformers\\classification\\classification_model.py:2188: FutureWarning: `torch.cuda.amp.autocast(args...)` is deprecated. Please use `torch.amp.autocast('cuda', args...)` instead.\n",
      "  with amp.autocast():\n"
     ]
    }
   ],
   "execution_count": 39
  },
  {
   "metadata": {
    "ExecuteTime": {
     "end_time": "2025-04-09T03:08:03.270907Z",
     "start_time": "2025-04-09T03:07:56.309507Z"
    }
   },
   "cell_type": "code",
   "source": "ai_prompt2_pred, ai_2_raw_ = model.predict(prompt2['tweet'].tolist())",
   "outputs": [
    {
     "name": "stderr",
     "output_type": "stream",
     "text": [
      "INFO:simpletransformers.classification.classification_utils: Converting to features started. Cache is not used.\n"
     ]
    },
    {
     "data": {
      "text/plain": [
       "  0%|          | 0/1 [00:00<?, ?it/s]"
      ],
      "application/vnd.jupyter.widget-view+json": {
       "version_major": 2,
       "version_minor": 0,
       "model_id": "9a274c543d544ed7acf17f7ad4bafd6e"
      }
     },
     "metadata": {},
     "output_type": "display_data"
    },
    {
     "data": {
      "text/plain": [
       "  0%|          | 0/10 [00:00<?, ?it/s]"
      ],
      "application/vnd.jupyter.widget-view+json": {
       "version_major": 2,
       "version_minor": 0,
       "model_id": "097892b4e8ae4752b914e5ef17eb0a2c"
      }
     },
     "metadata": {},
     "output_type": "display_data"
    },
    {
     "name": "stderr",
     "output_type": "stream",
     "text": [
      "C:\\Users\\Brian\\PyCharmMiscProject\\.venv\\Lib\\site-packages\\simpletransformers\\classification\\classification_model.py:2188: FutureWarning: `torch.cuda.amp.autocast(args...)` is deprecated. Please use `torch.amp.autocast('cuda', args...)` instead.\n",
      "  with amp.autocast():\n"
     ]
    }
   ],
   "execution_count": 40
  },
  {
   "metadata": {},
   "cell_type": "markdown",
   "source": ""
  },
  {
   "metadata": {
    "ExecuteTime": {
     "end_time": "2025-04-09T03:08:03.293050Z",
     "start_time": "2025-04-09T03:08:03.289376Z"
    }
   },
   "cell_type": "code",
   "source": [
    "# Convert logits to confidence scores\n",
    "probs1 = F.softmax(torch.tensor(ai_1_raw), dim=1)\n",
    "probs2 = F.softmax(torch.tensor(ai_2_raw_), dim=1)"
   ],
   "outputs": [],
   "execution_count": 41
  },
  {
   "metadata": {
    "ExecuteTime": {
     "end_time": "2025-04-09T03:08:03.322861Z",
     "start_time": "2025-04-09T03:08:03.319696Z"
    }
   },
   "cell_type": "code",
   "source": [
    "# Get top confidence score per prediction\n",
    "confidences1 = probs1.max(dim=1).values.numpy()\n",
    "confidences2 = probs2.max(dim=1).values.numpy()"
   ],
   "outputs": [],
   "execution_count": 42
  },
  {
   "metadata": {
    "ExecuteTime": {
     "end_time": "2025-04-09T03:08:03.387702Z",
     "start_time": "2025-04-09T03:08:03.365729Z"
    }
   },
   "cell_type": "code",
   "source": [
    "from scipy.special import softmax\n",
    "# Reverse label mapping: model_index -> original_label_id\n",
    "reverse_label_mapping = {v: k for k, v in label_mapping.items()}\n",
    "\n",
    "# Optional: readable label names (e.g., from label_map = {2: \"anger\", ...})\n",
    "label_map = {2: \"anger\", 11: \"joy\", 14: \"sadness\", 17: \"surprise\", 25: \"fear\", 26: \"disgust\", 27: \"neutral\"}\n",
    "\n",
    "# Prepare predictions with confidence\n",
    "def format_predictions(preds, outputs):\n",
    "    results = []\n",
    "    for pred, logits in zip(preds, outputs):\n",
    "        probs = softmax(logits)  # convert logits to probabilities\n",
    "        confidence = float(probs[pred])\n",
    "        orig_label_id = reverse_label_mapping[int(pred)]\n",
    "        label_name = label_map[orig_label_id]\n",
    "        results.append((label_name, confidence))\n",
    "    return results\n",
    "\n",
    "formatted_preds1 = format_predictions(ai_prompt1_pred, ai_1_raw)\n",
    "formatted_preds2 = format_predictions(ai_prompt2_pred, ai_2_raw_)\n"
   ],
   "outputs": [],
   "execution_count": 43
  },
  {
   "metadata": {
    "ExecuteTime": {
     "end_time": "2025-04-09T03:08:03.399309Z",
     "start_time": "2025-04-09T03:08:03.395133Z"
    }
   },
   "cell_type": "code",
   "source": [
    "# Show example results\n",
    "for i, (text, (label, conf)) in enumerate(zip(prompt1['tweet'], formatted_preds1[:5])):\n",
    "    print(f\"[{i}] {label} ({conf:.2%})\\n{text}\\n\")"
   ],
   "outputs": [
    {
     "name": "stdout",
     "output_type": "stream",
     "text": [
      "[0] neutral (98.89%)\n",
      "Just realized that the best part of coffee is that first sip. #MorningVibes\n",
      "\n",
      "[1] neutral (82.29%)\n",
      "Is it weird that I feel like my shoes are judging me when I walk into a store? 👟\n",
      "\n",
      "[2] neutral (99.86%)\n",
      "Sometimes the smallest things take up the most room in your heart. 💛 #DeepThoughts\n",
      "\n",
      "[3] neutral (99.87%)\n",
      "Did anyone else learn more from watching cooking shows than actual cooking classes? 🍳\n",
      "\n",
      "[4] neutral (99.88%)\n",
      "Can't decide if I need a vacation or a nap. Maybe both? 🌴💤\n",
      "\n"
     ]
    }
   ],
   "execution_count": 44
  },
  {
   "metadata": {
    "ExecuteTime": {
     "end_time": "2025-04-09T03:08:03.443761Z",
     "start_time": "2025-04-09T03:08:03.439959Z"
    }
   },
   "cell_type": "code",
   "source": [
    "for i, (text, (label, conf)) in enumerate(zip(prompt2['tweet'], formatted_preds2[:5])):\n",
    "    print(f\"[{i}] {label} ({conf:.2%})\\n{text}\\n\")"
   ],
   "outputs": [
    {
     "name": "stdout",
     "output_type": "stream",
     "text": [
      "[0] neutral (99.77%)\n",
      "Is anyone else still trying to figure out what’s going on with the Twitter rebrand to X? It’s just confusing at this point. 🤔 #X #TwitterChanges\n",
      "\n",
      "[1] disgust (98.22%)\n",
      "Can’t believe the Oscar nominations are already coming up again. 2025 is already shaping up to be a big year for movies! 🎬 #Oscars2025\n",
      "\n",
      "[2] neutral (69.25%)\n",
      "It's interesting to see how political campaigns are shifting strategies with social media. So much has changed since 2016. 📲 #Election2024\n",
      "\n",
      "[3] sadness (98.45%)\n",
      "The rise of AI is both exciting and terrifying. Who’s ready for robots taking over? 🤖 #AI #FutureTech\n",
      "\n",
      "[4] neutral (99.78%)\n",
      "Heard some big things are coming from Netflix this year. I’m hoping for a season 2 of Wednesday! 🍿 #Netflix2025\n",
      "\n"
     ]
    }
   ],
   "execution_count": 45
  },
  {
   "metadata": {
    "ExecuteTime": {
     "end_time": "2025-04-09T03:08:03.506863Z",
     "start_time": "2025-04-09T03:08:03.490644Z"
    }
   },
   "cell_type": "code",
   "source": [
    "# Split the tuple into two clean columns\n",
    "prompt1_results = prompt1\n",
    "prompt1_results['emotion'] = [label for label, _ in formatted_preds1]\n",
    "prompt1_results['confidence'] = [conf for _, conf in formatted_preds1]\n",
    "\n",
    "# Split the tuple into two clean columns\n",
    "prompt2_results = prompt2\n",
    "prompt2_results['emotion'] = [label for label, _ in formatted_preds2]\n",
    "prompt2_results['confidence'] = [conf for _, conf in formatted_preds2]\n",
    "\n",
    "\n",
    "\n",
    "prompt1_results.to_csv(\"ai_predictions1.csv\", columns=['tweet', 'emotion', 'confidence'], sep='|')\n",
    "prompt2_results.to_csv(\"ai_predictions2.csv\", columns=['tweet', 'emotion', 'confidence'], sep='|')"
   ],
   "outputs": [],
   "execution_count": 46
  },
  {
   "metadata": {
    "ExecuteTime": {
     "end_time": "2025-04-09T03:08:03.630406Z",
     "start_time": "2025-04-09T03:08:03.532128Z"
    }
   },
   "cell_type": "code",
   "source": [
    "ai_1_output = pd.read_csv(\"ai_predictions1_clean.csv\", delimiter='|')\n",
    "\n",
    "emotion_counts = ai_1_output['emotion'].value_counts()\n",
    "plt.figure(figsize=(8, 5))\n",
    "emotion_counts.plot(kind='bar', color='skyblue', edgecolor='black')\n",
    "plt.title(\"Count of Predictions per Emotion (Prompt 1)\")\n",
    "plt.xlabel(\"Emotion\")\n",
    "plt.ylabel(\"Count\")\n",
    "plt.xticks(rotation=45)\n",
    "plt.grid(axis='y', linestyle='--', alpha=0.7)\n",
    "plt.tight_layout()\n",
    "plt.show()"
   ],
   "outputs": [
    {
     "data": {
      "text/plain": [
       "<Figure size 800x500 with 1 Axes>"
      ],
      "image/png": "[encoded data removed]"
     },
     "metadata": {},
     "output_type": "display_data"
    }
   ],
   "execution_count": 47
  },
  {
   "metadata": {
    "ExecuteTime": {
     "end_time": "2025-04-09T03:08:03.739910Z",
     "start_time": "2025-04-09T03:08:03.652935Z"
    }
   },
   "cell_type": "code",
   "source": [
    "ai_2_output = pd.read_csv(\"ai_predictions2_clean.csv\", delimiter='|')\n",
    "\n",
    "emotion_counts = ai_2_output['emotion'].value_counts()\n",
    "plt.figure(figsize=(8, 5))\n",
    "emotion_counts.plot(kind='bar', color='skyblue', edgecolor='black')\n",
    "plt.title(\"Count of Predictions per Emotion (Prompt 2)\")\n",
    "plt.xlabel(\"Emotion\")\n",
    "plt.ylabel(\"Count\")\n",
    "plt.xticks(rotation=45)\n",
    "plt.grid(axis='y', linestyle='--', alpha=0.7)\n",
    "plt.tight_layout()\n",
    "plt.show()"
   ],
   "outputs": [
    {
     "data": {
      "text/plain": [
       "<Figure size 800x500 with 1 Axes>"
      ],
      "image/png": "[encoded data removed]"
     },
     "metadata": {},
     "output_type": "display_data"
    }
   ],
   "execution_count": 48
  },
  {
   "metadata": {
    "ExecuteTime": {
     "end_time": "2025-04-09T03:08:03.770951Z",
     "start_time": "2025-04-09T03:08:03.765185Z"
    }
   },
   "cell_type": "code",
   "source": [
    "# Group by emotion and calculate average confidence\n",
    "avg_conf_1 = ai_1_output.groupby('emotion')['confidence'].mean().sort_values(ascending=False)\n",
    "avg_conf_2 = ai_2_output.groupby('emotion')['confidence'].mean().sort_values(ascending=False)\n",
    "\n",
    "print(\"Average Confidence per Emotion (Prompt 1):\\n\", avg_conf_1)\n",
    "print(\"\\nAverage Confidence per Emotion (Prompt 2):\\n\", avg_conf_2)\n"
   ],
   "outputs": [
    {
     "name": "stdout",
     "output_type": "stream",
     "text": [
      "Average Confidence per Emotion (Prompt 1):\n",
      " emotion\n",
      "sadness     0.989099\n",
      "disgust     0.982839\n",
      "neutral     0.980046\n",
      "surprise    0.914803\n",
      "anger       0.787470\n",
      "fear        0.760516\n",
      "joy         0.712576\n",
      "Name: confidence, dtype: float64\n",
      "\n",
      "Average Confidence per Emotion (Prompt 2):\n",
      " emotion\n",
      "neutral     0.977752\n",
      "sadness     0.969481\n",
      "disgust     0.914754\n",
      "fear        0.903510\n",
      "surprise    0.902869\n",
      "joy         0.901152\n",
      "anger       0.607154\n",
      "Name: confidence, dtype: float64\n"
     ]
    }
   ],
   "execution_count": 49
  },
  {
   "metadata": {},
   "cell_type": "markdown",
   "source": "Model has more confidence while predicting emotions than the j-hartmann model but the bias is showing here for the neutral class"
  },
  {
   "metadata": {
    "ExecuteTime": {
     "end_time": "2025-04-09T03:08:03.816008Z",
     "start_time": "2025-04-09T03:08:03.811844Z"
    }
   },
   "cell_type": "code",
   "source": [
    "print(\"prompt 1:\\n\", prompt1_results['emotion'].value_counts(), '\\n')\n",
    "print(\"prompt 2: \\n\", prompt2_results['emotion'].value_counts())\n"
   ],
   "outputs": [
    {
     "name": "stdout",
     "output_type": "stream",
     "text": [
      "prompt 1:\n",
      " emotion\n",
      "neutral     733\n",
      "disgust     146\n",
      "surprise    100\n",
      "fear         14\n",
      "anger         6\n",
      "sadness       1\n",
      "Name: count, dtype: int64 \n",
      "\n",
      "prompt 2: \n",
      " emotion\n",
      "neutral     745\n",
      "disgust     103\n",
      "surprise     65\n",
      "fear         31\n",
      "sadness      10\n",
      "joy           3\n",
      "anger         3\n",
      "Name: count, dtype: int64\n"
     ]
    }
   ],
   "execution_count": 50
  },
  {
   "metadata": {},
   "cell_type": "markdown",
   "source": "# Combining Models"
  },
  {
   "metadata": {},
   "cell_type": "markdown",
   "source": "To addresses the bias found we will combine the go-emotion dataset with the dair-ai dataset which does not have any instances with a neutral label."
  },
  {
   "metadata": {
    "ExecuteTime": {
     "end_time": "2025-04-09T03:08:03.865981Z",
     "start_time": "2025-04-09T03:08:03.856956Z"
    }
   },
   "cell_type": "code",
   "source": [
    "combo_dataset = final_train\n",
    "combo_dataset = pd.concat([combo_dataset, dair_df], ignore_index=True, )\n",
    "combo_dataset"
   ],
   "outputs": [
    {
     "data": {
      "text/plain": [
       "                                                    text  labels  label\n",
       "0      My favourite food is anything I didn't have to...     6.0    NaN\n",
       "1      Now if he does off himself, everyone will thin...     6.0    NaN\n",
       "2                         WHY THE FUCK IS BAYLESS ISOING     0.0    NaN\n",
       "3                            To make her feel threatened     2.0    NaN\n",
       "4      OmG pEyToN iSn'T gOoD eNoUgH tO hElP uS iN tHe...     5.0    NaN\n",
       "...                                                  ...     ...    ...\n",
       "37161  i struggle with feeling terrible about turning...     NaN    4.0\n",
       "37162  i just wanted them both to just have character...     NaN    3.0\n",
       "37163  i feel a little funny just typing all about my...     NaN    5.0\n",
       "37164                 i feel just target blank title del     NaN    4.0\n",
       "37165                         i feel violent towards her     NaN    0.0\n",
       "\n",
       "[37166 rows x 3 columns]"
      ],
      "text/html": [
       "<div>\n",
       "<style scoped>\n",
       "    .dataframe tbody tr th:only-of-type {\n",
       "        vertical-align: middle;\n",
       "    }\n",
       "\n",
       "    .dataframe tbody tr th {\n",
       "        vertical-align: top;\n",
       "    }\n",
       "\n",
       "    .dataframe thead th {\n",
       "        text-align: right;\n",
       "    }\n",
       "</style>\n",
       "<table border=\"1\" class=\"dataframe\">\n",
       "  <thead>\n",
       "    <tr style=\"text-align: right;\">\n",
       "      <th></th>\n",
       "      <th>text</th>\n",
       "      <th>labels</th>\n",
       "      <th>label</th>\n",
       "    </tr>\n",
       "  </thead>\n",
       "  <tbody>\n",
       "    <tr>\n",
       "      <th>0</th>\n",
       "      <td>My favourite food is anything I didn't have to...</td>\n",
       "      <td>6.0</td>\n",
       "      <td>NaN</td>\n",
       "    </tr>\n",
       "    <tr>\n",
       "      <th>1</th>\n",
       "      <td>Now if he does off himself, everyone will thin...</td>\n",
       "      <td>6.0</td>\n",
       "      <td>NaN</td>\n",
       "    </tr>\n",
       "    <tr>\n",
       "      <th>2</th>\n",
       "      <td>WHY THE FUCK IS BAYLESS ISOING</td>\n",
       "      <td>0.0</td>\n",
       "      <td>NaN</td>\n",
       "    </tr>\n",
       "    <tr>\n",
       "      <th>3</th>\n",
       "      <td>To make her feel threatened</td>\n",
       "      <td>2.0</td>\n",
       "      <td>NaN</td>\n",
       "    </tr>\n",
       "    <tr>\n",
       "      <th>4</th>\n",
       "      <td>OmG pEyToN iSn'T gOoD eNoUgH tO hElP uS iN tHe...</td>\n",
       "      <td>5.0</td>\n",
       "      <td>NaN</td>\n",
       "    </tr>\n",
       "    <tr>\n",
       "      <th>...</th>\n",
       "      <td>...</td>\n",
       "      <td>...</td>\n",
       "      <td>...</td>\n",
       "    </tr>\n",
       "    <tr>\n",
       "      <th>37161</th>\n",
       "      <td>i struggle with feeling terrible about turning...</td>\n",
       "      <td>NaN</td>\n",
       "      <td>4.0</td>\n",
       "    </tr>\n",
       "    <tr>\n",
       "      <th>37162</th>\n",
       "      <td>i just wanted them both to just have character...</td>\n",
       "      <td>NaN</td>\n",
       "      <td>3.0</td>\n",
       "    </tr>\n",
       "    <tr>\n",
       "      <th>37163</th>\n",
       "      <td>i feel a little funny just typing all about my...</td>\n",
       "      <td>NaN</td>\n",
       "      <td>5.0</td>\n",
       "    </tr>\n",
       "    <tr>\n",
       "      <th>37164</th>\n",
       "      <td>i feel just target blank title del</td>\n",
       "      <td>NaN</td>\n",
       "      <td>4.0</td>\n",
       "    </tr>\n",
       "    <tr>\n",
       "      <th>37165</th>\n",
       "      <td>i feel violent towards her</td>\n",
       "      <td>NaN</td>\n",
       "      <td>0.0</td>\n",
       "    </tr>\n",
       "  </tbody>\n",
       "</table>\n",
       "<p>37166 rows × 3 columns</p>\n",
       "</div>"
      ]
     },
     "execution_count": 51,
     "metadata": {},
     "output_type": "execute_result"
    }
   ],
   "execution_count": 51
  },
  {
   "metadata": {
    "ExecuteTime": {
     "end_time": "2025-04-09T03:08:03.933851Z",
     "start_time": "2025-04-09T03:08:03.931776Z"
    }
   },
   "cell_type": "code",
   "source": "",
   "outputs": [],
   "execution_count": null
  },
  {
   "metadata": {
    "ExecuteTime": {
     "end_time": "2025-04-09T03:08:04.004970Z",
     "start_time": "2025-04-09T03:08:03.991112Z"
    }
   },
   "cell_type": "code",
   "source": [
    "combo_dataset = pd.concat([final_train[['text', 'labels']].rename(columns={'labels': 'label'}), dair_df[['text', 'label']]], ignore_index=True)\n",
    "combo_dataset"
   ],
   "outputs": [
    {
     "data": {
      "text/plain": [
       "                                                    text  label\n",
       "0      My favourite food is anything I didn't have to...      6\n",
       "1      Now if he does off himself, everyone will thin...      6\n",
       "2                         WHY THE FUCK IS BAYLESS ISOING      0\n",
       "3                            To make her feel threatened      2\n",
       "4      OmG pEyToN iSn'T gOoD eNoUgH tO hElP uS iN tHe...      5\n",
       "...                                                  ...    ...\n",
       "37161  i struggle with feeling terrible about turning...      4\n",
       "37162  i just wanted them both to just have character...      3\n",
       "37163  i feel a little funny just typing all about my...      5\n",
       "37164                 i feel just target blank title del      4\n",
       "37165                         i feel violent towards her      0\n",
       "\n",
       "[37166 rows x 2 columns]"
      ],
      "text/html": [
       "<div>\n",
       "<style scoped>\n",
       "    .dataframe tbody tr th:only-of-type {\n",
       "        vertical-align: middle;\n",
       "    }\n",
       "\n",
       "    .dataframe tbody tr th {\n",
       "        vertical-align: top;\n",
       "    }\n",
       "\n",
       "    .dataframe thead th {\n",
       "        text-align: right;\n",
       "    }\n",
       "</style>\n",
       "<table border=\"1\" class=\"dataframe\">\n",
       "  <thead>\n",
       "    <tr style=\"text-align: right;\">\n",
       "      <th></th>\n",
       "      <th>text</th>\n",
       "      <th>label</th>\n",
       "    </tr>\n",
       "  </thead>\n",
       "  <tbody>\n",
       "    <tr>\n",
       "      <th>0</th>\n",
       "      <td>My favourite food is anything I didn't have to...</td>\n",
       "      <td>6</td>\n",
       "    </tr>\n",
       "    <tr>\n",
       "      <th>1</th>\n",
       "      <td>Now if he does off himself, everyone will thin...</td>\n",
       "      <td>6</td>\n",
       "    </tr>\n",
       "    <tr>\n",
       "      <th>2</th>\n",
       "      <td>WHY THE FUCK IS BAYLESS ISOING</td>\n",
       "      <td>0</td>\n",
       "    </tr>\n",
       "    <tr>\n",
       "      <th>3</th>\n",
       "      <td>To make her feel threatened</td>\n",
       "      <td>2</td>\n",
       "    </tr>\n",
       "    <tr>\n",
       "      <th>4</th>\n",
       "      <td>OmG pEyToN iSn'T gOoD eNoUgH tO hElP uS iN tHe...</td>\n",
       "      <td>5</td>\n",
       "    </tr>\n",
       "    <tr>\n",
       "      <th>...</th>\n",
       "      <td>...</td>\n",
       "      <td>...</td>\n",
       "    </tr>\n",
       "    <tr>\n",
       "      <th>37161</th>\n",
       "      <td>i struggle with feeling terrible about turning...</td>\n",
       "      <td>4</td>\n",
       "    </tr>\n",
       "    <tr>\n",
       "      <th>37162</th>\n",
       "      <td>i just wanted them both to just have character...</td>\n",
       "      <td>3</td>\n",
       "    </tr>\n",
       "    <tr>\n",
       "      <th>37163</th>\n",
       "      <td>i feel a little funny just typing all about my...</td>\n",
       "      <td>5</td>\n",
       "    </tr>\n",
       "    <tr>\n",
       "      <th>37164</th>\n",
       "      <td>i feel just target blank title del</td>\n",
       "      <td>4</td>\n",
       "    </tr>\n",
       "    <tr>\n",
       "      <th>37165</th>\n",
       "      <td>i feel violent towards her</td>\n",
       "      <td>0</td>\n",
       "    </tr>\n",
       "  </tbody>\n",
       "</table>\n",
       "<p>37166 rows × 2 columns</p>\n",
       "</div>"
      ]
     },
     "execution_count": 52,
     "metadata": {},
     "output_type": "execute_result"
    }
   ],
   "execution_count": 52
  },
  {
   "metadata": {
    "ExecuteTime": {
     "end_time": "2025-04-09T03:08:04.175837Z",
     "start_time": "2025-04-09T03:08:04.171620Z"
    }
   },
   "cell_type": "code",
   "source": "final_train.size",
   "outputs": [
    {
     "data": {
      "text/plain": [
       "34332"
      ]
     },
     "execution_count": 53,
     "metadata": {},
     "output_type": "execute_result"
    }
   ],
   "execution_count": 53
  },
  {
   "metadata": {
    "ExecuteTime": {
     "end_time": "2025-04-09T03:08:04.264808Z",
     "start_time": "2025-04-09T03:08:04.260530Z"
    }
   },
   "cell_type": "code",
   "source": "dair_df.size",
   "outputs": [
    {
     "data": {
      "text/plain": [
       "40000"
      ]
     },
     "execution_count": 54,
     "metadata": {},
     "output_type": "execute_result"
    }
   ],
   "execution_count": 54
  },
  {
   "metadata": {
    "ExecuteTime": {
     "end_time": "2025-04-09T03:08:04.338773Z",
     "start_time": "2025-04-09T03:08:04.334530Z"
    }
   },
   "cell_type": "code",
   "source": "combo_dataset.shape",
   "outputs": [
    {
     "data": {
      "text/plain": [
       "(37166, 2)"
      ]
     },
     "execution_count": 55,
     "metadata": {},
     "output_type": "execute_result"
    }
   ],
   "execution_count": 55
  },
  {
   "metadata": {},
   "cell_type": "markdown",
   "source": [
    "Reminder\n",
    "\n",
    "\n",
    "0 = Anger,\n",
    "1 = Disgust,\n",
    "2 = Fear,\n",
    "3 = Joy,\n",
    "4 = Sadness,\n",
    "5 = Surprise,\n",
    "6 = Neutral"
   ]
  },
  {
   "metadata": {
    "ExecuteTime": {
     "end_time": "2025-04-09T03:08:04.493557Z",
     "start_time": "2025-04-09T03:08:04.407033Z"
    }
   },
   "cell_type": "code",
   "source": [
    "# Plot the emotion count for the combined dataset\n",
    "emotion_counts_combo = combo_dataset['label'].value_counts().sort_index()\n",
    "\n",
    "# Map of label ids to emotion names (same as before)\n",
    "label_map = {\n",
    "    0: 'Anger',\n",
    "    1: 'Disgust',\n",
    "    2: 'Fear',\n",
    "    3: 'Joy',\n",
    "    4: 'Sadness',\n",
    "    5: 'Surprise',\n",
    "    6: 'Neutral'\n",
    "}\n",
    "\n",
    "# Create a bar plot\n",
    "plt.figure(figsize=(10, 6))\n",
    "plt.bar([label_map[i] for i in emotion_counts_combo.index], emotion_counts_combo.values)\n",
    "plt.xlabel('Emotion')\n",
    "plt.ylabel('Count')\n",
    "plt.title('Emotion Distribution in Combined GoEmotions and Dair-AI Dataset')\n",
    "plt.xticks(rotation=45)\n",
    "plt.tight_layout()\n",
    "plt.show()"
   ],
   "outputs": [
    {
     "data": {
      "text/plain": [
       "<Figure size 1000x600 with 1 Axes>"
      ],
      "image/png": "[encoded data removed]"
     },
     "metadata": {},
     "output_type": "display_data"
    }
   ],
   "execution_count": 56
  },
  {
   "metadata": {
    "ExecuteTime": {
     "end_time": "2025-04-09T03:08:04.544811Z",
     "start_time": "2025-04-09T03:08:04.539063Z"
    }
   },
   "cell_type": "code",
   "source": [
    "print(combo_dataset['label'].unique())\n",
    "print(combo_dataset.value_counts('label'))\n"
   ],
   "outputs": [
    {
     "name": "stdout",
     "output_type": "stream",
     "text": [
      "[6 0 2 5 3 4 1]\n",
      "label\n",
      "6    12823\n",
      "3     8219\n",
      "4     7250\n",
      "0     3932\n",
      "2     2917\n",
      "5     1527\n",
      "1      498\n",
      "Name: count, dtype: int64\n"
     ]
    }
   ],
   "execution_count": 57
  },
  {
   "metadata": {},
   "cell_type": "markdown",
   "source": "Still has a lot more of the neutral class but less so"
  },
  {
   "metadata": {
    "ExecuteTime": {
     "end_time": "2025-04-09T03:08:04.597807Z",
     "start_time": "2025-04-09T03:08:04.571069Z"
    }
   },
   "cell_type": "code",
   "source": [
    "from sklearn.model_selection import train_test_split\n",
    "\n",
    "train_df, eval_df = train_test_split(combo_dataset, test_size=0.3, random_state=42, stratify=combo_dataset['label'])\n"
   ],
   "outputs": [],
   "execution_count": 58
  },
  {
   "metadata": {
    "ExecuteTime": {
     "end_time": "2025-04-09T03:08:04.633616Z",
     "start_time": "2025-04-09T03:08:04.625642Z"
    }
   },
   "cell_type": "code",
   "source": [
    "combo_class_weights = compute_class_weight( # still accounting for the imbalance in the dataset\n",
    "    class_weight='balanced',\n",
    "    classes=np.unique(train_df['label']),\n",
    "    y=train_df['label']\n",
    ")\n"
   ],
   "outputs": [],
   "execution_count": 59
  },
  {
   "metadata": {
    "ExecuteTime": {
     "end_time": "2025-04-09T03:16:53.681661Z",
     "start_time": "2025-04-09T03:08:04.663751Z"
    }
   },
   "cell_type": "code",
   "source": [
    "#same model with the exception of the weight\n",
    "model_args_combo = ClassificationArgs()\n",
    "model_args_combo.num_train_epochs = 3\n",
    "model_args_combo.output_dir = \"outputs/\"\n",
    "model_args_combo.overwrite_output_dir = True\n",
    "#model_args_combo.class_weight = combo_class_weights\n",
    "\n",
    "model_combo = ClassificationModel(\n",
    "    model_type=\"roberta\",\n",
    "    model_name=\"roberta-base\",\n",
    "    num_labels=7,\n",
    "    args=model_args_combo,\n",
    "    use_cuda=True\n",
    ")\n",
    "model_combo.train_model(train_df)\n",
    "\n",
    "result_combo, model_outputs_combo, wrong_preds_combo = model.eval_model(eval_df)\n",
    "# Predict on evaluation data"
   ],
   "outputs": [
    {
     "name": "stderr",
     "output_type": "stream",
     "text": [
      "Some weights of RobertaForSequenceClassification were not initialized from the model checkpoint at roberta-base and are newly initialized: ['classifier.dense.bias', 'classifier.dense.weight', 'classifier.out_proj.bias', 'classifier.out_proj.weight']\n",
      "You should probably TRAIN this model on a down-stream task to be able to use it for predictions and inference.\n",
      "C:\\Users\\Brian\\PyCharmMiscProject\\.venv\\Lib\\site-packages\\simpletransformers\\classification\\classification_model.py:610: UserWarning: Dataframe headers not specified. Falling back to using column 0 as text and column 1 as labels.\n",
      "  warnings.warn(\n",
      "INFO:simpletransformers.classification.classification_utils: Converting to features started. Cache is not used.\n"
     ]
    },
    {
     "data": {
      "text/plain": [
       "  0%|          | 0/52 [00:00<?, ?it/s]"
      ],
      "application/vnd.jupyter.widget-view+json": {
       "version_major": 2,
       "version_minor": 0,
       "model_id": "79feac607c934410a26ece02c0646f86"
      }
     },
     "metadata": {},
     "output_type": "display_data"
    },
    {
     "name": "stderr",
     "output_type": "stream",
     "text": [
      "INFO:simpletransformers.classification.classification_utils: Saving features into cached file cache_dir/cached_train_roberta_128_7_2\n"
     ]
    },
    {
     "data": {
      "text/plain": [
       "Epoch:   0%|          | 0/3 [00:00<?, ?it/s]"
      ],
      "application/vnd.jupyter.widget-view+json": {
       "version_major": 2,
       "version_minor": 0,
       "model_id": "f50b9ddb4f62402f9fd67b9e50988740"
      }
     },
     "metadata": {},
     "output_type": "display_data"
    },
    {
     "name": "stderr",
     "output_type": "stream",
     "text": [
      "C:\\Users\\Brian\\PyCharmMiscProject\\.venv\\Lib\\site-packages\\simpletransformers\\classification\\classification_model.py:882: FutureWarning: `torch.cuda.amp.GradScaler(args...)` is deprecated. Please use `torch.amp.GradScaler('cuda', args...)` instead.\n",
      "  scaler = amp.GradScaler()\n"
     ]
    },
    {
     "data": {
      "text/plain": [
       "Running Epoch 1 of 3:   0%|          | 0/3252 [00:00<?, ?it/s]"
      ],
      "application/vnd.jupyter.widget-view+json": {
       "version_major": 2,
       "version_minor": 0,
       "model_id": "19509624426c48b8b733091b3f2c745d"
      }
     },
     "metadata": {},
     "output_type": "display_data"
    },
    {
     "name": "stderr",
     "output_type": "stream",
     "text": [
      "C:\\Users\\Brian\\PyCharmMiscProject\\.venv\\Lib\\site-packages\\simpletransformers\\classification\\classification_model.py:905: FutureWarning: `torch.cuda.amp.autocast(args...)` is deprecated. Please use `torch.amp.autocast('cuda', args...)` instead.\n",
      "  with amp.autocast():\n"
     ]
    },
    {
     "data": {
      "text/plain": [
       "Running Epoch 2 of 3:   0%|          | 0/3252 [00:00<?, ?it/s]"
      ],
      "application/vnd.jupyter.widget-view+json": {
       "version_major": 2,
       "version_minor": 0,
       "model_id": "d55a42c737754ad28b22165a1fc13f1a"
      }
     },
     "metadata": {},
     "output_type": "display_data"
    },
    {
     "data": {
      "text/plain": [
       "Running Epoch 3 of 3:   0%|          | 0/3252 [00:00<?, ?it/s]"
      ],
      "application/vnd.jupyter.widget-view+json": {
       "version_major": 2,
       "version_minor": 0,
       "model_id": "32e86bc45e9d4c61ba079e27cd9a933f"
      }
     },
     "metadata": {},
     "output_type": "display_data"
    },
    {
     "name": "stderr",
     "output_type": "stream",
     "text": [
      "INFO:simpletransformers.classification.classification_model: Training of roberta model complete. Saved to outputs/.\n",
      "C:\\Users\\Brian\\PyCharmMiscProject\\.venv\\Lib\\site-packages\\simpletransformers\\classification\\classification_model.py:1453: UserWarning: Dataframe headers not specified. Falling back to using column 0 as text and column 1 as labels.\n",
      "  warnings.warn(\n",
      "INFO:simpletransformers.classification.classification_utils: Converting to features started. Cache is not used.\n"
     ]
    },
    {
     "data": {
      "text/plain": [
       "  0%|          | 0/22 [00:00<?, ?it/s]"
      ],
      "application/vnd.jupyter.widget-view+json": {
       "version_major": 2,
       "version_minor": 0,
       "model_id": "64a1a8ff45ce47aab6885bac74f64a22"
      }
     },
     "metadata": {},
     "output_type": "display_data"
    },
    {
     "name": "stderr",
     "output_type": "stream",
     "text": [
      "INFO:simpletransformers.classification.classification_utils: Saving features into cached file cache_dir/cached_dev_roberta_128_7_2\n"
     ]
    },
    {
     "data": {
      "text/plain": [
       "Running Evaluation:   0%|          | 0/112 [00:00<?, ?it/s]"
      ],
      "application/vnd.jupyter.widget-view+json": {
       "version_major": 2,
       "version_minor": 0,
       "model_id": "a95e0c65e8a749b68241d0875e5f1616"
      }
     },
     "metadata": {},
     "output_type": "display_data"
    },
    {
     "name": "stderr",
     "output_type": "stream",
     "text": [
      "C:\\Users\\Brian\\PyCharmMiscProject\\.venv\\Lib\\site-packages\\simpletransformers\\classification\\classification_model.py:1505: FutureWarning: `torch.cuda.amp.autocast(args...)` is deprecated. Please use `torch.amp.autocast('cuda', args...)` instead.\n",
      "  with amp.autocast():\n",
      "INFO:simpletransformers.classification.classification_model:{'mcc': np.float64(0.5653891679763611), 'eval_loss': 2.053649254143238}\n"
     ]
    }
   ],
   "execution_count": 60
  },
  {
   "metadata": {},
   "cell_type": "code",
   "outputs": [],
   "execution_count": null,
   "source": [
    "\n",
    "# # Predict on evaluation data\n",
    "# preds, _ = model.predict(final_test['text'].tolist())\n",
    "# # Create inverse label mapping\n",
    "# reverse_label_mapping = {v: k for k, v in label_mapping.items()}\n",
    "# label_names = [label_map[reverse_label_mapping[i]] for i in range(len(label_mapping))]\n",
    "#\n",
    "# # Plot confusion matrix\n",
    "# cm = confusion_matrix(final_test['labels'], preds)\n",
    "# disp = ConfusionMatrixDisplay(confusion_matrix=cm, display_labels=label_names)\n",
    "# disp.plot(xticks_rotation=45, cmap='Reds')"
   ]
  },
  {
   "metadata": {
    "ExecuteTime": {
     "end_time": "2025-04-09T03:29:40.315477Z",
     "start_time": "2025-04-09T03:29:19.038803Z"
    }
   },
   "cell_type": "code",
   "source": [
    "preds_combo, _ = model_combo.predict(eval_df['text'].tolist())  # Get the predictions\n",
    "\n",
    "cm = confusion_matrix(eval_df['label'], preds_combo)\n",
    "\n",
    "# Plot confusion matrix\n",
    "disp = ConfusionMatrixDisplay(confusion_matrix=cm, display_labels=label_names)\n",
    "disp.plot(xticks_rotation=45, cmap='Reds')\n",
    "\n",
    "# Show the plot\n",
    "plt.show()"
   ],
   "outputs": [
    {
     "name": "stderr",
     "output_type": "stream",
     "text": [
      "INFO:simpletransformers.classification.classification_utils: Converting to features started. Cache is not used.\n"
     ]
    },
    {
     "data": {
      "text/plain": [
       "  0%|          | 0/22 [00:00<?, ?it/s]"
      ],
      "application/vnd.jupyter.widget-view+json": {
       "version_major": 2,
       "version_minor": 0,
       "model_id": "a592e3bfffb44cb3adb16bf8777c4ef0"
      }
     },
     "metadata": {},
     "output_type": "display_data"
    },
    {
     "data": {
      "text/plain": [
       "  0%|          | 0/112 [00:00<?, ?it/s]"
      ],
      "application/vnd.jupyter.widget-view+json": {
       "version_major": 2,
       "version_minor": 0,
       "model_id": "79fe231d7958434bad855067c62bc397"
      }
     },
     "metadata": {},
     "output_type": "display_data"
    },
    {
     "name": "stderr",
     "output_type": "stream",
     "text": [
      "C:\\Users\\Brian\\PyCharmMiscProject\\.venv\\Lib\\site-packages\\simpletransformers\\classification\\classification_model.py:2188: FutureWarning: `torch.cuda.amp.autocast(args...)` is deprecated. Please use `torch.amp.autocast('cuda', args...)` instead.\n",
      "  with amp.autocast():\n"
     ]
    },
    {
     "data": {
      "text/plain": [
       "<Figure size 640x480 with 2 Axes>"
      ],
      "image/png": "[encoded data removed]"
     },
     "metadata": {},
     "output_type": "display_data"
    }
   ],
   "execution_count": 65
  },
  {
   "metadata": {
    "ExecuteTime": {
     "end_time": "2025-04-09T03:29:59.771893Z",
     "start_time": "2025-04-09T03:29:59.761999Z"
    }
   },
   "cell_type": "code",
   "source": "print(classification_report(eval_df['label'], preds_combo, target_names=label_names))\n",
   "outputs": [
    {
     "name": "stdout",
     "output_type": "stream",
     "text": [
      "              precision    recall  f1-score   support\n",
      "\n",
      "       Anger       0.84      0.86      0.85      1180\n",
      "     Disgust       0.59      0.51      0.55       149\n",
      "        Fear       0.87      0.84      0.85       875\n",
      "         Joy       0.95      0.97      0.96      2466\n",
      "     Sadness       0.94      0.92      0.93      2175\n",
      "    Surprise       0.72      0.86      0.79       458\n",
      "     Neutral       0.92      0.90      0.91      3847\n",
      "\n",
      "    accuracy                           0.90     11150\n",
      "   macro avg       0.83      0.84      0.83     11150\n",
      "weighted avg       0.91      0.90      0.90     11150\n",
      "\n"
     ]
    }
   ],
   "execution_count": 66
  },
  {
   "metadata": {
    "ExecuteTime": {
     "end_time": "2025-04-09T03:30:41.334009Z",
     "start_time": "2025-04-09T03:30:41.261409Z"
    }
   },
   "cell_type": "code",
   "source": [
    "\n",
    "plt.figure(figsize=(10, 4))\n",
    "sns.countplot(x=eval_df['label'].map(reverse_label_mapping).map(label_map))\n",
    "plt.title(\"Label Distribution in Eval Set\")\n",
    "plt.xticks(rotation=45)\n",
    "plt.show()"
   ],
   "outputs": [
    {
     "data": {
      "text/plain": [
       "<Figure size 1000x400 with 1 Axes>"
      ],
      "image/png": "[encoded data removed]"
     },
     "metadata": {},
     "output_type": "display_data"
    }
   ],
   "execution_count": 78
  },
  {
   "metadata": {},
   "cell_type": "markdown",
   "source": ""
  },
  {
   "metadata": {},
   "cell_type": "markdown",
   "source": "# Redoing Ai datasets with combo model"
  },
  {
   "metadata": {
    "ExecuteTime": {
     "end_time": "2025-04-09T03:30:13.505164Z",
     "start_time": "2025-04-09T03:29:59.885548Z"
    }
   },
   "cell_type": "code",
   "source": [
    "ai_prompt1_pred_combo, ai_1_raw_combo = model_combo.predict(prompt1['tweet'].tolist())\n",
    "ai_prompt2_pred_combo, ai_2_raw_combo = model_combo.predict(prompt2['tweet'].tolist())"
   ],
   "outputs": [
    {
     "name": "stderr",
     "output_type": "stream",
     "text": [
      "INFO:simpletransformers.classification.classification_utils: Converting to features started. Cache is not used.\n"
     ]
    },
    {
     "data": {
      "text/plain": [
       "  0%|          | 0/2 [00:00<?, ?it/s]"
      ],
      "application/vnd.jupyter.widget-view+json": {
       "version_major": 2,
       "version_minor": 0,
       "model_id": "bdad70d72d8d46e1865c5055a0816b3c"
      }
     },
     "metadata": {},
     "output_type": "display_data"
    },
    {
     "data": {
      "text/plain": [
       "  0%|          | 0/10 [00:00<?, ?it/s]"
      ],
      "application/vnd.jupyter.widget-view+json": {
       "version_major": 2,
       "version_minor": 0,
       "model_id": "4995f5301e544a12af3b22400fce5e36"
      }
     },
     "metadata": {},
     "output_type": "display_data"
    },
    {
     "name": "stderr",
     "output_type": "stream",
     "text": [
      "C:\\Users\\Brian\\PyCharmMiscProject\\.venv\\Lib\\site-packages\\simpletransformers\\classification\\classification_model.py:2188: FutureWarning: `torch.cuda.amp.autocast(args...)` is deprecated. Please use `torch.amp.autocast('cuda', args...)` instead.\n",
      "  with amp.autocast():\n",
      "INFO:simpletransformers.classification.classification_utils: Converting to features started. Cache is not used.\n"
     ]
    },
    {
     "data": {
      "text/plain": [
       "  0%|          | 0/1 [00:00<?, ?it/s]"
      ],
      "application/vnd.jupyter.widget-view+json": {
       "version_major": 2,
       "version_minor": 0,
       "model_id": "095d1b36be824c6b9e89954432530664"
      }
     },
     "metadata": {},
     "output_type": "display_data"
    },
    {
     "data": {
      "text/plain": [
       "  0%|          | 0/10 [00:00<?, ?it/s]"
      ],
      "application/vnd.jupyter.widget-view+json": {
       "version_major": 2,
       "version_minor": 0,
       "model_id": "592231131ea44ec1b389357b9a895efa"
      }
     },
     "metadata": {},
     "output_type": "display_data"
    }
   ],
   "execution_count": 68
  },
  {
   "metadata": {
    "ExecuteTime": {
     "end_time": "2025-04-09T03:30:13.531639Z",
     "start_time": "2025-04-09T03:30:13.527986Z"
    }
   },
   "cell_type": "code",
   "source": [
    "# Convert logits to confidence scores\n",
    "probs1_combo = F.softmax(torch.tensor(ai_1_raw), dim=1)\n",
    "probs2_combo = F.softmax(torch.tensor(ai_2_raw_), dim=1)\n",
    "# Get top confidence score per prediction\n",
    "confidences1_combo = probs1_combo.max(dim=1).values.numpy()\n",
    "confidences2_combo= probs2_combo.max(dim=1).values.numpy()"
   ],
   "outputs": [],
   "execution_count": 69
  },
  {
   "metadata": {
    "ExecuteTime": {
     "end_time": "2025-04-09T03:30:13.577827Z",
     "start_time": "2025-04-09T03:30:13.558889Z"
    }
   },
   "cell_type": "code",
   "source": [
    "\n",
    "# Reverse label mapping: model_index -> original_label_id\n",
    "reverse_label_mapping = {v: k for k, v in label_mapping.items()}\n",
    "\n",
    "# Optional: readable label names (e.g., from label_map = {2: \"anger\", ...})\n",
    "label_map = {2: \"anger\", 11: \"joy\", 14: \"sadness\", 17: \"surprise\", 25: \"fear\", 26: \"disgust\", 27: \"neutral\"}\n",
    "\n",
    "\n",
    "# Prepare predictions with confidence\n",
    "def format_predictions(preds, outputs):\n",
    "    results = []\n",
    "    for pred, logits in zip(preds, outputs):\n",
    "        probs = softmax(logits)  # convert logits to probabilities\n",
    "        confidence = float(probs[pred])\n",
    "        orig_label_id = reverse_label_mapping[int(pred)]\n",
    "        label_name = label_map[orig_label_id]\n",
    "        results.append((label_name, confidence))\n",
    "    return results\n",
    "\n",
    "\n",
    "formatted_preds1_combo = format_predictions(ai_prompt1_pred_combo, ai_1_raw_combo)\n",
    "formatted_preds2_combo = format_predictions(ai_prompt2_pred_combo, ai_2_raw_combo)"
   ],
   "outputs": [],
   "execution_count": 70
  },
  {
   "metadata": {
    "ExecuteTime": {
     "end_time": "2025-04-09T03:30:13.608784Z",
     "start_time": "2025-04-09T03:30:13.605641Z"
    }
   },
   "cell_type": "code",
   "source": [
    "\n",
    "# Show example results\n",
    "for i, (text, (label, conf)) in enumerate(zip(prompt1['tweet'], formatted_preds1_combo[:5])):\n",
    "    print(f\"[{i}] {label} ({conf:.2%})\\n{text}\\n\")\n",
    "for i, (text, (label, conf)) in enumerate(zip(prompt2['tweet'], formatted_preds2_combo[:5])):\n",
    "    print(f\"[{i}] {label} ({conf:.2%})\\n{text}\\n\")"
   ],
   "outputs": [
    {
     "name": "stdout",
     "output_type": "stream",
     "text": [
      "[0] neutral (99.49%)\n",
      "Just realized that the best part of coffee is that first sip. #MorningVibes\n",
      "\n",
      "[1] neutral (95.18%)\n",
      "Is it weird that I feel like my shoes are judging me when I walk into a store? 👟\n",
      "\n",
      "[2] neutral (99.78%)\n",
      "Sometimes the smallest things take up the most room in your heart. 💛 #DeepThoughts\n",
      "\n",
      "[3] neutral (99.87%)\n",
      "Did anyone else learn more from watching cooking shows than actual cooking classes? 🍳\n",
      "\n",
      "[4] neutral (99.86%)\n",
      "Can't decide if I need a vacation or a nap. Maybe both? 🌴💤\n",
      "\n",
      "[0] neutral (99.83%)\n",
      "Is anyone else still trying to figure out what’s going on with the Twitter rebrand to X? It’s just confusing at this point. 🤔 #X #TwitterChanges\n",
      "\n",
      "[1] disgust (99.33%)\n",
      "Can’t believe the Oscar nominations are already coming up again. 2025 is already shaping up to be a big year for movies! 🎬 #Oscars2025\n",
      "\n",
      "[2] neutral (98.32%)\n",
      "It's interesting to see how political campaigns are shifting strategies with social media. So much has changed since 2016. 📲 #Election2024\n",
      "\n",
      "[3] sadness (98.90%)\n",
      "The rise of AI is both exciting and terrifying. Who’s ready for robots taking over? 🤖 #AI #FutureTech\n",
      "\n",
      "[4] neutral (96.78%)\n",
      "Heard some big things are coming from Netflix this year. I’m hoping for a season 2 of Wednesday! 🍿 #Netflix2025\n",
      "\n"
     ]
    }
   ],
   "execution_count": 71
  },
  {
   "metadata": {
    "ExecuteTime": {
     "end_time": "2025-04-09T03:30:13.650963Z",
     "start_time": "2025-04-09T03:30:13.636653Z"
    }
   },
   "cell_type": "code",
   "source": [
    "# Split the tuple into two clean columns\n",
    "prompt1_result_combo = prompt1\n",
    "prompt1_result_combo['emotion'] = [label for label, _ in formatted_preds1_combo]\n",
    "prompt1_result_combo['confidence'] = [conf for _, conf in formatted_preds1_combo]\n",
    "\n",
    "# Split the tuple into two clean columns\n",
    "prompt2_result_combo = prompt2\n",
    "prompt2_result_combo['emotion'] = [label for label, _ in formatted_preds2_combo]\n",
    "prompt2_result_combo['confidence'] = [conf for _, conf in formatted_preds2_combo]\n",
    "\n",
    "prompt1_result_combo.to_csv(\"ai_predictions1_combo.csv\", columns=['tweet', 'emotion', 'confidence'], sep='|')\n",
    "prompt2_result_combo.to_csv(\"ai_predictions2_combo.csv\", columns=['tweet', 'emotion', 'confidence'], sep='|')"
   ],
   "outputs": [],
   "execution_count": 72
  },
  {
   "metadata": {
    "ExecuteTime": {
     "end_time": "2025-04-09T03:30:13.744514Z",
     "start_time": "2025-04-09T03:30:13.673946Z"
    }
   },
   "cell_type": "code",
   "source": [
    "ai_1_output_combo = pd.read_csv(\"ai_predictions1_combo.csv\", delimiter='|')\n",
    "\n",
    "emotion_counts = ai_1_output_combo['emotion'].value_counts()\n",
    "plt.figure(figsize=(8, 5))\n",
    "emotion_counts.plot(kind='bar', color='skyblue', edgecolor='black')\n",
    "plt.title(\"Count of Predictions per Emotion (Prompt 1)\")\n",
    "plt.xlabel(\"Emotion\")\n",
    "plt.ylabel(\"Count\")\n",
    "plt.xticks(rotation=45)\n",
    "plt.grid(axis='y', linestyle='--', alpha=0.7)\n",
    "plt.tight_layout()\n",
    "plt.show()"
   ],
   "outputs": [
    {
     "data": {
      "text/plain": [
       "<Figure size 800x500 with 1 Axes>"
      ],
      "image/png": "[encoded data removed]"
     },
     "metadata": {},
     "output_type": "display_data"
    }
   ],
   "execution_count": 73
  },
  {
   "metadata": {
    "ExecuteTime": {
     "end_time": "2025-04-09T04:16:54.066568Z",
     "start_time": "2025-04-09T04:16:53.988876Z"
    }
   },
   "cell_type": "code",
   "source": [
    "ai_2_output_combo = pd.read_csv(\"ai_predictions2_combo.csv\", delimiter='|')\n",
    "\n",
    "emotion_counts = ai_2_output_combo['emotion'].value_counts()\n",
    "plt.figure(figsize=(8, 5))\n",
    "emotion_counts.plot(kind='bar', color='salmon', edgecolor='black')\n",
    "plt.title(\"Count of Predictions per Emotion (Prompt 2)\")\n",
    "plt.xlabel(\"Emotion\")\n",
    "plt.ylabel(\"Count\")\n",
    "plt.xticks(rotation=45)\n",
    "plt.grid(axis='y', linestyle='--', alpha=0.7)\n",
    "plt.tight_layout()\n",
    "plt.show()"
   ],
   "outputs": [
    {
     "data": {
      "text/plain": [
       "<Figure size 800x500 with 1 Axes>"
      ],
      "image/png": "[encoded data removed]"
     },
     "metadata": {},
     "output_type": "display_data"
    }
   ],
   "execution_count": 82
  },
  {
   "metadata": {
    "ExecuteTime": {
     "end_time": "2025-04-09T03:30:13.870909Z",
     "start_time": "2025-04-09T03:30:13.866200Z"
    }
   },
   "cell_type": "code",
   "source": [
    "# Group by emotion and calculate average confidence\n",
    "avg_conf_1_combo = ai_1_output_combo.groupby('emotion')['confidence'].mean().sort_values(ascending=False)\n",
    "avg_conf_2_combo = ai_2_output_combo.groupby('emotion')['confidence'].mean().sort_values(ascending=False)\n",
    "\n",
    "print(\"Average Confidence per Emotion (Prompt 1):\\n\", avg_conf_1_combo)\n",
    "print(\"\\nAverage Confidence per Emotion (Prompt 2):\\n\", avg_conf_2_combo)\n"
   ],
   "outputs": [
    {
     "name": "stdout",
     "output_type": "stream",
     "text": [
      "Average Confidence per Emotion (Prompt 1):\n",
      " emotion\n",
      "disgust     0.984102\n",
      "neutral     0.975101\n",
      "surprise    0.950658\n",
      "fear        0.931004\n",
      "sadness     0.930242\n",
      "anger       0.892835\n",
      "Name: confidence, dtype: float64\n",
      "\n",
      "Average Confidence per Emotion (Prompt 2):\n",
      " emotion\n",
      "joy         0.977644\n",
      "neutral     0.973653\n",
      "sadness     0.940858\n",
      "fear        0.931484\n",
      "disgust     0.928605\n",
      "surprise    0.897843\n",
      "anger       0.628153\n",
      "Name: confidence, dtype: float64\n"
     ]
    }
   ],
   "execution_count": 75
  },
  {
   "metadata": {
    "ExecuteTime": {
     "end_time": "2025-04-09T03:30:13.900221Z",
     "start_time": "2025-04-09T03:30:13.896045Z"
    }
   },
   "cell_type": "code",
   "source": [
    "print(\"prompt 1:\\n\", prompt1_results['emotion'].value_counts(), '\\n')\n",
    "print(\"prompt 2: \\n\", prompt2_results['emotion'].value_counts())\n"
   ],
   "outputs": [
    {
     "name": "stdout",
     "output_type": "stream",
     "text": [
      "prompt 1:\n",
      " emotion\n",
      "neutral     689\n",
      "disgust     143\n",
      "surprise    139\n",
      "fear         20\n",
      "anger         8\n",
      "sadness       1\n",
      "Name: count, dtype: int64 \n",
      "\n",
      "prompt 2: \n",
      " emotion\n",
      "neutral     712\n",
      "surprise     88\n",
      "disgust      85\n",
      "fear         55\n",
      "sadness      15\n",
      "joy           3\n",
      "anger         2\n",
      "Name: count, dtype: int64\n"
     ]
    }
   ],
   "execution_count": 76
  },
  {
   "metadata": {},
   "cell_type": "markdown",
   "source": "J-heartmann results"
  },
  {
   "metadata": {
    "ExecuteTime": {
     "end_time": "2025-04-09T03:30:13.929622Z",
     "start_time": "2025-04-09T03:30:13.925449Z"
    }
   },
   "cell_type": "code",
   "source": [
    "\n",
    "prompt1_counts = prompt1_pred['label'].value_counts()\n",
    "prompt2_counts = prompt2_pred['label'].value_counts()\n",
    "\n",
    "print(\"Prompt 1 - Emotion Counts:\\n\", prompt1_counts, '\\n')\n",
    "print(\"Prompt 2 - Emotion Counts:\\n\", prompt2_counts)\n"
   ],
   "outputs": [
    {
     "name": "stdout",
     "output_type": "stream",
     "text": [
      "Prompt 1 - Emotion Counts:\n",
      " label\n",
      "neutral     573\n",
      "surprise    165\n",
      "joy         144\n",
      "sadness      70\n",
      "fear         24\n",
      "disgust      20\n",
      "anger         4\n",
      "Name: count, dtype: int64 \n",
      "\n",
      "Prompt 2 - Emotion Counts:\n",
      " label\n",
      "fear        551\n",
      "joy         227\n",
      "sadness      63\n",
      "surprise     62\n",
      "anger        46\n",
      "neutral      10\n",
      "disgust       1\n",
      "Name: count, dtype: int64\n"
     ]
    }
   ],
   "execution_count": 77
  },
  {
   "metadata": {},
   "cell_type": "markdown",
   "source": "Seems like the model is confidently wrong :("
  }
 ]
}
